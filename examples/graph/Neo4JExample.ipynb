{
 "cells": [
  {
   "metadata": {
    "collapsed": true,
    "ExecuteTime": {
     "end_time": "2024-11-26T07:14:40.641448Z",
     "start_time": "2024-11-26T07:14:40.067088Z"
    }
   },
   "cell_type": "code",
   "source": [
    "import rich\n",
    "from neomodel import db\n",
    "\n",
    "from mdmodels.graph import connect_to_neo4j, generate_neomodel"
   ],
   "id": "initial_id",
   "outputs": [],
   "execution_count": 1
  },
  {
   "metadata": {
    "ExecuteTime": {
     "end_time": "2024-11-26T07:14:41.300532Z",
     "start_time": "2024-11-26T07:14:41.097562Z"
    }
   },
   "cell_type": "code",
   "source": [
    "# Step 1: Connect to Neo4J\n",
    "connect_to_neo4j(\n",
    "    host=\"localhost\",\n",
    "    user=\"neo4j\",\n",
    "    password=\"12345678\",\n",
    "    port=7687\n",
    ")\n",
    "\n",
    "# Clear the database\n",
    "db.cypher_query(\"MATCH (n) DETACH DELETE n\")"
   ],
   "id": "35ace89cad538202",
   "outputs": [
    {
     "data": {
      "text/plain": [
       "([], [])"
      ]
     },
     "execution_count": 2,
     "metadata": {},
     "output_type": "execute_result"
    }
   ],
   "execution_count": 2
  },
  {
   "metadata": {
    "ExecuteTime": {
     "end_time": "2024-11-26T07:14:44.909262Z",
     "start_time": "2024-11-26T07:14:44.895532Z"
    }
   },
   "cell_type": "code",
   "source": [
    "# Step 2: Generate neomodel types\n",
    "types = generate_neomodel(path=\"model.md\")\n",
    "rich.print(types)"
   ],
   "id": "178bd9609b011d49",
   "outputs": [
    {
     "name": "stderr",
     "output_type": "stream",
     "text": [
      "/Users/janrange/Documents/playground/sdrdm/mdmodels/mdmodels/graph/create.py:96: UserWarning: Attribute 'id' is reserved and will be renamed to 'id_' to avoid conflicts.\n",
      "  warnings.warn(\n"
     ]
    },
    {
     "data": {
      "text/plain": [
       "\u001B[1m{\u001B[0m\n",
       "    \u001B[32m'ChemicalProject'\u001B[0m: \u001B[1m<\u001B[0m\u001B[1;95mclass\u001B[0m\u001B[39m \u001B[0m\u001B[32m'neomodel.sync_.core.ChemicalProject'\u001B[0m\u001B[39m>,\u001B[0m\n",
       "\u001B[39m    \u001B[0m\u001B[32m'Molecule'\u001B[0m\u001B[39m: <class \u001B[0m\u001B[32m'neomodel.sync_.core.Molecule'\u001B[0m\u001B[39m>,\u001B[0m\n",
       "\u001B[39m    \u001B[0m\u001B[32m'Experiment'\u001B[0m\u001B[39m: <class \u001B[0m\u001B[32m'neomodel.sync_.core.Experiment'\u001B[0m\u001B[39m>,\u001B[0m\n",
       "\u001B[39m    \u001B[0m\u001B[32m'Concentration'\u001B[0m\u001B[39m: <class \u001B[0m\u001B[32m'neomodel.sync_.core.Concentration'\u001B[0m\u001B[39m>,\u001B[0m\n",
       "\u001B[39m    \u001B[0m\u001B[32m'Reaction'\u001B[0m\u001B[39m: <class \u001B[0m\u001B[32m'neomodel.sync_.core.Reaction'\u001B[0m\u001B[39m>,\u001B[0m\n",
       "\u001B[39m    \u001B[0m\u001B[32m'Element'\u001B[0m\u001B[39m: <class \u001B[0m\u001B[32m'neomodel.sync_.core.Element'\u001B[0m\u001B[39m>,\u001B[0m\n",
       "\u001B[39m    \u001B[0m\u001B[32m'UnitDefinition'\u001B[0m\u001B[39m: <class \u001B[0m\u001B[32m'neomodel.sync_.core.UnitDefinition'\u001B[0m\u001B[39m>,\u001B[0m\n",
       "\u001B[39m    \u001B[0m\u001B[32m'BaseUnit'\u001B[0m\u001B[39m: <class \u001B[0m\u001B[32m'neomodel.sync_.core.BaseUnit'\u001B[0m\u001B[1m>\u001B[0m\n",
       "\u001B[1m}\u001B[0m\n"
      ],
      "text/html": [
       "<pre style=\"white-space:pre;overflow-x:auto;line-height:normal;font-family:Menlo,'DejaVu Sans Mono',consolas,'Courier New',monospace\"><span style=\"font-weight: bold\">{</span>\n",
       "    <span style=\"color: #008000; text-decoration-color: #008000\">'ChemicalProject'</span>: <span style=\"font-weight: bold\">&lt;</span><span style=\"color: #ff00ff; text-decoration-color: #ff00ff; font-weight: bold\">class</span><span style=\"color: #000000; text-decoration-color: #000000\"> </span><span style=\"color: #008000; text-decoration-color: #008000\">'neomodel.sync_.core.ChemicalProject'</span><span style=\"color: #000000; text-decoration-color: #000000\">&gt;,</span>\n",
       "<span style=\"color: #000000; text-decoration-color: #000000\">    </span><span style=\"color: #008000; text-decoration-color: #008000\">'Molecule'</span><span style=\"color: #000000; text-decoration-color: #000000\">: &lt;class </span><span style=\"color: #008000; text-decoration-color: #008000\">'neomodel.sync_.core.Molecule'</span><span style=\"color: #000000; text-decoration-color: #000000\">&gt;,</span>\n",
       "<span style=\"color: #000000; text-decoration-color: #000000\">    </span><span style=\"color: #008000; text-decoration-color: #008000\">'Experiment'</span><span style=\"color: #000000; text-decoration-color: #000000\">: &lt;class </span><span style=\"color: #008000; text-decoration-color: #008000\">'neomodel.sync_.core.Experiment'</span><span style=\"color: #000000; text-decoration-color: #000000\">&gt;,</span>\n",
       "<span style=\"color: #000000; text-decoration-color: #000000\">    </span><span style=\"color: #008000; text-decoration-color: #008000\">'Concentration'</span><span style=\"color: #000000; text-decoration-color: #000000\">: &lt;class </span><span style=\"color: #008000; text-decoration-color: #008000\">'neomodel.sync_.core.Concentration'</span><span style=\"color: #000000; text-decoration-color: #000000\">&gt;,</span>\n",
       "<span style=\"color: #000000; text-decoration-color: #000000\">    </span><span style=\"color: #008000; text-decoration-color: #008000\">'Reaction'</span><span style=\"color: #000000; text-decoration-color: #000000\">: &lt;class </span><span style=\"color: #008000; text-decoration-color: #008000\">'neomodel.sync_.core.Reaction'</span><span style=\"color: #000000; text-decoration-color: #000000\">&gt;,</span>\n",
       "<span style=\"color: #000000; text-decoration-color: #000000\">    </span><span style=\"color: #008000; text-decoration-color: #008000\">'Element'</span><span style=\"color: #000000; text-decoration-color: #000000\">: &lt;class </span><span style=\"color: #008000; text-decoration-color: #008000\">'neomodel.sync_.core.Element'</span><span style=\"color: #000000; text-decoration-color: #000000\">&gt;,</span>\n",
       "<span style=\"color: #000000; text-decoration-color: #000000\">    </span><span style=\"color: #008000; text-decoration-color: #008000\">'UnitDefinition'</span><span style=\"color: #000000; text-decoration-color: #000000\">: &lt;class </span><span style=\"color: #008000; text-decoration-color: #008000\">'neomodel.sync_.core.UnitDefinition'</span><span style=\"color: #000000; text-decoration-color: #000000\">&gt;,</span>\n",
       "<span style=\"color: #000000; text-decoration-color: #000000\">    </span><span style=\"color: #008000; text-decoration-color: #008000\">'BaseUnit'</span><span style=\"color: #000000; text-decoration-color: #000000\">: &lt;class </span><span style=\"color: #008000; text-decoration-color: #008000\">'neomodel.sync_.core.BaseUnit'</span><span style=\"font-weight: bold\">&gt;</span>\n",
       "<span style=\"font-weight: bold\">}</span>\n",
       "</pre>\n"
      ]
     },
     "metadata": {},
     "output_type": "display_data"
    }
   ],
   "execution_count": 3
  },
  {
   "metadata": {
    "ExecuteTime": {
     "end_time": "2024-11-26T07:14:45.991657Z",
     "start_time": "2024-11-26T07:14:45.932131Z"
    }
   },
   "cell_type": "code",
   "source": [
    "# Step 3: Create a new node\n",
    "Molecule = types[\"Molecule\"]\n",
    "Reaction = types[\"Reaction\"]\n",
    "\n",
    "reaction = Reaction(name=\"Reaction\").save()\n",
    "substrate = Molecule(identifier=\"Substrate\", name=\"Substrate\").save()\n",
    "product = Molecule(identifier=\"Product\", name=\"Product\").save()"
   ],
   "id": "1ffbf53b7e053a50",
   "outputs": [],
   "execution_count": 4
  },
  {
   "metadata": {
    "ExecuteTime": {
     "end_time": "2024-11-26T07:14:48.695142Z",
     "start_time": "2024-11-26T07:14:48.651362Z"
    }
   },
   "cell_type": "code",
   "source": [
    "# Step 4: Create a relationship\n",
    "reaction.educts.connect(substrate)\n",
    "reaction.products.connect(product)"
   ],
   "id": "4c0625ecfa2c8fdd",
   "outputs": [
    {
     "data": {
      "text/plain": [
       "True"
      ]
     },
     "execution_count": 5,
     "metadata": {},
     "output_type": "execute_result"
    }
   ],
   "execution_count": 5
  },
  {
   "metadata": {
    "ExecuteTime": {
     "end_time": "2024-11-26T07:14:50.871728Z",
     "start_time": "2024-11-26T07:14:50.833825Z"
    }
   },
   "cell_type": "code",
   "source": [
    "# Step 4: Add out of schema relationship\n",
    "reaction_2 = Reaction(name=\"Related Reaction\").save()\n",
    "\n",
    "reaction.dyn_connect(reaction_2, \"RELATED\", {\"has_same_kinetics\": True})"
   ],
   "id": "c68896c1abf00dbd",
   "outputs": [],
   "execution_count": 6
  },
  {
   "metadata": {
    "ExecuteTime": {
     "end_time": "2024-11-26T07:15:17.690955Z",
     "start_time": "2024-11-26T07:15:17.626640Z"
    }
   },
   "cell_type": "code",
   "source": [
    "# Step 5: Query the database\n",
    "reaction = Reaction.nodes.first()\n",
    "\n",
    "# Display all relationships (in schema)\n",
    "rich.print(reaction.educts.all())\n",
    "\n",
    "# Display all relationships (including out of schema)\n",
    "rich.print(reaction.get_relationships())"
   ],
   "id": "92a9bc4733494a5e",
   "outputs": [
    {
     "data": {
      "text/plain": [
       "\u001B[1m[\u001B[0m\n",
       "    \u001B[1m<\u001B[0m\u001B[1;95mMolecule:\u001B[0m\u001B[39m \u001B[0m\u001B[1;39m{\u001B[0m\u001B[32m'id_'\u001B[0m\u001B[39m: \u001B[0m\u001B[3;35mNone\u001B[0m\u001B[39m, \u001B[0m\u001B[32m'name'\u001B[0m\u001B[39m: \u001B[0m\u001B[32m'Substrate'\u001B[0m\u001B[39m, \u001B[0m\u001B[32m'formula'\u001B[0m\u001B[39m: \u001B[0m\u001B[3;35mNone\u001B[0m\u001B[39m, \u001B[0m\u001B[32m'element_id_property'\u001B[0m\u001B[39m: \u001B[0m\n",
       "\u001B[32m'4:886c4171-80d6-4dd4-ad0b-a1f24ac30557:1'\u001B[0m\u001B[1;39m}\u001B[0m\u001B[1m>\u001B[0m\n",
       "\u001B[1m]\u001B[0m\n"
      ],
      "text/html": [
       "<pre style=\"white-space:pre;overflow-x:auto;line-height:normal;font-family:Menlo,'DejaVu Sans Mono',consolas,'Courier New',monospace\"><span style=\"font-weight: bold\">[</span>\n",
       "    <span style=\"font-weight: bold\">&lt;</span><span style=\"color: #ff00ff; text-decoration-color: #ff00ff; font-weight: bold\">Molecule:</span><span style=\"color: #000000; text-decoration-color: #000000\"> </span><span style=\"color: #000000; text-decoration-color: #000000; font-weight: bold\">{</span><span style=\"color: #008000; text-decoration-color: #008000\">'id_'</span><span style=\"color: #000000; text-decoration-color: #000000\">: </span><span style=\"color: #800080; text-decoration-color: #800080; font-style: italic\">None</span><span style=\"color: #000000; text-decoration-color: #000000\">, </span><span style=\"color: #008000; text-decoration-color: #008000\">'name'</span><span style=\"color: #000000; text-decoration-color: #000000\">: </span><span style=\"color: #008000; text-decoration-color: #008000\">'Substrate'</span><span style=\"color: #000000; text-decoration-color: #000000\">, </span><span style=\"color: #008000; text-decoration-color: #008000\">'formula'</span><span style=\"color: #000000; text-decoration-color: #000000\">: </span><span style=\"color: #800080; text-decoration-color: #800080; font-style: italic\">None</span><span style=\"color: #000000; text-decoration-color: #000000\">, </span><span style=\"color: #008000; text-decoration-color: #008000\">'element_id_property'</span><span style=\"color: #000000; text-decoration-color: #000000\">: </span>\n",
       "<span style=\"color: #008000; text-decoration-color: #008000\">'4:886c4171-80d6-4dd4-ad0b-a1f24ac30557:1'</span><span style=\"color: #000000; text-decoration-color: #000000; font-weight: bold\">}</span><span style=\"font-weight: bold\">&gt;</span>\n",
       "<span style=\"font-weight: bold\">]</span>\n",
       "</pre>\n"
      ]
     },
     "metadata": {},
     "output_type": "display_data"
    },
    {
     "data": {
      "text/plain": [
       "\u001B[1m[\u001B[0m\n",
       "    \u001B[1m(\u001B[0m\n",
       "        \u001B[1m<\u001B[0m\u001B[1;95mReaction:\u001B[0m\u001B[39m \u001B[0m\u001B[1;39m{\u001B[0m\u001B[32m'id_'\u001B[0m\u001B[39m: \u001B[0m\u001B[3;35mNone\u001B[0m\u001B[39m, \u001B[0m\u001B[32m'name'\u001B[0m\u001B[39m: \u001B[0m\u001B[32m'Reaction'\u001B[0m\u001B[39m, \u001B[0m\u001B[32m'element_id_property'\u001B[0m\u001B[39m: \u001B[0m\n",
       "\u001B[32m'4:886c4171-80d6-4dd4-ad0b-a1f24ac30557:0'\u001B[0m\u001B[1;39m}\u001B[0m\u001B[39m>,\u001B[0m\n",
       "\u001B[39m        <Relationship \u001B[0m\u001B[33melement_id\u001B[0m\u001B[39m=\u001B[0m\u001B[32m'5:886c4171-80d6-4dd4-ad0b-a1f24ac30557:0'\u001B[0m\u001B[39m \u001B[0m\u001B[33mnodes\u001B[0m\u001B[39m=\u001B[0m\u001B[1;39m(\u001B[0m\u001B[39m<Node \u001B[0m\n",
       "\u001B[33melement_id\u001B[0m\u001B[39m=\u001B[0m\u001B[32m'4:886c4171-80d6-4dd4-ad0b-a1f24ac30557:0'\u001B[0m\u001B[39m \u001B[0m\u001B[33mlabels\u001B[0m\u001B[39m=\u001B[0m\u001B[1;35mfrozenset\u001B[0m\u001B[1;39m(\u001B[0m\u001B[1;39m)\u001B[0m\u001B[39m \u001B[0m\u001B[33mproperties\u001B[0m\u001B[39m=\u001B[0m\u001B[1;39m{\u001B[0m\u001B[1;39m}\u001B[0m\u001B[39m>, <Node \u001B[0m\n",
       "\u001B[33melement_id\u001B[0m\u001B[39m=\u001B[0m\u001B[32m'4:886c4171-80d6-4dd4-ad0b-a1f24ac30557:1'\u001B[0m\u001B[39m \u001B[0m\u001B[33mlabels\u001B[0m\u001B[39m=\u001B[0m\u001B[1;35mfrozenset\u001B[0m\u001B[1;39m(\u001B[0m\u001B[1;39m{\u001B[0m\u001B[32m'Molecule'\u001B[0m\u001B[1;39m}\u001B[0m\u001B[1;39m)\u001B[0m\u001B[39m \u001B[0m\u001B[33mproperties\u001B[0m\u001B[39m=\u001B[0m\u001B[1;39m{\u001B[0m\u001B[32m'name'\u001B[0m\u001B[39m: \u001B[0m\n",
       "\u001B[32m'Substrate'\u001B[0m\u001B[1;39m}\u001B[0m\u001B[39m>\u001B[0m\u001B[1;39m)\u001B[0m\u001B[39m \u001B[0m\u001B[33mtype\u001B[0m\u001B[39m=\u001B[0m\u001B[32m'CONSUMES'\u001B[0m\u001B[39m \u001B[0m\u001B[33mproperties\u001B[0m\u001B[39m=\u001B[0m\u001B[1;39m{\u001B[0m\u001B[1;39m}\u001B[0m\u001B[39m>,\u001B[0m\n",
       "\u001B[39m        <Node \u001B[0m\u001B[33melement_id\u001B[0m\u001B[39m=\u001B[0m\u001B[32m'4:886c4171-80d6-4dd4-ad0b-a1f24ac30557:1'\u001B[0m\u001B[39m \u001B[0m\u001B[33mlabels\u001B[0m\u001B[39m=\u001B[0m\u001B[1;35mfrozenset\u001B[0m\u001B[1;39m(\u001B[0m\u001B[1;39m{\u001B[0m\u001B[32m'Molecule'\u001B[0m\u001B[1;39m}\u001B[0m\u001B[1;39m)\u001B[0m\u001B[39m \u001B[0m\n",
       "\u001B[33mproperties\u001B[0m\u001B[39m=\u001B[0m\u001B[1;39m{\u001B[0m\u001B[32m'name'\u001B[0m\u001B[39m: \u001B[0m\u001B[32m'Substrate'\u001B[0m\u001B[1;39m}\u001B[0m\u001B[39m>\u001B[0m\n",
       "\u001B[39m    \u001B[0m\u001B[1;39m)\u001B[0m\u001B[39m,\u001B[0m\n",
       "\u001B[39m    \u001B[0m\u001B[1;39m(\u001B[0m\n",
       "\u001B[39m        <Reaction: \u001B[0m\u001B[1;39m{\u001B[0m\u001B[32m'id_'\u001B[0m\u001B[39m: \u001B[0m\u001B[3;35mNone\u001B[0m\u001B[39m, \u001B[0m\u001B[32m'name'\u001B[0m\u001B[39m: \u001B[0m\u001B[32m'Reaction'\u001B[0m\u001B[39m, \u001B[0m\u001B[32m'element_id_property'\u001B[0m\u001B[39m: \u001B[0m\n",
       "\u001B[32m'4:886c4171-80d6-4dd4-ad0b-a1f24ac30557:0'\u001B[0m\u001B[1;39m}\u001B[0m\u001B[39m>,\u001B[0m\n",
       "\u001B[39m        <Relationship \u001B[0m\u001B[33melement_id\u001B[0m\u001B[39m=\u001B[0m\u001B[32m'5:886c4171-80d6-4dd4-ad0b-a1f24ac30557:1'\u001B[0m\u001B[39m \u001B[0m\u001B[33mnodes\u001B[0m\u001B[39m=\u001B[0m\u001B[1;39m(\u001B[0m\u001B[39m<Node \u001B[0m\n",
       "\u001B[33melement_id\u001B[0m\u001B[39m=\u001B[0m\u001B[32m'4:886c4171-80d6-4dd4-ad0b-a1f24ac30557:0'\u001B[0m\u001B[39m \u001B[0m\u001B[33mlabels\u001B[0m\u001B[39m=\u001B[0m\u001B[1;35mfrozenset\u001B[0m\u001B[1;39m(\u001B[0m\u001B[1;39m)\u001B[0m\u001B[39m \u001B[0m\u001B[33mproperties\u001B[0m\u001B[39m=\u001B[0m\u001B[1;39m{\u001B[0m\u001B[1;39m}\u001B[0m\u001B[39m>, <Node \u001B[0m\n",
       "\u001B[33melement_id\u001B[0m\u001B[39m=\u001B[0m\u001B[32m'4:886c4171-80d6-4dd4-ad0b-a1f24ac30557:2'\u001B[0m\u001B[39m \u001B[0m\u001B[33mlabels\u001B[0m\u001B[39m=\u001B[0m\u001B[1;35mfrozenset\u001B[0m\u001B[1;39m(\u001B[0m\u001B[1;39m{\u001B[0m\u001B[32m'Molecule'\u001B[0m\u001B[1;39m}\u001B[0m\u001B[1;39m)\u001B[0m\u001B[39m \u001B[0m\u001B[33mproperties\u001B[0m\u001B[39m=\u001B[0m\u001B[1;39m{\u001B[0m\u001B[32m'name'\u001B[0m\u001B[39m: \u001B[0m\n",
       "\u001B[32m'Product'\u001B[0m\u001B[1;39m}\u001B[0m\u001B[39m>\u001B[0m\u001B[1;39m)\u001B[0m\u001B[39m \u001B[0m\u001B[33mtype\u001B[0m\u001B[39m=\u001B[0m\u001B[32m'PRODUCES'\u001B[0m\u001B[39m \u001B[0m\u001B[33mproperties\u001B[0m\u001B[39m=\u001B[0m\u001B[1;39m{\u001B[0m\u001B[1;39m}\u001B[0m\u001B[39m>,\u001B[0m\n",
       "\u001B[39m        <Node \u001B[0m\u001B[33melement_id\u001B[0m\u001B[39m=\u001B[0m\u001B[32m'4:886c4171-80d6-4dd4-ad0b-a1f24ac30557:2'\u001B[0m\u001B[39m \u001B[0m\u001B[33mlabels\u001B[0m\u001B[39m=\u001B[0m\u001B[1;35mfrozenset\u001B[0m\u001B[1;39m(\u001B[0m\u001B[1;39m{\u001B[0m\u001B[32m'Molecule'\u001B[0m\u001B[1;39m}\u001B[0m\u001B[1;39m)\u001B[0m\u001B[39m \u001B[0m\n",
       "\u001B[33mproperties\u001B[0m\u001B[39m=\u001B[0m\u001B[1;39m{\u001B[0m\u001B[32m'name'\u001B[0m\u001B[39m: \u001B[0m\u001B[32m'Product'\u001B[0m\u001B[1;39m}\u001B[0m\u001B[39m>\u001B[0m\n",
       "\u001B[39m    \u001B[0m\u001B[1;39m)\u001B[0m\u001B[39m,\u001B[0m\n",
       "\u001B[39m    \u001B[0m\u001B[1;39m(\u001B[0m\n",
       "\u001B[39m        <Reaction: \u001B[0m\u001B[1;39m{\u001B[0m\u001B[32m'id_'\u001B[0m\u001B[39m: \u001B[0m\u001B[3;35mNone\u001B[0m\u001B[39m, \u001B[0m\u001B[32m'name'\u001B[0m\u001B[39m: \u001B[0m\u001B[32m'Reaction'\u001B[0m\u001B[39m, \u001B[0m\u001B[32m'element_id_property'\u001B[0m\u001B[39m: \u001B[0m\n",
       "\u001B[32m'4:886c4171-80d6-4dd4-ad0b-a1f24ac30557:0'\u001B[0m\u001B[1;39m}\u001B[0m\u001B[39m>,\u001B[0m\n",
       "\u001B[39m        <Relationship \u001B[0m\u001B[33melement_id\u001B[0m\u001B[39m=\u001B[0m\u001B[32m'5:886c4171-80d6-4dd4-ad0b-a1f24ac30557:2'\u001B[0m\u001B[39m \u001B[0m\u001B[33mnodes\u001B[0m\u001B[39m=\u001B[0m\u001B[1;39m(\u001B[0m\u001B[39m<Node \u001B[0m\n",
       "\u001B[33melement_id\u001B[0m\u001B[39m=\u001B[0m\u001B[32m'4:886c4171-80d6-4dd4-ad0b-a1f24ac30557:0'\u001B[0m\u001B[39m \u001B[0m\u001B[33mlabels\u001B[0m\u001B[39m=\u001B[0m\u001B[1;35mfrozenset\u001B[0m\u001B[1;39m(\u001B[0m\u001B[1;39m)\u001B[0m\u001B[39m \u001B[0m\u001B[33mproperties\u001B[0m\u001B[39m=\u001B[0m\u001B[1;39m{\u001B[0m\u001B[1;39m}\u001B[0m\u001B[39m>, <Node \u001B[0m\n",
       "\u001B[33melement_id\u001B[0m\u001B[39m=\u001B[0m\u001B[32m'4:886c4171-80d6-4dd4-ad0b-a1f24ac30557:3'\u001B[0m\u001B[39m \u001B[0m\u001B[33mlabels\u001B[0m\u001B[39m=\u001B[0m\u001B[1;35mfrozenset\u001B[0m\u001B[1;39m(\u001B[0m\u001B[1;39m{\u001B[0m\u001B[32m'Reaction'\u001B[0m\u001B[1;39m}\u001B[0m\u001B[1;39m)\u001B[0m\u001B[39m \u001B[0m\u001B[33mproperties\u001B[0m\u001B[39m=\u001B[0m\u001B[1;39m{\u001B[0m\u001B[32m'name'\u001B[0m\u001B[39m: \u001B[0m\u001B[32m'Related \u001B[0m\n",
       "\u001B[32mReaction'\u001B[0m\u001B[1;39m}\u001B[0m\u001B[39m>\u001B[0m\u001B[1;39m)\u001B[0m\u001B[39m \u001B[0m\u001B[33mtype\u001B[0m\u001B[39m=\u001B[0m\u001B[32m'RELATED'\u001B[0m\u001B[39m \u001B[0m\u001B[33mproperties\u001B[0m\u001B[39m=\u001B[0m\u001B[1;39m{\u001B[0m\u001B[32m'has_same_kinetics'\u001B[0m\u001B[39m: \u001B[0m\u001B[3;92mTrue\u001B[0m\u001B[1;39m}\u001B[0m\u001B[39m>,\u001B[0m\n",
       "\u001B[39m        <Node \u001B[0m\u001B[33melement_id\u001B[0m\u001B[39m=\u001B[0m\u001B[32m'4:886c4171-80d6-4dd4-ad0b-a1f24ac30557:3'\u001B[0m\u001B[39m \u001B[0m\u001B[33mlabels\u001B[0m\u001B[39m=\u001B[0m\u001B[1;35mfrozenset\u001B[0m\u001B[1;39m(\u001B[0m\u001B[1;39m{\u001B[0m\u001B[32m'Reaction'\u001B[0m\u001B[1;39m}\u001B[0m\u001B[1;39m)\u001B[0m\u001B[39m \u001B[0m\n",
       "\u001B[33mproperties\u001B[0m\u001B[39m=\u001B[0m\u001B[1;39m{\u001B[0m\u001B[32m'name'\u001B[0m\u001B[39m: \u001B[0m\u001B[32m'Related Reaction'\u001B[0m\u001B[1;39m}\u001B[0m\u001B[1m>\u001B[0m\n",
       "    \u001B[1m)\u001B[0m\n",
       "\u001B[1m]\u001B[0m\n"
      ],
      "text/html": [
       "<pre style=\"white-space:pre;overflow-x:auto;line-height:normal;font-family:Menlo,'DejaVu Sans Mono',consolas,'Courier New',monospace\"><span style=\"font-weight: bold\">[</span>\n",
       "    <span style=\"font-weight: bold\">(</span>\n",
       "        <span style=\"font-weight: bold\">&lt;</span><span style=\"color: #ff00ff; text-decoration-color: #ff00ff; font-weight: bold\">Reaction:</span><span style=\"color: #000000; text-decoration-color: #000000\"> </span><span style=\"color: #000000; text-decoration-color: #000000; font-weight: bold\">{</span><span style=\"color: #008000; text-decoration-color: #008000\">'id_'</span><span style=\"color: #000000; text-decoration-color: #000000\">: </span><span style=\"color: #800080; text-decoration-color: #800080; font-style: italic\">None</span><span style=\"color: #000000; text-decoration-color: #000000\">, </span><span style=\"color: #008000; text-decoration-color: #008000\">'name'</span><span style=\"color: #000000; text-decoration-color: #000000\">: </span><span style=\"color: #008000; text-decoration-color: #008000\">'Reaction'</span><span style=\"color: #000000; text-decoration-color: #000000\">, </span><span style=\"color: #008000; text-decoration-color: #008000\">'element_id_property'</span><span style=\"color: #000000; text-decoration-color: #000000\">: </span>\n",
       "<span style=\"color: #008000; text-decoration-color: #008000\">'4:886c4171-80d6-4dd4-ad0b-a1f24ac30557:0'</span><span style=\"color: #000000; text-decoration-color: #000000; font-weight: bold\">}</span><span style=\"color: #000000; text-decoration-color: #000000\">&gt;,</span>\n",
       "<span style=\"color: #000000; text-decoration-color: #000000\">        &lt;Relationship </span><span style=\"color: #808000; text-decoration-color: #808000\">element_id</span><span style=\"color: #000000; text-decoration-color: #000000\">=</span><span style=\"color: #008000; text-decoration-color: #008000\">'5:886c4171-80d6-4dd4-ad0b-a1f24ac30557:0'</span><span style=\"color: #000000; text-decoration-color: #000000\"> </span><span style=\"color: #808000; text-decoration-color: #808000\">nodes</span><span style=\"color: #000000; text-decoration-color: #000000\">=</span><span style=\"color: #000000; text-decoration-color: #000000; font-weight: bold\">(</span><span style=\"color: #000000; text-decoration-color: #000000\">&lt;Node </span>\n",
       "<span style=\"color: #808000; text-decoration-color: #808000\">element_id</span><span style=\"color: #000000; text-decoration-color: #000000\">=</span><span style=\"color: #008000; text-decoration-color: #008000\">'4:886c4171-80d6-4dd4-ad0b-a1f24ac30557:0'</span><span style=\"color: #000000; text-decoration-color: #000000\"> </span><span style=\"color: #808000; text-decoration-color: #808000\">labels</span><span style=\"color: #000000; text-decoration-color: #000000\">=</span><span style=\"color: #800080; text-decoration-color: #800080; font-weight: bold\">frozenset</span><span style=\"color: #000000; text-decoration-color: #000000; font-weight: bold\">()</span><span style=\"color: #000000; text-decoration-color: #000000\"> </span><span style=\"color: #808000; text-decoration-color: #808000\">properties</span><span style=\"color: #000000; text-decoration-color: #000000\">=</span><span style=\"color: #000000; text-decoration-color: #000000; font-weight: bold\">{}</span><span style=\"color: #000000; text-decoration-color: #000000\">&gt;, &lt;Node </span>\n",
       "<span style=\"color: #808000; text-decoration-color: #808000\">element_id</span><span style=\"color: #000000; text-decoration-color: #000000\">=</span><span style=\"color: #008000; text-decoration-color: #008000\">'4:886c4171-80d6-4dd4-ad0b-a1f24ac30557:1'</span><span style=\"color: #000000; text-decoration-color: #000000\"> </span><span style=\"color: #808000; text-decoration-color: #808000\">labels</span><span style=\"color: #000000; text-decoration-color: #000000\">=</span><span style=\"color: #800080; text-decoration-color: #800080; font-weight: bold\">frozenset</span><span style=\"color: #000000; text-decoration-color: #000000; font-weight: bold\">({</span><span style=\"color: #008000; text-decoration-color: #008000\">'Molecule'</span><span style=\"color: #000000; text-decoration-color: #000000; font-weight: bold\">})</span><span style=\"color: #000000; text-decoration-color: #000000\"> </span><span style=\"color: #808000; text-decoration-color: #808000\">properties</span><span style=\"color: #000000; text-decoration-color: #000000\">=</span><span style=\"color: #000000; text-decoration-color: #000000; font-weight: bold\">{</span><span style=\"color: #008000; text-decoration-color: #008000\">'name'</span><span style=\"color: #000000; text-decoration-color: #000000\">: </span>\n",
       "<span style=\"color: #008000; text-decoration-color: #008000\">'Substrate'</span><span style=\"color: #000000; text-decoration-color: #000000; font-weight: bold\">}</span><span style=\"color: #000000; text-decoration-color: #000000\">&gt;</span><span style=\"color: #000000; text-decoration-color: #000000; font-weight: bold\">)</span><span style=\"color: #000000; text-decoration-color: #000000\"> </span><span style=\"color: #808000; text-decoration-color: #808000\">type</span><span style=\"color: #000000; text-decoration-color: #000000\">=</span><span style=\"color: #008000; text-decoration-color: #008000\">'CONSUMES'</span><span style=\"color: #000000; text-decoration-color: #000000\"> </span><span style=\"color: #808000; text-decoration-color: #808000\">properties</span><span style=\"color: #000000; text-decoration-color: #000000\">=</span><span style=\"color: #000000; text-decoration-color: #000000; font-weight: bold\">{}</span><span style=\"color: #000000; text-decoration-color: #000000\">&gt;,</span>\n",
       "<span style=\"color: #000000; text-decoration-color: #000000\">        &lt;Node </span><span style=\"color: #808000; text-decoration-color: #808000\">element_id</span><span style=\"color: #000000; text-decoration-color: #000000\">=</span><span style=\"color: #008000; text-decoration-color: #008000\">'4:886c4171-80d6-4dd4-ad0b-a1f24ac30557:1'</span><span style=\"color: #000000; text-decoration-color: #000000\"> </span><span style=\"color: #808000; text-decoration-color: #808000\">labels</span><span style=\"color: #000000; text-decoration-color: #000000\">=</span><span style=\"color: #800080; text-decoration-color: #800080; font-weight: bold\">frozenset</span><span style=\"color: #000000; text-decoration-color: #000000; font-weight: bold\">({</span><span style=\"color: #008000; text-decoration-color: #008000\">'Molecule'</span><span style=\"color: #000000; text-decoration-color: #000000; font-weight: bold\">})</span><span style=\"color: #000000; text-decoration-color: #000000\"> </span>\n",
       "<span style=\"color: #808000; text-decoration-color: #808000\">properties</span><span style=\"color: #000000; text-decoration-color: #000000\">=</span><span style=\"color: #000000; text-decoration-color: #000000; font-weight: bold\">{</span><span style=\"color: #008000; text-decoration-color: #008000\">'name'</span><span style=\"color: #000000; text-decoration-color: #000000\">: </span><span style=\"color: #008000; text-decoration-color: #008000\">'Substrate'</span><span style=\"color: #000000; text-decoration-color: #000000; font-weight: bold\">}</span><span style=\"color: #000000; text-decoration-color: #000000\">&gt;</span>\n",
       "<span style=\"color: #000000; text-decoration-color: #000000\">    </span><span style=\"color: #000000; text-decoration-color: #000000; font-weight: bold\">)</span><span style=\"color: #000000; text-decoration-color: #000000\">,</span>\n",
       "<span style=\"color: #000000; text-decoration-color: #000000\">    </span><span style=\"color: #000000; text-decoration-color: #000000; font-weight: bold\">(</span>\n",
       "<span style=\"color: #000000; text-decoration-color: #000000\">        &lt;Reaction: </span><span style=\"color: #000000; text-decoration-color: #000000; font-weight: bold\">{</span><span style=\"color: #008000; text-decoration-color: #008000\">'id_'</span><span style=\"color: #000000; text-decoration-color: #000000\">: </span><span style=\"color: #800080; text-decoration-color: #800080; font-style: italic\">None</span><span style=\"color: #000000; text-decoration-color: #000000\">, </span><span style=\"color: #008000; text-decoration-color: #008000\">'name'</span><span style=\"color: #000000; text-decoration-color: #000000\">: </span><span style=\"color: #008000; text-decoration-color: #008000\">'Reaction'</span><span style=\"color: #000000; text-decoration-color: #000000\">, </span><span style=\"color: #008000; text-decoration-color: #008000\">'element_id_property'</span><span style=\"color: #000000; text-decoration-color: #000000\">: </span>\n",
       "<span style=\"color: #008000; text-decoration-color: #008000\">'4:886c4171-80d6-4dd4-ad0b-a1f24ac30557:0'</span><span style=\"color: #000000; text-decoration-color: #000000; font-weight: bold\">}</span><span style=\"color: #000000; text-decoration-color: #000000\">&gt;,</span>\n",
       "<span style=\"color: #000000; text-decoration-color: #000000\">        &lt;Relationship </span><span style=\"color: #808000; text-decoration-color: #808000\">element_id</span><span style=\"color: #000000; text-decoration-color: #000000\">=</span><span style=\"color: #008000; text-decoration-color: #008000\">'5:886c4171-80d6-4dd4-ad0b-a1f24ac30557:1'</span><span style=\"color: #000000; text-decoration-color: #000000\"> </span><span style=\"color: #808000; text-decoration-color: #808000\">nodes</span><span style=\"color: #000000; text-decoration-color: #000000\">=</span><span style=\"color: #000000; text-decoration-color: #000000; font-weight: bold\">(</span><span style=\"color: #000000; text-decoration-color: #000000\">&lt;Node </span>\n",
       "<span style=\"color: #808000; text-decoration-color: #808000\">element_id</span><span style=\"color: #000000; text-decoration-color: #000000\">=</span><span style=\"color: #008000; text-decoration-color: #008000\">'4:886c4171-80d6-4dd4-ad0b-a1f24ac30557:0'</span><span style=\"color: #000000; text-decoration-color: #000000\"> </span><span style=\"color: #808000; text-decoration-color: #808000\">labels</span><span style=\"color: #000000; text-decoration-color: #000000\">=</span><span style=\"color: #800080; text-decoration-color: #800080; font-weight: bold\">frozenset</span><span style=\"color: #000000; text-decoration-color: #000000; font-weight: bold\">()</span><span style=\"color: #000000; text-decoration-color: #000000\"> </span><span style=\"color: #808000; text-decoration-color: #808000\">properties</span><span style=\"color: #000000; text-decoration-color: #000000\">=</span><span style=\"color: #000000; text-decoration-color: #000000; font-weight: bold\">{}</span><span style=\"color: #000000; text-decoration-color: #000000\">&gt;, &lt;Node </span>\n",
       "<span style=\"color: #808000; text-decoration-color: #808000\">element_id</span><span style=\"color: #000000; text-decoration-color: #000000\">=</span><span style=\"color: #008000; text-decoration-color: #008000\">'4:886c4171-80d6-4dd4-ad0b-a1f24ac30557:2'</span><span style=\"color: #000000; text-decoration-color: #000000\"> </span><span style=\"color: #808000; text-decoration-color: #808000\">labels</span><span style=\"color: #000000; text-decoration-color: #000000\">=</span><span style=\"color: #800080; text-decoration-color: #800080; font-weight: bold\">frozenset</span><span style=\"color: #000000; text-decoration-color: #000000; font-weight: bold\">({</span><span style=\"color: #008000; text-decoration-color: #008000\">'Molecule'</span><span style=\"color: #000000; text-decoration-color: #000000; font-weight: bold\">})</span><span style=\"color: #000000; text-decoration-color: #000000\"> </span><span style=\"color: #808000; text-decoration-color: #808000\">properties</span><span style=\"color: #000000; text-decoration-color: #000000\">=</span><span style=\"color: #000000; text-decoration-color: #000000; font-weight: bold\">{</span><span style=\"color: #008000; text-decoration-color: #008000\">'name'</span><span style=\"color: #000000; text-decoration-color: #000000\">: </span>\n",
       "<span style=\"color: #008000; text-decoration-color: #008000\">'Product'</span><span style=\"color: #000000; text-decoration-color: #000000; font-weight: bold\">}</span><span style=\"color: #000000; text-decoration-color: #000000\">&gt;</span><span style=\"color: #000000; text-decoration-color: #000000; font-weight: bold\">)</span><span style=\"color: #000000; text-decoration-color: #000000\"> </span><span style=\"color: #808000; text-decoration-color: #808000\">type</span><span style=\"color: #000000; text-decoration-color: #000000\">=</span><span style=\"color: #008000; text-decoration-color: #008000\">'PRODUCES'</span><span style=\"color: #000000; text-decoration-color: #000000\"> </span><span style=\"color: #808000; text-decoration-color: #808000\">properties</span><span style=\"color: #000000; text-decoration-color: #000000\">=</span><span style=\"color: #000000; text-decoration-color: #000000; font-weight: bold\">{}</span><span style=\"color: #000000; text-decoration-color: #000000\">&gt;,</span>\n",
       "<span style=\"color: #000000; text-decoration-color: #000000\">        &lt;Node </span><span style=\"color: #808000; text-decoration-color: #808000\">element_id</span><span style=\"color: #000000; text-decoration-color: #000000\">=</span><span style=\"color: #008000; text-decoration-color: #008000\">'4:886c4171-80d6-4dd4-ad0b-a1f24ac30557:2'</span><span style=\"color: #000000; text-decoration-color: #000000\"> </span><span style=\"color: #808000; text-decoration-color: #808000\">labels</span><span style=\"color: #000000; text-decoration-color: #000000\">=</span><span style=\"color: #800080; text-decoration-color: #800080; font-weight: bold\">frozenset</span><span style=\"color: #000000; text-decoration-color: #000000; font-weight: bold\">({</span><span style=\"color: #008000; text-decoration-color: #008000\">'Molecule'</span><span style=\"color: #000000; text-decoration-color: #000000; font-weight: bold\">})</span><span style=\"color: #000000; text-decoration-color: #000000\"> </span>\n",
       "<span style=\"color: #808000; text-decoration-color: #808000\">properties</span><span style=\"color: #000000; text-decoration-color: #000000\">=</span><span style=\"color: #000000; text-decoration-color: #000000; font-weight: bold\">{</span><span style=\"color: #008000; text-decoration-color: #008000\">'name'</span><span style=\"color: #000000; text-decoration-color: #000000\">: </span><span style=\"color: #008000; text-decoration-color: #008000\">'Product'</span><span style=\"color: #000000; text-decoration-color: #000000; font-weight: bold\">}</span><span style=\"color: #000000; text-decoration-color: #000000\">&gt;</span>\n",
       "<span style=\"color: #000000; text-decoration-color: #000000\">    </span><span style=\"color: #000000; text-decoration-color: #000000; font-weight: bold\">)</span><span style=\"color: #000000; text-decoration-color: #000000\">,</span>\n",
       "<span style=\"color: #000000; text-decoration-color: #000000\">    </span><span style=\"color: #000000; text-decoration-color: #000000; font-weight: bold\">(</span>\n",
       "<span style=\"color: #000000; text-decoration-color: #000000\">        &lt;Reaction: </span><span style=\"color: #000000; text-decoration-color: #000000; font-weight: bold\">{</span><span style=\"color: #008000; text-decoration-color: #008000\">'id_'</span><span style=\"color: #000000; text-decoration-color: #000000\">: </span><span style=\"color: #800080; text-decoration-color: #800080; font-style: italic\">None</span><span style=\"color: #000000; text-decoration-color: #000000\">, </span><span style=\"color: #008000; text-decoration-color: #008000\">'name'</span><span style=\"color: #000000; text-decoration-color: #000000\">: </span><span style=\"color: #008000; text-decoration-color: #008000\">'Reaction'</span><span style=\"color: #000000; text-decoration-color: #000000\">, </span><span style=\"color: #008000; text-decoration-color: #008000\">'element_id_property'</span><span style=\"color: #000000; text-decoration-color: #000000\">: </span>\n",
       "<span style=\"color: #008000; text-decoration-color: #008000\">'4:886c4171-80d6-4dd4-ad0b-a1f24ac30557:0'</span><span style=\"color: #000000; text-decoration-color: #000000; font-weight: bold\">}</span><span style=\"color: #000000; text-decoration-color: #000000\">&gt;,</span>\n",
       "<span style=\"color: #000000; text-decoration-color: #000000\">        &lt;Relationship </span><span style=\"color: #808000; text-decoration-color: #808000\">element_id</span><span style=\"color: #000000; text-decoration-color: #000000\">=</span><span style=\"color: #008000; text-decoration-color: #008000\">'5:886c4171-80d6-4dd4-ad0b-a1f24ac30557:2'</span><span style=\"color: #000000; text-decoration-color: #000000\"> </span><span style=\"color: #808000; text-decoration-color: #808000\">nodes</span><span style=\"color: #000000; text-decoration-color: #000000\">=</span><span style=\"color: #000000; text-decoration-color: #000000; font-weight: bold\">(</span><span style=\"color: #000000; text-decoration-color: #000000\">&lt;Node </span>\n",
       "<span style=\"color: #808000; text-decoration-color: #808000\">element_id</span><span style=\"color: #000000; text-decoration-color: #000000\">=</span><span style=\"color: #008000; text-decoration-color: #008000\">'4:886c4171-80d6-4dd4-ad0b-a1f24ac30557:0'</span><span style=\"color: #000000; text-decoration-color: #000000\"> </span><span style=\"color: #808000; text-decoration-color: #808000\">labels</span><span style=\"color: #000000; text-decoration-color: #000000\">=</span><span style=\"color: #800080; text-decoration-color: #800080; font-weight: bold\">frozenset</span><span style=\"color: #000000; text-decoration-color: #000000; font-weight: bold\">()</span><span style=\"color: #000000; text-decoration-color: #000000\"> </span><span style=\"color: #808000; text-decoration-color: #808000\">properties</span><span style=\"color: #000000; text-decoration-color: #000000\">=</span><span style=\"color: #000000; text-decoration-color: #000000; font-weight: bold\">{}</span><span style=\"color: #000000; text-decoration-color: #000000\">&gt;, &lt;Node </span>\n",
       "<span style=\"color: #808000; text-decoration-color: #808000\">element_id</span><span style=\"color: #000000; text-decoration-color: #000000\">=</span><span style=\"color: #008000; text-decoration-color: #008000\">'4:886c4171-80d6-4dd4-ad0b-a1f24ac30557:3'</span><span style=\"color: #000000; text-decoration-color: #000000\"> </span><span style=\"color: #808000; text-decoration-color: #808000\">labels</span><span style=\"color: #000000; text-decoration-color: #000000\">=</span><span style=\"color: #800080; text-decoration-color: #800080; font-weight: bold\">frozenset</span><span style=\"color: #000000; text-decoration-color: #000000; font-weight: bold\">({</span><span style=\"color: #008000; text-decoration-color: #008000\">'Reaction'</span><span style=\"color: #000000; text-decoration-color: #000000; font-weight: bold\">})</span><span style=\"color: #000000; text-decoration-color: #000000\"> </span><span style=\"color: #808000; text-decoration-color: #808000\">properties</span><span style=\"color: #000000; text-decoration-color: #000000\">=</span><span style=\"color: #000000; text-decoration-color: #000000; font-weight: bold\">{</span><span style=\"color: #008000; text-decoration-color: #008000\">'name'</span><span style=\"color: #000000; text-decoration-color: #000000\">: </span><span style=\"color: #008000; text-decoration-color: #008000\">'Related </span>\n",
       "<span style=\"color: #008000; text-decoration-color: #008000\">Reaction'</span><span style=\"color: #000000; text-decoration-color: #000000; font-weight: bold\">}</span><span style=\"color: #000000; text-decoration-color: #000000\">&gt;</span><span style=\"color: #000000; text-decoration-color: #000000; font-weight: bold\">)</span><span style=\"color: #000000; text-decoration-color: #000000\"> </span><span style=\"color: #808000; text-decoration-color: #808000\">type</span><span style=\"color: #000000; text-decoration-color: #000000\">=</span><span style=\"color: #008000; text-decoration-color: #008000\">'RELATED'</span><span style=\"color: #000000; text-decoration-color: #000000\"> </span><span style=\"color: #808000; text-decoration-color: #808000\">properties</span><span style=\"color: #000000; text-decoration-color: #000000\">=</span><span style=\"color: #000000; text-decoration-color: #000000; font-weight: bold\">{</span><span style=\"color: #008000; text-decoration-color: #008000\">'has_same_kinetics'</span><span style=\"color: #000000; text-decoration-color: #000000\">: </span><span style=\"color: #00ff00; text-decoration-color: #00ff00; font-style: italic\">True</span><span style=\"color: #000000; text-decoration-color: #000000; font-weight: bold\">}</span><span style=\"color: #000000; text-decoration-color: #000000\">&gt;,</span>\n",
       "<span style=\"color: #000000; text-decoration-color: #000000\">        &lt;Node </span><span style=\"color: #808000; text-decoration-color: #808000\">element_id</span><span style=\"color: #000000; text-decoration-color: #000000\">=</span><span style=\"color: #008000; text-decoration-color: #008000\">'4:886c4171-80d6-4dd4-ad0b-a1f24ac30557:3'</span><span style=\"color: #000000; text-decoration-color: #000000\"> </span><span style=\"color: #808000; text-decoration-color: #808000\">labels</span><span style=\"color: #000000; text-decoration-color: #000000\">=</span><span style=\"color: #800080; text-decoration-color: #800080; font-weight: bold\">frozenset</span><span style=\"color: #000000; text-decoration-color: #000000; font-weight: bold\">({</span><span style=\"color: #008000; text-decoration-color: #008000\">'Reaction'</span><span style=\"color: #000000; text-decoration-color: #000000; font-weight: bold\">})</span><span style=\"color: #000000; text-decoration-color: #000000\"> </span>\n",
       "<span style=\"color: #808000; text-decoration-color: #808000\">properties</span><span style=\"color: #000000; text-decoration-color: #000000\">=</span><span style=\"color: #000000; text-decoration-color: #000000; font-weight: bold\">{</span><span style=\"color: #008000; text-decoration-color: #008000\">'name'</span><span style=\"color: #000000; text-decoration-color: #000000\">: </span><span style=\"color: #008000; text-decoration-color: #008000\">'Related Reaction'</span><span style=\"color: #000000; text-decoration-color: #000000; font-weight: bold\">}</span><span style=\"font-weight: bold\">&gt;</span>\n",
       "    <span style=\"font-weight: bold\">)</span>\n",
       "<span style=\"font-weight: bold\">]</span>\n",
       "</pre>\n"
      ]
     },
     "metadata": {},
     "output_type": "display_data"
    }
   ],
   "execution_count": 10
  }
 ],
 "metadata": {
  "kernelspec": {
   "display_name": "Python 3",
   "language": "python",
   "name": "python3"
  },
  "language_info": {
   "codemirror_mode": {
    "name": "ipython",
    "version": 2
   },
   "file_extension": ".py",
   "mimetype": "text/x-python",
   "name": "python",
   "nbconvert_exporter": "python",
   "pygments_lexer": "ipython2",
   "version": "2.7.6"
  }
 },
 "nbformat": 4,
 "nbformat_minor": 5
}
