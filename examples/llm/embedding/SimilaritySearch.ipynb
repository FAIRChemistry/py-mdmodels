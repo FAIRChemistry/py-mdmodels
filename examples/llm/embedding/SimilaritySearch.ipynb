{
 "cells": [
  {
   "cell_type": "markdown",
   "metadata": {},
   "source": [
    "# Using Ollama for embedding\n",
    "\n",
    "Finding similar datasets within a whole set of datasets can be a difficult task, especially if we are looking for conceptual similarities. Furthermore, we might not even know what we are looking for specifically, but have a vague idea of what we are looking for. This is where similarity search comes in handy.\n",
    "\n",
    "Searching related datasets can be done by embedding the datasets in a high-dimensional space and then using a similarity metric to find the most similar datasets. With mdmodels, we can easily do this by using the `embedding` function. This function will take one or more datasets and create a vector representation of them. We can then use this vector representation to find the most similar datasets.\n",
    "\n",
    "In this example, we will be using a simple data model of persons and their hobbies. The task will be to find the most similar persons to a given query.\n",
    "\n",
    "> In order to run this example, you need to have [ollama](https://ollama.com/download) and the model `mxbai-embed-large` running on your machine.\n",
    "> You can also leave out `base_url` if you prefer to use OpenAI's embedding API.\n"
   ]
  },
  {
   "cell_type": "code",
   "execution_count": 3,
   "metadata": {},
   "outputs": [],
   "source": [
    "import rich\n",
    "import numpy as np\n",
    "\n",
    "from mdmodels import DataModel\n",
    "from mdmodels.llm import embedding"
   ]
  },
  {
   "cell_type": "code",
   "execution_count": 12,
   "metadata": {},
   "outputs": [],
   "source": [
    "# Lets start by loading the data model and the embeddings\n",
    "model = DataModel.from_markdown(\"model.md\")\n",
    "embeddings = np.load(\"embeddings.npy\")\n",
    "\n",
    "# Next, we load the persons from the JSONL file\n",
    "with open(\"persons.jsonl\", \"r\") as file:\n",
    "    persons = [model.Person.model_validate_json(line) for line in file]\n"
   ]
  },
  {
   "cell_type": "markdown",
   "metadata": {},
   "source": [
    "In order to find the most similar persons to a given query, we are defining a function that will take a query and print the most similar persons. The function may look complicated at first, but it is essentially doing the following:\n",
    "\n",
    "1) Embed the query\n",
    "2) Compute the cosine similarity between the query embedding and all person embeddings\n",
    "3) Print the most similar persons\n",
    "\n",
    "It makes use of the `embedding` function that we imported earlier, which expects either a `str`, a `DataModel` instance or a list of `DataModel` instances.\n"
   ]
  },
  {
   "cell_type": "code",
   "execution_count": 10,
   "metadata": {},
   "outputs": [],
   "source": [
    "def find(query: str | type[DataModel], n: int = 1) -> list[DataModel]:\n",
    "    \"\"\"Find the most similar person to the query.\"\"\"\n",
    "\n",
    "    console = rich.console.Console()\n",
    "\n",
    "    # 1) Embed the query\n",
    "    query_embedding = embedding(\n",
    "        query,\n",
    "        model=\"mxbai-embed-large\",\n",
    "        base_url=\"http://localhost:11434/v1\",\n",
    "        api_key=\"ollama\",\n",
    "    )\n",
    "\n",
    "    # 2) Compute cosine similarity between query and all persons\n",
    "    def cosine_similarity(a, b):\n",
    "        return np.sum(a * b, axis=1) / (np.linalg.norm(a, axis=1) * np.linalg.norm(b))\n",
    "\n",
    "    # 3) Get the index of the most similar person\n",
    "    similarities = cosine_similarity(embeddings, query_embedding)\n",
    "\n",
    "    if n == 1:\n",
    "        console.print(f\"Query: {query}\\nAnswer: {persons[np.argsort(similarities)[::-1][0]]}\")\n",
    "    else:\n",
    "        top_indices = np.argsort(similarities)[::-1][:n]\n",
    "        \n",
    "        answer = f\"Query: {query}\\nAnswers:\"\n",
    "        \n",
    "        for i in top_indices:\n",
    "            answer += f\"\\n  - ({similarities[i]:.2f}) {persons[i]}\"\n",
    "\n",
    "        console.print(answer)"
   ]
  },
  {
   "cell_type": "markdown",
   "metadata": {},
   "source": [
    "Great, now we can use the function to ask questions about the dataset! First, we will explore how the function works by searching for similar persons to a given string query. This can be useful if we have a vague idea of what we are looking for, but are not sure about the exact details. After that, we will create a new person and find the most similar ones in the dataset, which can be useful if we want to find related datasets.\n"
   ]
  },
  {
   "cell_type": "code",
   "execution_count": 11,
   "metadata": {},
   "outputs": [
    {
     "data": {
      "text/html": [
       "<pre style=\"white-space:pre;overflow-x:auto;line-height:normal;font-family:Menlo,'DejaVu Sans Mono',consolas,'Courier New',monospace\">Query: I am young and I want to learn how to code. Who should I ask?\n",
       "Answer: <span style=\"color: #808000; text-decoration-color: #808000\">name</span>=<span style=\"color: #008000; text-decoration-color: #008000\">'John Doe'</span> <span style=\"color: #808000; text-decoration-color: #808000\">age</span>=<span style=\"color: #008080; text-decoration-color: #008080; font-weight: bold\">25</span> <span style=\"color: #808000; text-decoration-color: #808000\">hobbies</span>=<span style=\"font-weight: bold\">[</span><span style=\"color: #008000; text-decoration-color: #008000\">'Coding'</span>, <span style=\"color: #008000; text-decoration-color: #008000\">'Gaming'</span><span style=\"font-weight: bold\">]</span>\n",
       "</pre>\n"
      ],
      "text/plain": [
       "Query: I am young and I want to learn how to code. Who should I ask?\n",
       "Answer: \u001b[33mname\u001b[0m=\u001b[32m'John Doe'\u001b[0m \u001b[33mage\u001b[0m=\u001b[1;36m25\u001b[0m \u001b[33mhobbies\u001b[0m=\u001b[1m[\u001b[0m\u001b[32m'Coding'\u001b[0m, \u001b[32m'Gaming'\u001b[0m\u001b[1m]\u001b[0m\n"
      ]
     },
     "metadata": {},
     "output_type": "display_data"
    },
    {
     "data": {
      "text/html": [
       "<pre style=\"white-space:pre;overflow-x:auto;line-height:normal;font-family:Menlo,'DejaVu Sans Mono',consolas,'Courier New',monospace\">Query: Who is the oldest person?\n",
       "Answer: <span style=\"color: #808000; text-decoration-color: #808000\">name</span>=<span style=\"color: #008000; text-decoration-color: #008000\">'David Lee'</span> <span style=\"color: #808000; text-decoration-color: #808000\">age</span>=<span style=\"color: #008080; text-decoration-color: #008080; font-weight: bold\">40</span> <span style=\"color: #808000; text-decoration-color: #808000\">hobbies</span>=<span style=\"font-weight: bold\">[</span><span style=\"color: #008000; text-decoration-color: #008000\">'Cooking'</span>, <span style=\"color: #008000; text-decoration-color: #008000\">'Gardening'</span><span style=\"font-weight: bold\">]</span>\n",
       "</pre>\n"
      ],
      "text/plain": [
       "Query: Who is the oldest person?\n",
       "Answer: \u001b[33mname\u001b[0m=\u001b[32m'David Lee'\u001b[0m \u001b[33mage\u001b[0m=\u001b[1;36m40\u001b[0m \u001b[33mhobbies\u001b[0m=\u001b[1m[\u001b[0m\u001b[32m'Cooking'\u001b[0m, \u001b[32m'Gardening'\u001b[0m\u001b[1m]\u001b[0m\n"
      ]
     },
     "metadata": {},
     "output_type": "display_data"
    },
    {
     "data": {
      "text/html": [
       "<pre style=\"white-space:pre;overflow-x:auto;line-height:normal;font-family:Menlo,'DejaVu Sans Mono',consolas,'Courier New',monospace\">Query: What are the hobbies of the person named Jane Smith?\n",
       "Answer: <span style=\"color: #808000; text-decoration-color: #808000\">name</span>=<span style=\"color: #008000; text-decoration-color: #008000\">'Jane Smith'</span> <span style=\"color: #808000; text-decoration-color: #808000\">age</span>=<span style=\"color: #008080; text-decoration-color: #008080; font-weight: bold\">30</span> <span style=\"color: #808000; text-decoration-color: #808000\">hobbies</span>=<span style=\"font-weight: bold\">[</span><span style=\"color: #008000; text-decoration-color: #008000\">'Writing'</span>, <span style=\"color: #008000; text-decoration-color: #008000\">'Drawing'</span><span style=\"font-weight: bold\">]</span>\n",
       "</pre>\n"
      ],
      "text/plain": [
       "Query: What are the hobbies of the person named Jane Smith?\n",
       "Answer: \u001b[33mname\u001b[0m=\u001b[32m'Jane Smith'\u001b[0m \u001b[33mage\u001b[0m=\u001b[1;36m30\u001b[0m \u001b[33mhobbies\u001b[0m=\u001b[1m[\u001b[0m\u001b[32m'Writing'\u001b[0m, \u001b[32m'Drawing'\u001b[0m\u001b[1m]\u001b[0m\n"
      ]
     },
     "metadata": {},
     "output_type": "display_data"
    },
    {
     "data": {
      "text/html": [
       "<pre style=\"white-space:pre;overflow-x:auto;line-height:normal;font-family:Menlo,'DejaVu Sans Mono',consolas,'Courier New',monospace\">Query: Who is the person who likes to play chess?\n",
       "Answer: <span style=\"color: #808000; text-decoration-color: #808000\">name</span>=<span style=\"color: #008000; text-decoration-color: #008000\">'Kevin White'</span> <span style=\"color: #808000; text-decoration-color: #808000\">age</span>=<span style=\"color: #008080; text-decoration-color: #008080; font-weight: bold\">32</span> <span style=\"color: #808000; text-decoration-color: #808000\">hobbies</span>=<span style=\"font-weight: bold\">[</span><span style=\"color: #008000; text-decoration-color: #008000\">'Playing chess'</span>, <span style=\"color: #008000; text-decoration-color: #008000\">'Reading philosophy'</span><span style=\"font-weight: bold\">]</span>\n",
       "</pre>\n"
      ],
      "text/plain": [
       "Query: Who is the person who likes to play chess?\n",
       "Answer: \u001b[33mname\u001b[0m=\u001b[32m'Kevin White'\u001b[0m \u001b[33mage\u001b[0m=\u001b[1;36m32\u001b[0m \u001b[33mhobbies\u001b[0m=\u001b[1m[\u001b[0m\u001b[32m'Playing chess'\u001b[0m, \u001b[32m'Reading philosophy'\u001b[0m\u001b[1m]\u001b[0m\n"
      ]
     },
     "metadata": {},
     "output_type": "display_data"
    },
    {
     "data": {
      "text/html": [
       "<pre style=\"white-space:pre;overflow-x:auto;line-height:normal;font-family:Menlo,'DejaVu Sans Mono',consolas,'Courier New',monospace\">Query: <span style=\"color: #808000; text-decoration-color: #808000\">name</span>=<span style=\"color: #008000; text-decoration-color: #008000\">'Jack'</span> <span style=\"color: #808000; text-decoration-color: #808000\">age</span>=<span style=\"color: #008080; text-decoration-color: #008080; font-weight: bold\">32</span> <span style=\"color: #808000; text-decoration-color: #808000\">hobbies</span>=<span style=\"font-weight: bold\">[</span><span style=\"color: #008000; text-decoration-color: #008000\">'Rust'</span>, <span style=\"color: #008000; text-decoration-color: #008000\">'Ableton'</span><span style=\"font-weight: bold\">]</span>\n",
       "Answers:\n",
       "  - <span style=\"font-weight: bold\">(</span><span style=\"color: #008080; text-decoration-color: #008080; font-weight: bold\">0.82</span><span style=\"font-weight: bold\">)</span> <span style=\"color: #808000; text-decoration-color: #808000\">name</span>=<span style=\"color: #008000; text-decoration-color: #008000\">'John Doe'</span> <span style=\"color: #808000; text-decoration-color: #808000\">age</span>=<span style=\"color: #008080; text-decoration-color: #008080; font-weight: bold\">25</span> <span style=\"color: #808000; text-decoration-color: #808000\">hobbies</span>=<span style=\"font-weight: bold\">[</span><span style=\"color: #008000; text-decoration-color: #008000\">'Coding'</span>, <span style=\"color: #008000; text-decoration-color: #008000\">'Gaming'</span><span style=\"font-weight: bold\">]</span>\n",
       "  - <span style=\"font-weight: bold\">(</span><span style=\"color: #008080; text-decoration-color: #008080; font-weight: bold\">0.76</span><span style=\"font-weight: bold\">)</span> <span style=\"color: #808000; text-decoration-color: #808000\">name</span>=<span style=\"color: #008000; text-decoration-color: #008000\">'Mike Davis'</span> <span style=\"color: #808000; text-decoration-color: #808000\">age</span>=<span style=\"color: #008080; text-decoration-color: #008080; font-weight: bold\">35</span> <span style=\"color: #808000; text-decoration-color: #808000\">hobbies</span>=<span style=\"font-weight: bold\">[</span><span style=\"color: #008000; text-decoration-color: #008000\">'Playing guitar'</span>, <span style=\"color: #008000; text-decoration-color: #008000\">'Singing'</span><span style=\"font-weight: bold\">]</span>\n",
       "  - <span style=\"font-weight: bold\">(</span><span style=\"color: #008080; text-decoration-color: #008080; font-weight: bold\">0.74</span><span style=\"font-weight: bold\">)</span> <span style=\"color: #808000; text-decoration-color: #808000\">name</span>=<span style=\"color: #008000; text-decoration-color: #008000\">'Ethan Hall'</span> <span style=\"color: #808000; text-decoration-color: #808000\">age</span>=<span style=\"color: #008080; text-decoration-color: #008080; font-weight: bold\">35</span> <span style=\"color: #808000; text-decoration-color: #808000\">hobbies</span>=<span style=\"font-weight: bold\">[</span><span style=\"color: #008000; text-decoration-color: #008000\">'Writing poetry'</span>, <span style=\"color: #008000; text-decoration-color: #008000\">'Composing music'</span><span style=\"font-weight: bold\">]</span>\n",
       "</pre>\n"
      ],
      "text/plain": [
       "Query: \u001b[33mname\u001b[0m=\u001b[32m'Jack'\u001b[0m \u001b[33mage\u001b[0m=\u001b[1;36m32\u001b[0m \u001b[33mhobbies\u001b[0m=\u001b[1m[\u001b[0m\u001b[32m'Rust'\u001b[0m, \u001b[32m'Ableton'\u001b[0m\u001b[1m]\u001b[0m\n",
       "Answers:\n",
       "  - \u001b[1m(\u001b[0m\u001b[1;36m0.82\u001b[0m\u001b[1m)\u001b[0m \u001b[33mname\u001b[0m=\u001b[32m'John Doe'\u001b[0m \u001b[33mage\u001b[0m=\u001b[1;36m25\u001b[0m \u001b[33mhobbies\u001b[0m=\u001b[1m[\u001b[0m\u001b[32m'Coding'\u001b[0m, \u001b[32m'Gaming'\u001b[0m\u001b[1m]\u001b[0m\n",
       "  - \u001b[1m(\u001b[0m\u001b[1;36m0.76\u001b[0m\u001b[1m)\u001b[0m \u001b[33mname\u001b[0m=\u001b[32m'Mike Davis'\u001b[0m \u001b[33mage\u001b[0m=\u001b[1;36m35\u001b[0m \u001b[33mhobbies\u001b[0m=\u001b[1m[\u001b[0m\u001b[32m'Playing guitar'\u001b[0m, \u001b[32m'Singing'\u001b[0m\u001b[1m]\u001b[0m\n",
       "  - \u001b[1m(\u001b[0m\u001b[1;36m0.74\u001b[0m\u001b[1m)\u001b[0m \u001b[33mname\u001b[0m=\u001b[32m'Ethan Hall'\u001b[0m \u001b[33mage\u001b[0m=\u001b[1;36m35\u001b[0m \u001b[33mhobbies\u001b[0m=\u001b[1m[\u001b[0m\u001b[32m'Writing poetry'\u001b[0m, \u001b[32m'Composing music'\u001b[0m\u001b[1m]\u001b[0m\n"
      ]
     },
     "metadata": {},
     "output_type": "display_data"
    }
   ],
   "source": [
    "# Similarity search by string\n",
    "find(\"I am young and I want to learn how to code. Who should I ask?\")\n",
    "find(\"Who is the oldest person?\")\n",
    "find(\"What are the hobbies of the person named Jane Smith?\")\n",
    "find(\"Who is the person who likes to play chess?\")\n",
    "\n",
    "# Create a new person and find related ones\n",
    "new_person = model.Person(name=\"Jack\", age=32, hobbies=[\"Rust\", \"Ableton\"])\n",
    "find(new_person, n=3)\n",
    "\n"
   ]
  },
  {
   "cell_type": "markdown",
   "metadata": {},
   "source": [
    "## Conclusion\n",
    "\n",
    "In this example, we have seen how we can use embeddings to find similar datasets within a whole set of datasets. This can be useful if we want to find related datasets, but are not sure about the exact details. We have also seen how we can use the `embedding` function to embed datasets and then use the cosine similarity to find the most similar datasets. This of course is a very simple example, but it shows the power of embeddings and how seamlessly mdmodels integrates within the LLM ecosystem."
   ]
  }
 ],
 "metadata": {
  "kernelspec": {
   "display_name": "mdmodels",
   "language": "python",
   "name": "python3"
  },
  "language_info": {
   "codemirror_mode": {
    "name": "ipython",
    "version": 3
   },
   "file_extension": ".py",
   "mimetype": "text/x-python",
   "name": "python",
   "nbconvert_exporter": "python",
   "pygments_lexer": "ipython3",
   "version": "3.11.10"
  }
 },
 "nbformat": 4,
 "nbformat_minor": 2
}
