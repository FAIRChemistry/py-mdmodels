{
 "cells": [
  {
   "cell_type": "markdown",
   "id": "d21fff58",
   "metadata": {},
   "source": [
    "# Question Answering\n",
    "\n",
    "Sometimes you might want to ask the LLM questions about the dataset. This can be useful to quickly get an overview of the dataset or to get specific information about a certain object. Also, datasets can be quite complex and it can be hard to remember all the different attributes and relationships between objects. This is where question answering comes in handy!\n",
    "\n",
    "We are using a Large Language Model (LLM) to answer questions about the dataset. Typically, you would use the LLM to \"walk\" through the dataset and ask it questions about the objects and their relationships. This way the LLM learns the structure of the dataset and can answer questions about it. However, this approach is quite slow and especially for large datasets impractical.\n",
    "\n",
    "Therefore, we are seeking a different approach. In an initial step, we present the LLM with possible JSON paths it can take to answer the question. Picture this as a blueprint of the dataset. Then, we ask the LLM to answer the question based on this blueprint. Using JSON paths has the advantage that the LLM can quickly understand the structure of the dataset and we can use these paths to navigate the dataset. Here is a full breakdown of the process:\n",
    "\n",
    "1. We present the LLM with a set of JSON paths that correspond to the objects and attributes in the dataset.\n",
    "2. The LLM selects the most relevant JSON paths for the question at hand and provides instructions on how to use them to answer the question.\n",
    "3. The LLM then uses the provided instructions to answer the question.\n",
    "\n",
    "Let's see how this works in practice!\n",
    "\n",
    "### Workflow\n",
    "\n",
    "```mermaid\n",
    "graph TD\n",
    "    A[Dataset] --> B[Extract JSON Paths]\n",
    "    B --> C[Present Paths to LLM]\n",
    "    C --> D[LLM Analyzes Structure]\n",
    "    D --> E[LLM Selects Relevant Paths]\n",
    "    E --> F[LLM Provides Instructions]\n",
    "    F --> G[LLM Answers Question]\n",
    "```"
   ]
  },
  {
   "cell_type": "code",
   "execution_count": 1,
   "id": "initial_id",
   "metadata": {
    "ExecuteTime": {
     "end_time": "2024-12-04T19:59:50.976811Z",
     "start_time": "2024-12-04T19:59:50.321477Z"
    }
   },
   "outputs": [],
   "source": [
    "import rich\n",
    "\n",
    "from mdmodels import DataModel\n",
    "from mdmodels.llm.templates import dataset_query"
   ]
  },
  {
   "cell_type": "code",
   "execution_count": 2,
   "id": "f7805a2c34853f27",
   "metadata": {
    "ExecuteTime": {
     "end_time": "2024-12-04T20:00:18.226049Z",
     "start_time": "2024-12-04T20:00:17.884983Z"
    }
   },
   "outputs": [
    {
     "data": {
      "text/html": [
       "<pre style=\"white-space:pre;overflow-x:auto;line-height:normal;font-family:Menlo,'DejaVu Sans Mono',consolas,'Courier New',monospace\"><span style=\"font-weight: bold\">[</span>\n",
       "    <span style=\"color: #008000; text-decoration-color: #008000\">'$.creators[*].family_name'</span>,\n",
       "    <span style=\"color: #008000; text-decoration-color: #008000\">'$.vessels[*].unit.base_units[*].scale'</span>,\n",
       "    <span style=\"color: #008000; text-decoration-color: #008000\">'$.proteins[*].references[*]'</span>,\n",
       "    <span style=\"color: #008000; text-decoration-color: #008000\">'$.small_molecules[*].canonical_smiles'</span>,\n",
       "    <span style=\"color: #008000; text-decoration-color: #008000\">'$.reactions[*].kinetic_law.variables[*].id'</span>,\n",
       "    <span style=\"color: #008000; text-decoration-color: #008000\">'$.measurements[*].species_data[*].initial'</span>,\n",
       "    <span style=\"color: #008000; text-decoration-color: #008000\">'$.measurements[*].species_data[*].time_unit.name'</span>,\n",
       "    <span style=\"color: #008000; text-decoration-color: #008000\">'$.measurements[*].temperature_unit.id'</span>,\n",
       "    <span style=\"color: #008000; text-decoration-color: #008000\">'$.equations[*].variables[*].name'</span>,\n",
       "    <span style=\"color: #008000; text-decoration-color: #008000\">'$.parameters[*].unit.base_units[*].multiplier'</span>\n",
       "<span style=\"font-weight: bold\">]</span>\n",
       "</pre>\n"
      ],
      "text/plain": [
       "\u001b[1m[\u001b[0m\n",
       "    \u001b[32m'$.creators\u001b[0m\u001b[32m[\u001b[0m\u001b[32m*\u001b[0m\u001b[32m]\u001b[0m\u001b[32m.family_name'\u001b[0m,\n",
       "    \u001b[32m'$.vessels\u001b[0m\u001b[32m[\u001b[0m\u001b[32m*\u001b[0m\u001b[32m]\u001b[0m\u001b[32m.unit.base_units\u001b[0m\u001b[32m[\u001b[0m\u001b[32m*\u001b[0m\u001b[32m]\u001b[0m\u001b[32m.scale'\u001b[0m,\n",
       "    \u001b[32m'$.proteins\u001b[0m\u001b[32m[\u001b[0m\u001b[32m*\u001b[0m\u001b[32m]\u001b[0m\u001b[32m.references\u001b[0m\u001b[32m[\u001b[0m\u001b[32m*\u001b[0m\u001b[32m]\u001b[0m\u001b[32m'\u001b[0m,\n",
       "    \u001b[32m'$.small_molecules\u001b[0m\u001b[32m[\u001b[0m\u001b[32m*\u001b[0m\u001b[32m]\u001b[0m\u001b[32m.canonical_smiles'\u001b[0m,\n",
       "    \u001b[32m'$.reactions\u001b[0m\u001b[32m[\u001b[0m\u001b[32m*\u001b[0m\u001b[32m]\u001b[0m\u001b[32m.kinetic_law.variables\u001b[0m\u001b[32m[\u001b[0m\u001b[32m*\u001b[0m\u001b[32m]\u001b[0m\u001b[32m.id'\u001b[0m,\n",
       "    \u001b[32m'$.measurements\u001b[0m\u001b[32m[\u001b[0m\u001b[32m*\u001b[0m\u001b[32m]\u001b[0m\u001b[32m.species_data\u001b[0m\u001b[32m[\u001b[0m\u001b[32m*\u001b[0m\u001b[32m]\u001b[0m\u001b[32m.initial'\u001b[0m,\n",
       "    \u001b[32m'$.measurements\u001b[0m\u001b[32m[\u001b[0m\u001b[32m*\u001b[0m\u001b[32m]\u001b[0m\u001b[32m.species_data\u001b[0m\u001b[32m[\u001b[0m\u001b[32m*\u001b[0m\u001b[32m]\u001b[0m\u001b[32m.time_unit.name'\u001b[0m,\n",
       "    \u001b[32m'$.measurements\u001b[0m\u001b[32m[\u001b[0m\u001b[32m*\u001b[0m\u001b[32m]\u001b[0m\u001b[32m.temperature_unit.id'\u001b[0m,\n",
       "    \u001b[32m'$.equations\u001b[0m\u001b[32m[\u001b[0m\u001b[32m*\u001b[0m\u001b[32m]\u001b[0m\u001b[32m.variables\u001b[0m\u001b[32m[\u001b[0m\u001b[32m*\u001b[0m\u001b[32m]\u001b[0m\u001b[32m.name'\u001b[0m,\n",
       "    \u001b[32m'$.parameters\u001b[0m\u001b[32m[\u001b[0m\u001b[32m*\u001b[0m\u001b[32m]\u001b[0m\u001b[32m.unit.base_units\u001b[0m\u001b[32m[\u001b[0m\u001b[32m*\u001b[0m\u001b[32m]\u001b[0m\u001b[32m.multiplier'\u001b[0m\n",
       "\u001b[1m]\u001b[0m\n"
      ]
     },
     "metadata": {},
     "output_type": "display_data"
    }
   ],
   "source": [
    "# Lets load the EnzymeML specification from the EnzymeML GitHub repository.\n",
    "enzymeml = DataModel.from_github(\n",
    "    repo=\"EnzymeML/enzymeml-specifications\",\n",
    "    branch=\"enzymeml-2\",\n",
    "    spec_path=\"specifications/enzymeml.md\"\n",
    ")\n",
    "\n",
    "# Load the dataset, using the EnzymeML specification\n",
    "with open(\"dataset.json\", \"r\") as file:\n",
    "    enzmldoc = enzymeml.EnzymeMLDocument.model_validate_json(file.read())\n",
    "\n",
    "# Take a look at the JSON paths that are available in the dataset.\n",
    "rich.print(enzmldoc.json_paths()[5::10])"
   ]
  },
  {
   "cell_type": "code",
   "execution_count": 6,
   "id": "8f13c649ac6d6966",
   "metadata": {
    "ExecuteTime": {
     "end_time": "2024-12-04T20:00:36.153128Z",
     "start_time": "2024-12-04T20:00:21.895195Z"
    }
   },
   "outputs": [
    {
     "data": {
      "application/vnd.jupyter.widget-view+json": {
       "model_id": "71f00f1a66a94862afc1a05bd9453cf6",
       "version_major": 2,
       "version_minor": 0
      },
      "text/plain": [
       "Output()"
      ]
     },
     "metadata": {},
     "output_type": "display_data"
    },
    {
     "data": {
      "text/html": [
       "<pre style=\"white-space:pre;overflow-x:auto;line-height:normal;font-family:Menlo,'DejaVu Sans Mono',consolas,'Courier New',monospace\"></pre>\n"
      ],
      "text/plain": []
     },
     "metadata": {},
     "output_type": "display_data"
    },
    {
     "data": {
      "application/vnd.jupyter.widget-view+json": {
       "model_id": "fefadc25b94f437a96463655c686ee69",
       "version_major": 2,
       "version_minor": 0
      },
      "text/plain": [
       "Output()"
      ]
     },
     "metadata": {},
     "output_type": "display_data"
    },
    {
     "data": {
      "text/html": [
       "<pre style=\"white-space:pre;overflow-x:auto;line-height:normal;font-family:Menlo,'DejaVu Sans Mono',consolas,'Courier New',monospace\"></pre>\n"
      ],
      "text/plain": []
     },
     "metadata": {},
     "output_type": "display_data"
    },
    {
     "data": {
      "text/html": [
       "<pre style=\"white-space:pre;overflow-x:auto;line-height:normal;font-family:Menlo,'DejaVu Sans Mono',consolas,'Courier New',monospace\">The dataset contains information about proteins and small molecules involved in enzyme reactions. Specifically, it \n",
       "includes one protein and four small molecules. The protein is <span style=\"color: #008000; text-decoration-color: #008000\">'Alcohol Dehydrogenase'</span> with the enzyme \n",
       "classification number <span style=\"color: #008000; text-decoration-color: #008000\">'1.1.1.1'</span>. The small molecules are <span style=\"color: #008000; text-decoration-color: #008000\">'Ethanol'</span>, <span style=\"color: #008000; text-decoration-color: #008000\">'Acetaldehyde'</span>, <span style=\"color: #008000; text-decoration-color: #008000\">'NAD+'</span>, and <span style=\"color: #008000; text-decoration-color: #008000\">'NADH'</span>. Below is \n",
       "the table summarizing the names and types of the entries:\n",
       "\n",
       "| Name                  | Type    |\n",
       "|-----------------------|---------|\n",
       "| Alcohol Dehydrogenase | Enzyme  |\n",
       "| Ethanol               | Molecule|\n",
       "| Acetaldehyde          | Molecule|\n",
       "| NAD+                  | Molecule|\n",
       "| NADH                  | Molecule|\n",
       "</pre>\n"
      ],
      "text/plain": [
       "The dataset contains information about proteins and small molecules involved in enzyme reactions. Specifically, it \n",
       "includes one protein and four small molecules. The protein is \u001b[32m'Alcohol Dehydrogenase'\u001b[0m with the enzyme \n",
       "classification number \u001b[32m'1.1.1.1'\u001b[0m. The small molecules are \u001b[32m'Ethanol'\u001b[0m, \u001b[32m'Acetaldehyde'\u001b[0m, \u001b[32m'NAD+'\u001b[0m, and \u001b[32m'NADH'\u001b[0m. Below is \n",
       "the table summarizing the names and types of the entries:\n",
       "\n",
       "| Name                  | Type    |\n",
       "|-----------------------|---------|\n",
       "| Alcohol Dehydrogenase | Enzyme  |\n",
       "| Ethanol               | Molecule|\n",
       "| Acetaldehyde          | Molecule|\n",
       "| NAD+                  | Molecule|\n",
       "| NADH                  | Molecule|\n"
      ]
     },
     "metadata": {},
     "output_type": "display_data"
    }
   ],
   "source": [
    "# Ask the LLM to describe the dataset in detail and provide a table \n",
    "# that contains all molecules and enzymes (name, type).\n",
    "response = dataset_query(\n",
    "    data=enzmldoc,\n",
    "    query=\"Describe the dataset in detail and provide a table that contains all molecules and enzymes (name, type)\",\n",
    "    pre_prompt=\"You are proficient in biochemistry and have been tasked with analyzing a dataset of enzyme reactions.\",\n",
    ")\n",
    "\n",
    "rich.print(response)"
   ]
  }
 ],
 "metadata": {
  "kernelspec": {
   "display_name": "mdmodels",
   "language": "python",
   "name": "python3"
  },
  "language_info": {
   "codemirror_mode": {
    "name": "ipython",
    "version": 3
   },
   "file_extension": ".py",
   "mimetype": "text/x-python",
   "name": "python",
   "nbconvert_exporter": "python",
   "pygments_lexer": "ipython3",
   "version": "3.11.10"
  }
 },
 "nbformat": 4,
 "nbformat_minor": 5
}
