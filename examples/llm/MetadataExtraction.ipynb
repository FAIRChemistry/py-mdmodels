{
 "cells": [
  {
   "cell_type": "code",
   "id": "initial_id",
   "metadata": {
    "collapsed": true,
    "ExecuteTime": {
     "end_time": "2024-11-26T07:33:35.645798Z",
     "start_time": "2024-11-26T07:33:35.018466Z"
    }
   },
   "source": [
    "import os\n",
    "\n",
    "from mdmodels import DataModel\n",
    "from mdmodels.llm import query_openai"
   ],
   "outputs": [],
   "execution_count": 1
  },
  {
   "metadata": {
    "ExecuteTime": {
     "end_time": "2024-11-26T07:33:35.802303Z",
     "start_time": "2024-11-26T07:33:35.649084Z"
    }
   },
   "cell_type": "code",
   "source": [
    "# Load the model from a markdown file\n",
    "model = DataModel.from_markdown(\"model.md\")"
   ],
   "id": "3d55aa68e15f4cbc",
   "outputs": [],
   "execution_count": 2
  },
  {
   "metadata": {
    "ExecuteTime": {
     "end_time": "2024-11-26T07:33:35.837344Z",
     "start_time": "2024-11-26T07:33:35.835497Z"
    }
   },
   "cell_type": "code",
   "source": [
    "# Prepare LLM query\n",
    "content = open(\"query.md\").read()\n",
    "pre_prompt = \"\"\"\n",
    "You are proficient in chemistry and biochemistry. It is very important to provide units in the short form. For example, 'millimole per liter' should be 'mmol/L'.\n",
    "\"\"\""
   ],
   "id": "3dbe623326c8eaed",
   "outputs": [],
   "execution_count": 4
  },
  {
   "metadata": {
    "ExecuteTime": {
     "end_time": "2024-11-26T07:34:06.658761Z",
     "start_time": "2024-11-26T07:33:35.841858Z"
    }
   },
   "cell_type": "code",
   "source": [
    "# Query the model\n",
    "response = query_openai(\n",
    "    response_model=model.ChemicalProject,\n",
    "    to_parse=content,\n",
    "    pre_prompt=pre_prompt,\n",
    "    refine_query=False,\n",
    "    query_web=False,\n",
    ")"
   ],
   "id": "13aeafc4d1e1322b",
   "outputs": [
    {
     "data": {
      "text/plain": [
       "Output()"
      ],
      "application/vnd.jupyter.widget-view+json": {
       "version_major": 2,
       "version_minor": 0,
       "model_id": "3b5ba036df954fca94b040291d10e7a9"
      }
     },
     "metadata": {},
     "output_type": "display_data"
    },
    {
     "data": {
      "text/plain": [],
      "text/html": [
       "<pre style=\"white-space:pre;overflow-x:auto;line-height:normal;font-family:Menlo,'DejaVu Sans Mono',consolas,'Courier New',monospace\"></pre>\n"
      ]
     },
     "metadata": {},
     "output_type": "display_data"
    },
    {
     "data": {
      "text/plain": [
       "\n",
       "\u001B[1;32mDataset_description:\u001B[0m\n"
      ],
      "text/html": [
       "<pre style=\"white-space:pre;overflow-x:auto;line-height:normal;font-family:Menlo,'DejaVu Sans Mono',consolas,'Courier New',monospace\">\n",
       "<span style=\"color: #008000; text-decoration-color: #008000; font-weight: bold\">Dataset_description:</span>\n",
       "</pre>\n"
      ]
     },
     "metadata": {},
     "output_type": "display_data"
    },
    {
     "data": {
      "text/plain": [
       "The dataset contains information about the degradation of ethanol, including the molecules involved and their \n",
       "concentrations in various experiments. The molecules studied are Ethanol \u001B[1m(\u001B[0mC2H5OH\u001B[1m)\u001B[0m and Acetaldehyde \u001B[1m(\u001B[0mC2H4O\u001B[1m)\u001B[0m. The \n",
       "experiments conducted have varying concentrations of these molecules, measured in different units such as mol/L, \n",
       "mmol/L, g/L, and mg/L.\n"
      ],
      "text/html": [
       "<pre style=\"white-space:pre;overflow-x:auto;line-height:normal;font-family:Menlo,'DejaVu Sans Mono',consolas,'Courier New',monospace\">The dataset contains information about the degradation of ethanol, including the molecules involved and their \n",
       "concentrations in various experiments. The molecules studied are Ethanol <span style=\"font-weight: bold\">(</span>C2H5OH<span style=\"font-weight: bold\">)</span> and Acetaldehyde <span style=\"font-weight: bold\">(</span>C2H4O<span style=\"font-weight: bold\">)</span>. The \n",
       "experiments conducted have varying concentrations of these molecules, measured in different units such as mol/L, \n",
       "mmol/L, g/L, and mg/L.\n",
       "</pre>\n"
      ]
     },
     "metadata": {},
     "output_type": "display_data"
    },
    {
     "data": {
      "text/plain": [
       "\n",
       "\u001B[1;32mChain_of_thought:\u001B[0m\n"
      ],
      "text/html": [
       "<pre style=\"white-space:pre;overflow-x:auto;line-height:normal;font-family:Menlo,'DejaVu Sans Mono',consolas,'Courier New',monospace\">\n",
       "<span style=\"color: #008000; text-decoration-color: #008000; font-weight: bold\">Chain_of_thought:</span>\n",
       "</pre>\n"
      ]
     },
     "metadata": {},
     "output_type": "display_data"
    },
    {
     "data": {
      "text/plain": [
       "I identified the molecules and their formulas from the provided table. Then, I extracted the experiment data, \n",
       "including experiment IDs, molecule names, concentrations, and units. I ensured that the units were in the correct \n",
       "short form, such as \u001B[32m'mol/L'\u001B[0m and \u001B[32m'mmol/L'\u001B[0m. I organized this information into the appropriate JSON structure, \n",
       "including molecules and experiments with their initial concentrations. I corrected the unit \u001B[32m'mM'\u001B[0m to \u001B[32m'mmol/L'\u001B[0m to \n",
       "ensure consistency and validity.\n"
      ],
      "text/html": [
       "<pre style=\"white-space:pre;overflow-x:auto;line-height:normal;font-family:Menlo,'DejaVu Sans Mono',consolas,'Courier New',monospace\">I identified the molecules and their formulas from the provided table. Then, I extracted the experiment data, \n",
       "including experiment IDs, molecule names, concentrations, and units. I ensured that the units were in the correct \n",
       "short form, such as <span style=\"color: #008000; text-decoration-color: #008000\">'mol/L'</span> and <span style=\"color: #008000; text-decoration-color: #008000\">'mmol/L'</span>. I organized this information into the appropriate JSON structure, \n",
       "including molecules and experiments with their initial concentrations. I corrected the unit <span style=\"color: #008000; text-decoration-color: #008000\">'mM'</span> to <span style=\"color: #008000; text-decoration-color: #008000\">'mmol/L'</span> to \n",
       "ensure consistency and validity.\n",
       "</pre>\n"
      ]
     },
     "metadata": {},
     "output_type": "display_data"
    },
    {
     "data": {
      "text/plain": [
       "\n",
       "\u001B[1;32mAction:\u001B[0m\n"
      ],
      "text/html": [
       "<pre style=\"white-space:pre;overflow-x:auto;line-height:normal;font-family:Menlo,'DejaVu Sans Mono',consolas,'Courier New',monospace\">\n",
       "<span style=\"color: #008000; text-decoration-color: #008000; font-weight: bold\">Action:</span>\n",
       "</pre>\n"
      ]
     },
     "metadata": {},
     "output_type": "display_data"
    },
    {
     "data": {
      "text/plain": [
       "Action.EXTRACTION\n"
      ],
      "text/html": [
       "<pre style=\"white-space:pre;overflow-x:auto;line-height:normal;font-family:Menlo,'DejaVu Sans Mono',consolas,'Courier New',monospace\">Action.EXTRACTION\n",
       "</pre>\n"
      ]
     },
     "metadata": {},
     "output_type": "display_data"
    },
    {
     "data": {
      "text/plain": [
       "\n",
       "\u001B[1;32mData:\u001B[0m\n"
      ],
      "text/html": [
       "<pre style=\"white-space:pre;overflow-x:auto;line-height:normal;font-family:Menlo,'DejaVu Sans Mono',consolas,'Courier New',monospace\">\n",
       "<span style=\"color: #008000; text-decoration-color: #008000; font-weight: bold\">Data:</span>\n",
       "</pre>\n"
      ]
     },
     "metadata": {},
     "output_type": "display_data"
    },
    {
     "data": {
      "text/plain": [
       "\u001B[1;35mChemicalProject\u001B[0m\u001B[1m(\u001B[0m\n",
       "    \u001B[33mtitle\u001B[0m=\u001B[32m'Ethanol degradation'\u001B[0m,\n",
       "    \u001B[33mmolecules\u001B[0m=\u001B[1m[\u001B[0m\n",
       "        \u001B[1;35mMolecule\u001B[0m\u001B[1m(\u001B[0m\u001B[33mid\u001B[0m=\u001B[32m'1'\u001B[0m, \u001B[33mname\u001B[0m=\u001B[32m'Ethanol'\u001B[0m, \u001B[33mformula\u001B[0m=\u001B[32m'C2H5OH'\u001B[0m\u001B[1m)\u001B[0m,\n",
       "        \u001B[1;35mMolecule\u001B[0m\u001B[1m(\u001B[0m\u001B[33mid\u001B[0m=\u001B[32m'2'\u001B[0m, \u001B[33mname\u001B[0m=\u001B[32m'Acetaldehyde'\u001B[0m, \u001B[33mformula\u001B[0m=\u001B[32m'C2H4O'\u001B[0m\u001B[1m)\u001B[0m\n",
       "    \u001B[1m]\u001B[0m,\n",
       "    \u001B[33mreactions\u001B[0m=\u001B[1m[\u001B[0m\u001B[1m]\u001B[0m,\n",
       "    \u001B[33mexperiments\u001B[0m=\u001B[1m[\u001B[0m\n",
       "        \u001B[1;35mExperiment\u001B[0m\u001B[1m(\u001B[0m\n",
       "            \u001B[33mid\u001B[0m=\u001B[32m'1'\u001B[0m,\n",
       "            \u001B[33minitial_concentrations\u001B[0m=\u001B[1m[\u001B[0m\n",
       "                \u001B[1;35mConcentration\u001B[0m\u001B[1m(\u001B[0m\n",
       "                    \u001B[33mmolecule_id\u001B[0m=\u001B[32m'1'\u001B[0m,\n",
       "                    \u001B[33mvalue\u001B[0m=\u001B[1;36m100\u001B[0m\u001B[1;36m.0\u001B[0m,\n",
       "                    \u001B[33munit\u001B[0m=\u001B[1;35mUnitDefinition\u001B[0m\u001B[1m(\u001B[0m\n",
       "                        \u001B[33mid\u001B[0m=\u001B[32m'mol / l'\u001B[0m,\n",
       "                        \u001B[33mname\u001B[0m=\u001B[32m'mol / l'\u001B[0m,\n",
       "                        \u001B[33mbase_units\u001B[0m=\u001B[1m[\u001B[0m\n",
       "                            \u001B[1;35mBaseUnit\u001B[0m\u001B[1m(\u001B[0m\u001B[33mkind\u001B[0m=\u001B[1m<\u001B[0m\u001B[1;95mUnitType.MOLE:\u001B[0m\u001B[39m \u001B[0m\u001B[32m'mole'\u001B[0m\u001B[39m>, \u001B[0m\u001B[33mexponent\u001B[0m\u001B[39m=\u001B[0m\u001B[1;36m1\u001B[0m\u001B[39m, \u001B[0m\u001B[33mmultiplier\u001B[0m\u001B[39m=\u001B[0m\u001B[1;36m1\u001B[0m\u001B[1;36m.0\u001B[0m\u001B[39m, \u001B[0m\u001B[33mscale\u001B[0m\u001B[39m=\u001B[0m\u001B[1;36m1\u001B[0m\u001B[1;36m.0\u001B[0m\u001B[1;39m)\u001B[0m\u001B[39m,\u001B[0m\n",
       "\u001B[39m                            \u001B[0m\u001B[1;35mBaseUnit\u001B[0m\u001B[1;39m(\u001B[0m\u001B[33mkind\u001B[0m\u001B[39m=<UnitType.LITRE: \u001B[0m\u001B[32m'litre'\u001B[0m\u001B[39m>, \u001B[0m\u001B[33mexponent\u001B[0m\u001B[39m=\u001B[0m\u001B[1;36m-1\u001B[0m\u001B[39m, \u001B[0m\u001B[33mmultiplier\u001B[0m\u001B[39m=\u001B[0m\u001B[1;36m1\u001B[0m\u001B[1;36m.0\u001B[0m\u001B[39m, \u001B[0m\u001B[33mscale\u001B[0m\u001B[39m=\u001B[0m\u001B[1;36m1\u001B[0m\u001B[1;36m.0\u001B[0m\u001B[1;39m)\u001B[0m\n",
       "\u001B[39m                        \u001B[0m\u001B[1;39m]\u001B[0m\n",
       "\u001B[39m                    \u001B[0m\u001B[1;39m)\u001B[0m\n",
       "\u001B[39m                \u001B[0m\u001B[1;39m)\u001B[0m\u001B[39m,\u001B[0m\n",
       "\u001B[39m                \u001B[0m\u001B[1;35mConcentration\u001B[0m\u001B[1;39m(\u001B[0m\n",
       "\u001B[39m                    \u001B[0m\u001B[33mmolecule_id\u001B[0m\u001B[39m=\u001B[0m\u001B[32m'2'\u001B[0m\u001B[39m,\u001B[0m\n",
       "\u001B[39m                    \u001B[0m\u001B[33mvalue\u001B[0m\u001B[39m=\u001B[0m\u001B[1;36m200\u001B[0m\u001B[1;36m.0\u001B[0m\u001B[39m,\u001B[0m\n",
       "\u001B[39m                    \u001B[0m\u001B[33munit\u001B[0m\u001B[39m=\u001B[0m\u001B[1;35mUnitDefinition\u001B[0m\u001B[1;39m(\u001B[0m\n",
       "\u001B[39m                        \u001B[0m\u001B[33mid\u001B[0m\u001B[39m=\u001B[0m\u001B[32m'mol / l'\u001B[0m\u001B[39m,\u001B[0m\n",
       "\u001B[39m                        \u001B[0m\u001B[33mname\u001B[0m\u001B[39m=\u001B[0m\u001B[32m'mol / l'\u001B[0m\u001B[39m,\u001B[0m\n",
       "\u001B[39m                        \u001B[0m\u001B[33mbase_units\u001B[0m\u001B[39m=\u001B[0m\u001B[1;39m[\u001B[0m\n",
       "\u001B[39m                            \u001B[0m\u001B[1;35mBaseUnit\u001B[0m\u001B[1;39m(\u001B[0m\u001B[33mkind\u001B[0m\u001B[39m=<UnitType.MOLE: \u001B[0m\u001B[32m'mole'\u001B[0m\u001B[39m>, \u001B[0m\u001B[33mexponent\u001B[0m\u001B[39m=\u001B[0m\u001B[1;36m1\u001B[0m\u001B[39m, \u001B[0m\u001B[33mmultiplier\u001B[0m\u001B[39m=\u001B[0m\u001B[1;36m1\u001B[0m\u001B[1;36m.0\u001B[0m\u001B[39m, \u001B[0m\u001B[33mscale\u001B[0m\u001B[39m=\u001B[0m\u001B[1;36m1\u001B[0m\u001B[1;36m.0\u001B[0m\u001B[1;39m)\u001B[0m\u001B[39m,\u001B[0m\n",
       "\u001B[39m                            \u001B[0m\u001B[1;35mBaseUnit\u001B[0m\u001B[1;39m(\u001B[0m\u001B[33mkind\u001B[0m\u001B[39m=<UnitType.LITRE: \u001B[0m\u001B[32m'litre'\u001B[0m\u001B[39m>, \u001B[0m\u001B[33mexponent\u001B[0m\u001B[39m=\u001B[0m\u001B[1;36m-1\u001B[0m\u001B[39m, \u001B[0m\u001B[33mmultiplier\u001B[0m\u001B[39m=\u001B[0m\u001B[1;36m1\u001B[0m\u001B[1;36m.0\u001B[0m\u001B[39m, \u001B[0m\u001B[33mscale\u001B[0m\u001B[39m=\u001B[0m\u001B[1;36m1\u001B[0m\u001B[1;36m.0\u001B[0m\u001B[1;39m)\u001B[0m\n",
       "\u001B[39m                        \u001B[0m\u001B[1;39m]\u001B[0m\n",
       "\u001B[39m                    \u001B[0m\u001B[1;39m)\u001B[0m\n",
       "\u001B[39m                \u001B[0m\u001B[1;39m)\u001B[0m\n",
       "\u001B[39m            \u001B[0m\u001B[1;39m]\u001B[0m\n",
       "\u001B[39m        \u001B[0m\u001B[1;39m)\u001B[0m\u001B[39m,\u001B[0m\n",
       "\u001B[39m        \u001B[0m\u001B[1;35mExperiment\u001B[0m\u001B[1;39m(\u001B[0m\n",
       "\u001B[39m            \u001B[0m\u001B[33mid\u001B[0m\u001B[39m=\u001B[0m\u001B[32m'2'\u001B[0m\u001B[39m,\u001B[0m\n",
       "\u001B[39m            \u001B[0m\u001B[33minitial_concentrations\u001B[0m\u001B[39m=\u001B[0m\u001B[1;39m[\u001B[0m\n",
       "\u001B[39m                \u001B[0m\u001B[1;35mConcentration\u001B[0m\u001B[1;39m(\u001B[0m\n",
       "\u001B[39m                    \u001B[0m\u001B[33mmolecule_id\u001B[0m\u001B[39m=\u001B[0m\u001B[32m'1'\u001B[0m\u001B[39m,\u001B[0m\n",
       "\u001B[39m                    \u001B[0m\u001B[33mvalue\u001B[0m\u001B[39m=\u001B[0m\u001B[1;36m50\u001B[0m\u001B[1;36m.0\u001B[0m\u001B[39m,\u001B[0m\n",
       "\u001B[39m                    \u001B[0m\u001B[33munit\u001B[0m\u001B[39m=\u001B[0m\u001B[1;35mUnitDefinition\u001B[0m\u001B[1;39m(\u001B[0m\n",
       "\u001B[39m                        \u001B[0m\u001B[33mid\u001B[0m\u001B[39m=\u001B[0m\u001B[32m'mmol / l'\u001B[0m\u001B[39m,\u001B[0m\n",
       "\u001B[39m                        \u001B[0m\u001B[33mname\u001B[0m\u001B[39m=\u001B[0m\u001B[32m'mmol / l'\u001B[0m\u001B[39m,\u001B[0m\n",
       "\u001B[39m                        \u001B[0m\u001B[33mbase_units\u001B[0m\u001B[39m=\u001B[0m\u001B[1;39m[\u001B[0m\n",
       "\u001B[39m                            \u001B[0m\u001B[1;35mBaseUnit\u001B[0m\u001B[1;39m(\u001B[0m\u001B[33mkind\u001B[0m\u001B[39m=<UnitType.MOLE: \u001B[0m\u001B[32m'mole'\u001B[0m\u001B[39m>, \u001B[0m\u001B[33mexponent\u001B[0m\u001B[39m=\u001B[0m\u001B[1;36m1\u001B[0m\u001B[39m, \u001B[0m\u001B[33mmultiplier\u001B[0m\u001B[39m=\u001B[0m\u001B[1;36m1\u001B[0m\u001B[1;36m.0\u001B[0m\u001B[39m, \u001B[0m\u001B[33mscale\u001B[0m\u001B[39m=\u001B[0m\u001B[1;36m0\u001B[0m\u001B[1;36m.001\u001B[0m\u001B[1;39m)\u001B[0m\u001B[39m,\u001B[0m\n",
       "\u001B[39m                            \u001B[0m\u001B[1;35mBaseUnit\u001B[0m\u001B[1;39m(\u001B[0m\u001B[33mkind\u001B[0m\u001B[39m=<UnitType.LITRE: \u001B[0m\u001B[32m'litre'\u001B[0m\u001B[39m>, \u001B[0m\u001B[33mexponent\u001B[0m\u001B[39m=\u001B[0m\u001B[1;36m-1\u001B[0m\u001B[39m, \u001B[0m\u001B[33mmultiplier\u001B[0m\u001B[39m=\u001B[0m\u001B[1;36m1\u001B[0m\u001B[1;36m.0\u001B[0m\u001B[39m, \u001B[0m\u001B[33mscale\u001B[0m\u001B[39m=\u001B[0m\u001B[1;36m1\u001B[0m\u001B[1;36m.0\u001B[0m\u001B[1;39m)\u001B[0m\n",
       "\u001B[39m                        \u001B[0m\u001B[1;39m]\u001B[0m\n",
       "\u001B[39m                    \u001B[0m\u001B[1;39m)\u001B[0m\n",
       "\u001B[39m                \u001B[0m\u001B[1;39m)\u001B[0m\u001B[39m,\u001B[0m\n",
       "\u001B[39m                \u001B[0m\u001B[1;35mConcentration\u001B[0m\u001B[1;39m(\u001B[0m\n",
       "\u001B[39m                    \u001B[0m\u001B[33mmolecule_id\u001B[0m\u001B[39m=\u001B[0m\u001B[32m'2'\u001B[0m\u001B[39m,\u001B[0m\n",
       "\u001B[39m                    \u001B[0m\u001B[33mvalue\u001B[0m\u001B[39m=\u001B[0m\u001B[1;36m20\u001B[0m\u001B[1;36m.0\u001B[0m\u001B[39m,\u001B[0m\n",
       "\u001B[39m                    \u001B[0m\u001B[33munit\u001B[0m\u001B[39m=\u001B[0m\u001B[1;35mUnitDefinition\u001B[0m\u001B[1;39m(\u001B[0m\n",
       "\u001B[39m                        \u001B[0m\u001B[33mid\u001B[0m\u001B[39m=\u001B[0m\u001B[32m'mol / l'\u001B[0m\u001B[39m,\u001B[0m\n",
       "\u001B[39m                        \u001B[0m\u001B[33mname\u001B[0m\u001B[39m=\u001B[0m\u001B[32m'mol / l'\u001B[0m\u001B[39m,\u001B[0m\n",
       "\u001B[39m                        \u001B[0m\u001B[33mbase_units\u001B[0m\u001B[39m=\u001B[0m\u001B[1;39m[\u001B[0m\n",
       "\u001B[39m                            \u001B[0m\u001B[1;35mBaseUnit\u001B[0m\u001B[1;39m(\u001B[0m\u001B[33mkind\u001B[0m\u001B[39m=<UnitType.MOLE: \u001B[0m\u001B[32m'mole'\u001B[0m\u001B[39m>, \u001B[0m\u001B[33mexponent\u001B[0m\u001B[39m=\u001B[0m\u001B[1;36m1\u001B[0m\u001B[39m, \u001B[0m\u001B[33mmultiplier\u001B[0m\u001B[39m=\u001B[0m\u001B[1;36m1\u001B[0m\u001B[1;36m.0\u001B[0m\u001B[39m, \u001B[0m\u001B[33mscale\u001B[0m\u001B[39m=\u001B[0m\u001B[1;36m1\u001B[0m\u001B[1;36m.0\u001B[0m\u001B[1;39m)\u001B[0m\u001B[39m,\u001B[0m\n",
       "\u001B[39m                            \u001B[0m\u001B[1;35mBaseUnit\u001B[0m\u001B[1;39m(\u001B[0m\u001B[33mkind\u001B[0m\u001B[39m=<UnitType.LITRE: \u001B[0m\u001B[32m'litre'\u001B[0m\u001B[39m>, \u001B[0m\u001B[33mexponent\u001B[0m\u001B[39m=\u001B[0m\u001B[1;36m-1\u001B[0m\u001B[39m, \u001B[0m\u001B[33mmultiplier\u001B[0m\u001B[39m=\u001B[0m\u001B[1;36m1\u001B[0m\u001B[1;36m.0\u001B[0m\u001B[39m, \u001B[0m\u001B[33mscale\u001B[0m\u001B[39m=\u001B[0m\u001B[1;36m1\u001B[0m\u001B[1;36m.0\u001B[0m\u001B[1;39m)\u001B[0m\n",
       "\u001B[39m                        \u001B[0m\u001B[1;39m]\u001B[0m\n",
       "\u001B[39m                    \u001B[0m\u001B[1;39m)\u001B[0m\n",
       "\u001B[39m                \u001B[0m\u001B[1;39m)\u001B[0m\n",
       "\u001B[39m            \u001B[0m\u001B[1;39m]\u001B[0m\n",
       "\u001B[39m        \u001B[0m\u001B[1;39m)\u001B[0m\u001B[39m,\u001B[0m\n",
       "\u001B[39m        \u001B[0m\u001B[1;35mExperiment\u001B[0m\u001B[1;39m(\u001B[0m\n",
       "\u001B[39m            \u001B[0m\u001B[33mid\u001B[0m\u001B[39m=\u001B[0m\u001B[32m'3'\u001B[0m\u001B[39m,\u001B[0m\n",
       "\u001B[39m            \u001B[0m\u001B[33minitial_concentrations\u001B[0m\u001B[39m=\u001B[0m\u001B[1;39m[\u001B[0m\n",
       "\u001B[39m                \u001B[0m\u001B[1;35mConcentration\u001B[0m\u001B[1;39m(\u001B[0m\n",
       "\u001B[39m                    \u001B[0m\u001B[33mmolecule_id\u001B[0m\u001B[39m=\u001B[0m\u001B[32m'1'\u001B[0m\u001B[39m,\u001B[0m\n",
       "\u001B[39m                    \u001B[0m\u001B[33mvalue\u001B[0m\u001B[39m=\u001B[0m\u001B[1;36m10\u001B[0m\u001B[1;36m.0\u001B[0m\u001B[39m,\u001B[0m\n",
       "\u001B[39m                    \u001B[0m\u001B[33munit\u001B[0m\u001B[39m=\u001B[0m\u001B[1;35mUnitDefinition\u001B[0m\u001B[1;39m(\u001B[0m\n",
       "\u001B[39m                        \u001B[0m\u001B[33mid\u001B[0m\u001B[39m=\u001B[0m\u001B[32m'g / l'\u001B[0m\u001B[39m,\u001B[0m\n",
       "\u001B[39m                        \u001B[0m\u001B[33mname\u001B[0m\u001B[39m=\u001B[0m\u001B[32m'g / l'\u001B[0m\u001B[39m,\u001B[0m\n",
       "\u001B[39m                        \u001B[0m\u001B[33mbase_units\u001B[0m\u001B[39m=\u001B[0m\u001B[1;39m[\u001B[0m\n",
       "\u001B[39m                            \u001B[0m\u001B[1;35mBaseUnit\u001B[0m\u001B[1;39m(\u001B[0m\u001B[33mkind\u001B[0m\u001B[39m=<UnitType.GRAM: \u001B[0m\u001B[32m'gram'\u001B[0m\u001B[39m>, \u001B[0m\u001B[33mexponent\u001B[0m\u001B[39m=\u001B[0m\u001B[1;36m1\u001B[0m\u001B[39m, \u001B[0m\u001B[33mmultiplier\u001B[0m\u001B[39m=\u001B[0m\u001B[1;36m1\u001B[0m\u001B[1;36m.0\u001B[0m\u001B[39m, \u001B[0m\u001B[33mscale\u001B[0m\u001B[39m=\u001B[0m\u001B[1;36m1\u001B[0m\u001B[1;36m.0\u001B[0m\u001B[1;39m)\u001B[0m\u001B[39m,\u001B[0m\n",
       "\u001B[39m                            \u001B[0m\u001B[1;35mBaseUnit\u001B[0m\u001B[1;39m(\u001B[0m\u001B[33mkind\u001B[0m\u001B[39m=<UnitType.LITRE: \u001B[0m\u001B[32m'litre'\u001B[0m\u001B[39m>, \u001B[0m\u001B[33mexponent\u001B[0m\u001B[39m=\u001B[0m\u001B[1;36m-1\u001B[0m\u001B[39m, \u001B[0m\u001B[33mmultiplier\u001B[0m\u001B[39m=\u001B[0m\u001B[1;36m1\u001B[0m\u001B[1;36m.0\u001B[0m\u001B[39m, \u001B[0m\u001B[33mscale\u001B[0m\u001B[39m=\u001B[0m\u001B[1;36m1\u001B[0m\u001B[1;36m.0\u001B[0m\u001B[1;39m)\u001B[0m\n",
       "\u001B[39m                        \u001B[0m\u001B[1;39m]\u001B[0m\n",
       "\u001B[39m                    \u001B[0m\u001B[1;39m)\u001B[0m\n",
       "\u001B[39m                \u001B[0m\u001B[1;39m)\u001B[0m\u001B[39m,\u001B[0m\n",
       "\u001B[39m                \u001B[0m\u001B[1;35mConcentration\u001B[0m\u001B[1;39m(\u001B[0m\n",
       "\u001B[39m                    \u001B[0m\u001B[33mmolecule_id\u001B[0m\u001B[39m=\u001B[0m\u001B[32m'2'\u001B[0m\u001B[39m,\u001B[0m\n",
       "\u001B[39m                    \u001B[0m\u001B[33mvalue\u001B[0m\u001B[39m=\u001B[0m\u001B[1;36m5\u001B[0m\u001B[1;36m.0\u001B[0m\u001B[39m,\u001B[0m\n",
       "\u001B[39m                    \u001B[0m\u001B[33munit\u001B[0m\u001B[39m=\u001B[0m\u001B[1;35mUnitDefinition\u001B[0m\u001B[1;39m(\u001B[0m\n",
       "\u001B[39m                        \u001B[0m\u001B[33mid\u001B[0m\u001B[39m=\u001B[0m\u001B[32m'mg / l'\u001B[0m\u001B[39m,\u001B[0m\n",
       "\u001B[39m                        \u001B[0m\u001B[33mname\u001B[0m\u001B[39m=\u001B[0m\u001B[32m'mg / l'\u001B[0m\u001B[39m,\u001B[0m\n",
       "\u001B[39m                        \u001B[0m\u001B[33mbase_units\u001B[0m\u001B[39m=\u001B[0m\u001B[1;39m[\u001B[0m\n",
       "\u001B[39m                            \u001B[0m\u001B[1;35mBaseUnit\u001B[0m\u001B[1;39m(\u001B[0m\u001B[33mkind\u001B[0m\u001B[39m=<UnitType.GRAM: \u001B[0m\u001B[32m'gram'\u001B[0m\u001B[39m>, \u001B[0m\u001B[33mexponent\u001B[0m\u001B[39m=\u001B[0m\u001B[1;36m1\u001B[0m\u001B[39m, \u001B[0m\u001B[33mmultiplier\u001B[0m\u001B[39m=\u001B[0m\u001B[1;36m1\u001B[0m\u001B[1;36m.0\u001B[0m\u001B[39m, \u001B[0m\u001B[33mscale\u001B[0m\u001B[39m=\u001B[0m\u001B[1;36m0\u001B[0m\u001B[1;36m.001\u001B[0m\u001B[1;39m)\u001B[0m\u001B[39m,\u001B[0m\n",
       "\u001B[39m                            \u001B[0m\u001B[1;35mBaseUnit\u001B[0m\u001B[1;39m(\u001B[0m\u001B[33mkind\u001B[0m\u001B[39m=<UnitType.LITRE: \u001B[0m\u001B[32m'litre'\u001B[0m\u001B[39m>, \u001B[0m\u001B[33mexponent\u001B[0m\u001B[39m=\u001B[0m\u001B[1;36m-1\u001B[0m\u001B[39m, \u001B[0m\u001B[33mmultiplier\u001B[0m\u001B[39m=\u001B[0m\u001B[1;36m1\u001B[0m\u001B[1;36m.0\u001B[0m\u001B[39m, \u001B[0m\u001B[33mscale\u001B[0m\u001B[39m=\u001B[0m\u001B[1;36m1\u001B[0m\u001B[1;36m.0\u001B[0m\u001B[1;39m)\u001B[0m\n",
       "\u001B[39m                        \u001B[0m\u001B[1;39m]\u001B[0m\n",
       "\u001B[39m                    \u001B[0m\u001B[1;39m)\u001B[0m\n",
       "\u001B[39m                \u001B[0m\u001B[1;39m)\u001B[0m\n",
       "\u001B[39m            \u001B[0m\u001B[1;39m]\u001B[0m\n",
       "\u001B[39m        \u001B[0m\u001B[1;39m)\u001B[0m\u001B[39m,\u001B[0m\n",
       "\u001B[39m        \u001B[0m\u001B[1;35mExperiment\u001B[0m\u001B[1;39m(\u001B[0m\n",
       "\u001B[39m            \u001B[0m\u001B[33mid\u001B[0m\u001B[39m=\u001B[0m\u001B[32m'4'\u001B[0m\u001B[39m,\u001B[0m\n",
       "\u001B[39m            \u001B[0m\u001B[33minitial_concentrations\u001B[0m\u001B[39m=\u001B[0m\u001B[1;39m[\u001B[0m\n",
       "\u001B[39m                \u001B[0m\u001B[1;35mConcentration\u001B[0m\u001B[1;39m(\u001B[0m\n",
       "\u001B[39m                    \u001B[0m\u001B[33mmolecule_id\u001B[0m\u001B[39m=\u001B[0m\u001B[32m'1'\u001B[0m\u001B[39m,\u001B[0m\n",
       "\u001B[39m                    \u001B[0m\u001B[33mvalue\u001B[0m\u001B[39m=\u001B[0m\u001B[1;36m1\u001B[0m\u001B[1;36m.0\u001B[0m\u001B[39m,\u001B[0m\n",
       "\u001B[39m                    \u001B[0m\u001B[33munit\u001B[0m\u001B[39m=\u001B[0m\u001B[1;35mUnitDefinition\u001B[0m\u001B[1;39m(\u001B[0m\n",
       "\u001B[39m                        \u001B[0m\u001B[33mid\u001B[0m\u001B[39m=\u001B[0m\u001B[32m'mol / l'\u001B[0m\u001B[39m,\u001B[0m\n",
       "\u001B[39m                        \u001B[0m\u001B[33mname\u001B[0m\u001B[39m=\u001B[0m\u001B[32m'mol / l'\u001B[0m\u001B[39m,\u001B[0m\n",
       "\u001B[39m                        \u001B[0m\u001B[33mbase_units\u001B[0m\u001B[39m=\u001B[0m\u001B[1;39m[\u001B[0m\n",
       "\u001B[39m                            \u001B[0m\u001B[1;35mBaseUnit\u001B[0m\u001B[1;39m(\u001B[0m\u001B[33mkind\u001B[0m\u001B[39m=<UnitType.MOLE: \u001B[0m\u001B[32m'mole'\u001B[0m\u001B[39m>, \u001B[0m\u001B[33mexponent\u001B[0m\u001B[39m=\u001B[0m\u001B[1;36m1\u001B[0m\u001B[39m, \u001B[0m\u001B[33mmultiplier\u001B[0m\u001B[39m=\u001B[0m\u001B[1;36m1\u001B[0m\u001B[1;36m.0\u001B[0m\u001B[39m, \u001B[0m\u001B[33mscale\u001B[0m\u001B[39m=\u001B[0m\u001B[1;36m1\u001B[0m\u001B[1;36m.0\u001B[0m\u001B[1;39m)\u001B[0m\u001B[39m,\u001B[0m\n",
       "\u001B[39m                            \u001B[0m\u001B[1;35mBaseUnit\u001B[0m\u001B[1;39m(\u001B[0m\u001B[33mkind\u001B[0m\u001B[39m=<UnitType.LITRE: \u001B[0m\u001B[32m'litre'\u001B[0m\u001B[39m>, \u001B[0m\u001B[33mexponent\u001B[0m\u001B[39m=\u001B[0m\u001B[1;36m-1\u001B[0m\u001B[39m, \u001B[0m\u001B[33mmultiplier\u001B[0m\u001B[39m=\u001B[0m\u001B[1;36m1\u001B[0m\u001B[1;36m.0\u001B[0m\u001B[39m, \u001B[0m\u001B[33mscale\u001B[0m\u001B[39m=\u001B[0m\u001B[1;36m1\u001B[0m\u001B[1;36m.0\u001B[0m\u001B[1;39m)\u001B[0m\n",
       "\u001B[39m                        \u001B[0m\u001B[1;39m]\u001B[0m\n",
       "\u001B[39m                    \u001B[0m\u001B[1;39m)\u001B[0m\n",
       "\u001B[39m                \u001B[0m\u001B[1;39m)\u001B[0m\u001B[39m,\u001B[0m\n",
       "\u001B[39m                \u001B[0m\u001B[1;35mConcentration\u001B[0m\u001B[1;39m(\u001B[0m\n",
       "\u001B[39m                    \u001B[0m\u001B[33mmolecule_id\u001B[0m\u001B[39m=\u001B[0m\u001B[32m'2'\u001B[0m\u001B[39m,\u001B[0m\n",
       "\u001B[39m                    \u001B[0m\u001B[33mvalue\u001B[0m\u001B[39m=\u001B[0m\u001B[1;36m2\u001B[0m\u001B[1;36m.0\u001B[0m\u001B[39m,\u001B[0m\n",
       "\u001B[39m                    \u001B[0m\u001B[33munit\u001B[0m\u001B[39m=\u001B[0m\u001B[1;35mUnitDefinition\u001B[0m\u001B[1;39m(\u001B[0m\n",
       "\u001B[39m                        \u001B[0m\u001B[33mid\u001B[0m\u001B[39m=\u001B[0m\u001B[32m'mmol / l'\u001B[0m\u001B[39m,\u001B[0m\n",
       "\u001B[39m                        \u001B[0m\u001B[33mname\u001B[0m\u001B[39m=\u001B[0m\u001B[32m'mmol / l'\u001B[0m\u001B[39m,\u001B[0m\n",
       "\u001B[39m                        \u001B[0m\u001B[33mbase_units\u001B[0m\u001B[39m=\u001B[0m\u001B[1;39m[\u001B[0m\n",
       "\u001B[39m                            \u001B[0m\u001B[1;35mBaseUnit\u001B[0m\u001B[1;39m(\u001B[0m\u001B[33mkind\u001B[0m\u001B[39m=<UnitType.MOLE: \u001B[0m\u001B[32m'mole'\u001B[0m\u001B[39m>, \u001B[0m\u001B[33mexponent\u001B[0m\u001B[39m=\u001B[0m\u001B[1;36m1\u001B[0m\u001B[39m, \u001B[0m\u001B[33mmultiplier\u001B[0m\u001B[39m=\u001B[0m\u001B[1;36m1\u001B[0m\u001B[1;36m.0\u001B[0m\u001B[39m, \u001B[0m\u001B[33mscale\u001B[0m\u001B[39m=\u001B[0m\u001B[1;36m0\u001B[0m\u001B[1;36m.001\u001B[0m\u001B[1;39m)\u001B[0m\u001B[39m,\u001B[0m\n",
       "\u001B[39m                            \u001B[0m\u001B[1;35mBaseUnit\u001B[0m\u001B[1;39m(\u001B[0m\u001B[33mkind\u001B[0m\u001B[39m=<UnitType.LITRE: \u001B[0m\u001B[32m'litre'\u001B[0m\u001B[1m>\u001B[0m, \u001B[33mexponent\u001B[0m=\u001B[1;36m-1\u001B[0m, \u001B[33mmultiplier\u001B[0m=\u001B[1;36m1\u001B[0m\u001B[1;36m.0\u001B[0m, \u001B[33mscale\u001B[0m=\u001B[1;36m1\u001B[0m\u001B[1;36m.0\u001B[0m\u001B[1m)\u001B[0m\n",
       "                        \u001B[1m]\u001B[0m\n",
       "                    \u001B[1m)\u001B[0m\n",
       "                \u001B[1m)\u001B[0m\n",
       "            \u001B[1m]\u001B[0m\n",
       "        \u001B[1m)\u001B[0m\n",
       "    \u001B[1m]\u001B[0m\n",
       "\u001B[1m)\u001B[0m\n"
      ],
      "text/html": [
       "<pre style=\"white-space:pre;overflow-x:auto;line-height:normal;font-family:Menlo,'DejaVu Sans Mono',consolas,'Courier New',monospace\"><span style=\"color: #800080; text-decoration-color: #800080; font-weight: bold\">ChemicalProject</span><span style=\"font-weight: bold\">(</span>\n",
       "    <span style=\"color: #808000; text-decoration-color: #808000\">title</span>=<span style=\"color: #008000; text-decoration-color: #008000\">'Ethanol degradation'</span>,\n",
       "    <span style=\"color: #808000; text-decoration-color: #808000\">molecules</span>=<span style=\"font-weight: bold\">[</span>\n",
       "        <span style=\"color: #800080; text-decoration-color: #800080; font-weight: bold\">Molecule</span><span style=\"font-weight: bold\">(</span><span style=\"color: #808000; text-decoration-color: #808000\">id</span>=<span style=\"color: #008000; text-decoration-color: #008000\">'1'</span>, <span style=\"color: #808000; text-decoration-color: #808000\">name</span>=<span style=\"color: #008000; text-decoration-color: #008000\">'Ethanol'</span>, <span style=\"color: #808000; text-decoration-color: #808000\">formula</span>=<span style=\"color: #008000; text-decoration-color: #008000\">'C2H5OH'</span><span style=\"font-weight: bold\">)</span>,\n",
       "        <span style=\"color: #800080; text-decoration-color: #800080; font-weight: bold\">Molecule</span><span style=\"font-weight: bold\">(</span><span style=\"color: #808000; text-decoration-color: #808000\">id</span>=<span style=\"color: #008000; text-decoration-color: #008000\">'2'</span>, <span style=\"color: #808000; text-decoration-color: #808000\">name</span>=<span style=\"color: #008000; text-decoration-color: #008000\">'Acetaldehyde'</span>, <span style=\"color: #808000; text-decoration-color: #808000\">formula</span>=<span style=\"color: #008000; text-decoration-color: #008000\">'C2H4O'</span><span style=\"font-weight: bold\">)</span>\n",
       "    <span style=\"font-weight: bold\">]</span>,\n",
       "    <span style=\"color: #808000; text-decoration-color: #808000\">reactions</span>=<span style=\"font-weight: bold\">[]</span>,\n",
       "    <span style=\"color: #808000; text-decoration-color: #808000\">experiments</span>=<span style=\"font-weight: bold\">[</span>\n",
       "        <span style=\"color: #800080; text-decoration-color: #800080; font-weight: bold\">Experiment</span><span style=\"font-weight: bold\">(</span>\n",
       "            <span style=\"color: #808000; text-decoration-color: #808000\">id</span>=<span style=\"color: #008000; text-decoration-color: #008000\">'1'</span>,\n",
       "            <span style=\"color: #808000; text-decoration-color: #808000\">initial_concentrations</span>=<span style=\"font-weight: bold\">[</span>\n",
       "                <span style=\"color: #800080; text-decoration-color: #800080; font-weight: bold\">Concentration</span><span style=\"font-weight: bold\">(</span>\n",
       "                    <span style=\"color: #808000; text-decoration-color: #808000\">molecule_id</span>=<span style=\"color: #008000; text-decoration-color: #008000\">'1'</span>,\n",
       "                    <span style=\"color: #808000; text-decoration-color: #808000\">value</span>=<span style=\"color: #008080; text-decoration-color: #008080; font-weight: bold\">100.0</span>,\n",
       "                    <span style=\"color: #808000; text-decoration-color: #808000\">unit</span>=<span style=\"color: #800080; text-decoration-color: #800080; font-weight: bold\">UnitDefinition</span><span style=\"font-weight: bold\">(</span>\n",
       "                        <span style=\"color: #808000; text-decoration-color: #808000\">id</span>=<span style=\"color: #008000; text-decoration-color: #008000\">'mol / l'</span>,\n",
       "                        <span style=\"color: #808000; text-decoration-color: #808000\">name</span>=<span style=\"color: #008000; text-decoration-color: #008000\">'mol / l'</span>,\n",
       "                        <span style=\"color: #808000; text-decoration-color: #808000\">base_units</span>=<span style=\"font-weight: bold\">[</span>\n",
       "                            <span style=\"color: #800080; text-decoration-color: #800080; font-weight: bold\">BaseUnit</span><span style=\"font-weight: bold\">(</span><span style=\"color: #808000; text-decoration-color: #808000\">kind</span>=<span style=\"font-weight: bold\">&lt;</span><span style=\"color: #ff00ff; text-decoration-color: #ff00ff; font-weight: bold\">UnitType.MOLE:</span><span style=\"color: #000000; text-decoration-color: #000000\"> </span><span style=\"color: #008000; text-decoration-color: #008000\">'mole'</span><span style=\"color: #000000; text-decoration-color: #000000\">&gt;, </span><span style=\"color: #808000; text-decoration-color: #808000\">exponent</span><span style=\"color: #000000; text-decoration-color: #000000\">=</span><span style=\"color: #008080; text-decoration-color: #008080; font-weight: bold\">1</span><span style=\"color: #000000; text-decoration-color: #000000\">, </span><span style=\"color: #808000; text-decoration-color: #808000\">multiplier</span><span style=\"color: #000000; text-decoration-color: #000000\">=</span><span style=\"color: #008080; text-decoration-color: #008080; font-weight: bold\">1.0</span><span style=\"color: #000000; text-decoration-color: #000000\">, </span><span style=\"color: #808000; text-decoration-color: #808000\">scale</span><span style=\"color: #000000; text-decoration-color: #000000\">=</span><span style=\"color: #008080; text-decoration-color: #008080; font-weight: bold\">1.0</span><span style=\"color: #000000; text-decoration-color: #000000; font-weight: bold\">)</span><span style=\"color: #000000; text-decoration-color: #000000\">,</span>\n",
       "<span style=\"color: #000000; text-decoration-color: #000000\">                            </span><span style=\"color: #800080; text-decoration-color: #800080; font-weight: bold\">BaseUnit</span><span style=\"color: #000000; text-decoration-color: #000000; font-weight: bold\">(</span><span style=\"color: #808000; text-decoration-color: #808000\">kind</span><span style=\"color: #000000; text-decoration-color: #000000\">=&lt;UnitType.LITRE: </span><span style=\"color: #008000; text-decoration-color: #008000\">'litre'</span><span style=\"color: #000000; text-decoration-color: #000000\">&gt;, </span><span style=\"color: #808000; text-decoration-color: #808000\">exponent</span><span style=\"color: #000000; text-decoration-color: #000000\">=</span><span style=\"color: #008080; text-decoration-color: #008080; font-weight: bold\">-1</span><span style=\"color: #000000; text-decoration-color: #000000\">, </span><span style=\"color: #808000; text-decoration-color: #808000\">multiplier</span><span style=\"color: #000000; text-decoration-color: #000000\">=</span><span style=\"color: #008080; text-decoration-color: #008080; font-weight: bold\">1.0</span><span style=\"color: #000000; text-decoration-color: #000000\">, </span><span style=\"color: #808000; text-decoration-color: #808000\">scale</span><span style=\"color: #000000; text-decoration-color: #000000\">=</span><span style=\"color: #008080; text-decoration-color: #008080; font-weight: bold\">1.0</span><span style=\"color: #000000; text-decoration-color: #000000; font-weight: bold\">)</span>\n",
       "<span style=\"color: #000000; text-decoration-color: #000000\">                        </span><span style=\"color: #000000; text-decoration-color: #000000; font-weight: bold\">]</span>\n",
       "<span style=\"color: #000000; text-decoration-color: #000000\">                    </span><span style=\"color: #000000; text-decoration-color: #000000; font-weight: bold\">)</span>\n",
       "<span style=\"color: #000000; text-decoration-color: #000000\">                </span><span style=\"color: #000000; text-decoration-color: #000000; font-weight: bold\">)</span><span style=\"color: #000000; text-decoration-color: #000000\">,</span>\n",
       "<span style=\"color: #000000; text-decoration-color: #000000\">                </span><span style=\"color: #800080; text-decoration-color: #800080; font-weight: bold\">Concentration</span><span style=\"color: #000000; text-decoration-color: #000000; font-weight: bold\">(</span>\n",
       "<span style=\"color: #000000; text-decoration-color: #000000\">                    </span><span style=\"color: #808000; text-decoration-color: #808000\">molecule_id</span><span style=\"color: #000000; text-decoration-color: #000000\">=</span><span style=\"color: #008000; text-decoration-color: #008000\">'2'</span><span style=\"color: #000000; text-decoration-color: #000000\">,</span>\n",
       "<span style=\"color: #000000; text-decoration-color: #000000\">                    </span><span style=\"color: #808000; text-decoration-color: #808000\">value</span><span style=\"color: #000000; text-decoration-color: #000000\">=</span><span style=\"color: #008080; text-decoration-color: #008080; font-weight: bold\">200.0</span><span style=\"color: #000000; text-decoration-color: #000000\">,</span>\n",
       "<span style=\"color: #000000; text-decoration-color: #000000\">                    </span><span style=\"color: #808000; text-decoration-color: #808000\">unit</span><span style=\"color: #000000; text-decoration-color: #000000\">=</span><span style=\"color: #800080; text-decoration-color: #800080; font-weight: bold\">UnitDefinition</span><span style=\"color: #000000; text-decoration-color: #000000; font-weight: bold\">(</span>\n",
       "<span style=\"color: #000000; text-decoration-color: #000000\">                        </span><span style=\"color: #808000; text-decoration-color: #808000\">id</span><span style=\"color: #000000; text-decoration-color: #000000\">=</span><span style=\"color: #008000; text-decoration-color: #008000\">'mol / l'</span><span style=\"color: #000000; text-decoration-color: #000000\">,</span>\n",
       "<span style=\"color: #000000; text-decoration-color: #000000\">                        </span><span style=\"color: #808000; text-decoration-color: #808000\">name</span><span style=\"color: #000000; text-decoration-color: #000000\">=</span><span style=\"color: #008000; text-decoration-color: #008000\">'mol / l'</span><span style=\"color: #000000; text-decoration-color: #000000\">,</span>\n",
       "<span style=\"color: #000000; text-decoration-color: #000000\">                        </span><span style=\"color: #808000; text-decoration-color: #808000\">base_units</span><span style=\"color: #000000; text-decoration-color: #000000\">=</span><span style=\"color: #000000; text-decoration-color: #000000; font-weight: bold\">[</span>\n",
       "<span style=\"color: #000000; text-decoration-color: #000000\">                            </span><span style=\"color: #800080; text-decoration-color: #800080; font-weight: bold\">BaseUnit</span><span style=\"color: #000000; text-decoration-color: #000000; font-weight: bold\">(</span><span style=\"color: #808000; text-decoration-color: #808000\">kind</span><span style=\"color: #000000; text-decoration-color: #000000\">=&lt;UnitType.MOLE: </span><span style=\"color: #008000; text-decoration-color: #008000\">'mole'</span><span style=\"color: #000000; text-decoration-color: #000000\">&gt;, </span><span style=\"color: #808000; text-decoration-color: #808000\">exponent</span><span style=\"color: #000000; text-decoration-color: #000000\">=</span><span style=\"color: #008080; text-decoration-color: #008080; font-weight: bold\">1</span><span style=\"color: #000000; text-decoration-color: #000000\">, </span><span style=\"color: #808000; text-decoration-color: #808000\">multiplier</span><span style=\"color: #000000; text-decoration-color: #000000\">=</span><span style=\"color: #008080; text-decoration-color: #008080; font-weight: bold\">1.0</span><span style=\"color: #000000; text-decoration-color: #000000\">, </span><span style=\"color: #808000; text-decoration-color: #808000\">scale</span><span style=\"color: #000000; text-decoration-color: #000000\">=</span><span style=\"color: #008080; text-decoration-color: #008080; font-weight: bold\">1.0</span><span style=\"color: #000000; text-decoration-color: #000000; font-weight: bold\">)</span><span style=\"color: #000000; text-decoration-color: #000000\">,</span>\n",
       "<span style=\"color: #000000; text-decoration-color: #000000\">                            </span><span style=\"color: #800080; text-decoration-color: #800080; font-weight: bold\">BaseUnit</span><span style=\"color: #000000; text-decoration-color: #000000; font-weight: bold\">(</span><span style=\"color: #808000; text-decoration-color: #808000\">kind</span><span style=\"color: #000000; text-decoration-color: #000000\">=&lt;UnitType.LITRE: </span><span style=\"color: #008000; text-decoration-color: #008000\">'litre'</span><span style=\"color: #000000; text-decoration-color: #000000\">&gt;, </span><span style=\"color: #808000; text-decoration-color: #808000\">exponent</span><span style=\"color: #000000; text-decoration-color: #000000\">=</span><span style=\"color: #008080; text-decoration-color: #008080; font-weight: bold\">-1</span><span style=\"color: #000000; text-decoration-color: #000000\">, </span><span style=\"color: #808000; text-decoration-color: #808000\">multiplier</span><span style=\"color: #000000; text-decoration-color: #000000\">=</span><span style=\"color: #008080; text-decoration-color: #008080; font-weight: bold\">1.0</span><span style=\"color: #000000; text-decoration-color: #000000\">, </span><span style=\"color: #808000; text-decoration-color: #808000\">scale</span><span style=\"color: #000000; text-decoration-color: #000000\">=</span><span style=\"color: #008080; text-decoration-color: #008080; font-weight: bold\">1.0</span><span style=\"color: #000000; text-decoration-color: #000000; font-weight: bold\">)</span>\n",
       "<span style=\"color: #000000; text-decoration-color: #000000\">                        </span><span style=\"color: #000000; text-decoration-color: #000000; font-weight: bold\">]</span>\n",
       "<span style=\"color: #000000; text-decoration-color: #000000\">                    </span><span style=\"color: #000000; text-decoration-color: #000000; font-weight: bold\">)</span>\n",
       "<span style=\"color: #000000; text-decoration-color: #000000\">                </span><span style=\"color: #000000; text-decoration-color: #000000; font-weight: bold\">)</span>\n",
       "<span style=\"color: #000000; text-decoration-color: #000000\">            </span><span style=\"color: #000000; text-decoration-color: #000000; font-weight: bold\">]</span>\n",
       "<span style=\"color: #000000; text-decoration-color: #000000\">        </span><span style=\"color: #000000; text-decoration-color: #000000; font-weight: bold\">)</span><span style=\"color: #000000; text-decoration-color: #000000\">,</span>\n",
       "<span style=\"color: #000000; text-decoration-color: #000000\">        </span><span style=\"color: #800080; text-decoration-color: #800080; font-weight: bold\">Experiment</span><span style=\"color: #000000; text-decoration-color: #000000; font-weight: bold\">(</span>\n",
       "<span style=\"color: #000000; text-decoration-color: #000000\">            </span><span style=\"color: #808000; text-decoration-color: #808000\">id</span><span style=\"color: #000000; text-decoration-color: #000000\">=</span><span style=\"color: #008000; text-decoration-color: #008000\">'2'</span><span style=\"color: #000000; text-decoration-color: #000000\">,</span>\n",
       "<span style=\"color: #000000; text-decoration-color: #000000\">            </span><span style=\"color: #808000; text-decoration-color: #808000\">initial_concentrations</span><span style=\"color: #000000; text-decoration-color: #000000\">=</span><span style=\"color: #000000; text-decoration-color: #000000; font-weight: bold\">[</span>\n",
       "<span style=\"color: #000000; text-decoration-color: #000000\">                </span><span style=\"color: #800080; text-decoration-color: #800080; font-weight: bold\">Concentration</span><span style=\"color: #000000; text-decoration-color: #000000; font-weight: bold\">(</span>\n",
       "<span style=\"color: #000000; text-decoration-color: #000000\">                    </span><span style=\"color: #808000; text-decoration-color: #808000\">molecule_id</span><span style=\"color: #000000; text-decoration-color: #000000\">=</span><span style=\"color: #008000; text-decoration-color: #008000\">'1'</span><span style=\"color: #000000; text-decoration-color: #000000\">,</span>\n",
       "<span style=\"color: #000000; text-decoration-color: #000000\">                    </span><span style=\"color: #808000; text-decoration-color: #808000\">value</span><span style=\"color: #000000; text-decoration-color: #000000\">=</span><span style=\"color: #008080; text-decoration-color: #008080; font-weight: bold\">50.0</span><span style=\"color: #000000; text-decoration-color: #000000\">,</span>\n",
       "<span style=\"color: #000000; text-decoration-color: #000000\">                    </span><span style=\"color: #808000; text-decoration-color: #808000\">unit</span><span style=\"color: #000000; text-decoration-color: #000000\">=</span><span style=\"color: #800080; text-decoration-color: #800080; font-weight: bold\">UnitDefinition</span><span style=\"color: #000000; text-decoration-color: #000000; font-weight: bold\">(</span>\n",
       "<span style=\"color: #000000; text-decoration-color: #000000\">                        </span><span style=\"color: #808000; text-decoration-color: #808000\">id</span><span style=\"color: #000000; text-decoration-color: #000000\">=</span><span style=\"color: #008000; text-decoration-color: #008000\">'mmol / l'</span><span style=\"color: #000000; text-decoration-color: #000000\">,</span>\n",
       "<span style=\"color: #000000; text-decoration-color: #000000\">                        </span><span style=\"color: #808000; text-decoration-color: #808000\">name</span><span style=\"color: #000000; text-decoration-color: #000000\">=</span><span style=\"color: #008000; text-decoration-color: #008000\">'mmol / l'</span><span style=\"color: #000000; text-decoration-color: #000000\">,</span>\n",
       "<span style=\"color: #000000; text-decoration-color: #000000\">                        </span><span style=\"color: #808000; text-decoration-color: #808000\">base_units</span><span style=\"color: #000000; text-decoration-color: #000000\">=</span><span style=\"color: #000000; text-decoration-color: #000000; font-weight: bold\">[</span>\n",
       "<span style=\"color: #000000; text-decoration-color: #000000\">                            </span><span style=\"color: #800080; text-decoration-color: #800080; font-weight: bold\">BaseUnit</span><span style=\"color: #000000; text-decoration-color: #000000; font-weight: bold\">(</span><span style=\"color: #808000; text-decoration-color: #808000\">kind</span><span style=\"color: #000000; text-decoration-color: #000000\">=&lt;UnitType.MOLE: </span><span style=\"color: #008000; text-decoration-color: #008000\">'mole'</span><span style=\"color: #000000; text-decoration-color: #000000\">&gt;, </span><span style=\"color: #808000; text-decoration-color: #808000\">exponent</span><span style=\"color: #000000; text-decoration-color: #000000\">=</span><span style=\"color: #008080; text-decoration-color: #008080; font-weight: bold\">1</span><span style=\"color: #000000; text-decoration-color: #000000\">, </span><span style=\"color: #808000; text-decoration-color: #808000\">multiplier</span><span style=\"color: #000000; text-decoration-color: #000000\">=</span><span style=\"color: #008080; text-decoration-color: #008080; font-weight: bold\">1.0</span><span style=\"color: #000000; text-decoration-color: #000000\">, </span><span style=\"color: #808000; text-decoration-color: #808000\">scale</span><span style=\"color: #000000; text-decoration-color: #000000\">=</span><span style=\"color: #008080; text-decoration-color: #008080; font-weight: bold\">0.001</span><span style=\"color: #000000; text-decoration-color: #000000; font-weight: bold\">)</span><span style=\"color: #000000; text-decoration-color: #000000\">,</span>\n",
       "<span style=\"color: #000000; text-decoration-color: #000000\">                            </span><span style=\"color: #800080; text-decoration-color: #800080; font-weight: bold\">BaseUnit</span><span style=\"color: #000000; text-decoration-color: #000000; font-weight: bold\">(</span><span style=\"color: #808000; text-decoration-color: #808000\">kind</span><span style=\"color: #000000; text-decoration-color: #000000\">=&lt;UnitType.LITRE: </span><span style=\"color: #008000; text-decoration-color: #008000\">'litre'</span><span style=\"color: #000000; text-decoration-color: #000000\">&gt;, </span><span style=\"color: #808000; text-decoration-color: #808000\">exponent</span><span style=\"color: #000000; text-decoration-color: #000000\">=</span><span style=\"color: #008080; text-decoration-color: #008080; font-weight: bold\">-1</span><span style=\"color: #000000; text-decoration-color: #000000\">, </span><span style=\"color: #808000; text-decoration-color: #808000\">multiplier</span><span style=\"color: #000000; text-decoration-color: #000000\">=</span><span style=\"color: #008080; text-decoration-color: #008080; font-weight: bold\">1.0</span><span style=\"color: #000000; text-decoration-color: #000000\">, </span><span style=\"color: #808000; text-decoration-color: #808000\">scale</span><span style=\"color: #000000; text-decoration-color: #000000\">=</span><span style=\"color: #008080; text-decoration-color: #008080; font-weight: bold\">1.0</span><span style=\"color: #000000; text-decoration-color: #000000; font-weight: bold\">)</span>\n",
       "<span style=\"color: #000000; text-decoration-color: #000000\">                        </span><span style=\"color: #000000; text-decoration-color: #000000; font-weight: bold\">]</span>\n",
       "<span style=\"color: #000000; text-decoration-color: #000000\">                    </span><span style=\"color: #000000; text-decoration-color: #000000; font-weight: bold\">)</span>\n",
       "<span style=\"color: #000000; text-decoration-color: #000000\">                </span><span style=\"color: #000000; text-decoration-color: #000000; font-weight: bold\">)</span><span style=\"color: #000000; text-decoration-color: #000000\">,</span>\n",
       "<span style=\"color: #000000; text-decoration-color: #000000\">                </span><span style=\"color: #800080; text-decoration-color: #800080; font-weight: bold\">Concentration</span><span style=\"color: #000000; text-decoration-color: #000000; font-weight: bold\">(</span>\n",
       "<span style=\"color: #000000; text-decoration-color: #000000\">                    </span><span style=\"color: #808000; text-decoration-color: #808000\">molecule_id</span><span style=\"color: #000000; text-decoration-color: #000000\">=</span><span style=\"color: #008000; text-decoration-color: #008000\">'2'</span><span style=\"color: #000000; text-decoration-color: #000000\">,</span>\n",
       "<span style=\"color: #000000; text-decoration-color: #000000\">                    </span><span style=\"color: #808000; text-decoration-color: #808000\">value</span><span style=\"color: #000000; text-decoration-color: #000000\">=</span><span style=\"color: #008080; text-decoration-color: #008080; font-weight: bold\">20.0</span><span style=\"color: #000000; text-decoration-color: #000000\">,</span>\n",
       "<span style=\"color: #000000; text-decoration-color: #000000\">                    </span><span style=\"color: #808000; text-decoration-color: #808000\">unit</span><span style=\"color: #000000; text-decoration-color: #000000\">=</span><span style=\"color: #800080; text-decoration-color: #800080; font-weight: bold\">UnitDefinition</span><span style=\"color: #000000; text-decoration-color: #000000; font-weight: bold\">(</span>\n",
       "<span style=\"color: #000000; text-decoration-color: #000000\">                        </span><span style=\"color: #808000; text-decoration-color: #808000\">id</span><span style=\"color: #000000; text-decoration-color: #000000\">=</span><span style=\"color: #008000; text-decoration-color: #008000\">'mol / l'</span><span style=\"color: #000000; text-decoration-color: #000000\">,</span>\n",
       "<span style=\"color: #000000; text-decoration-color: #000000\">                        </span><span style=\"color: #808000; text-decoration-color: #808000\">name</span><span style=\"color: #000000; text-decoration-color: #000000\">=</span><span style=\"color: #008000; text-decoration-color: #008000\">'mol / l'</span><span style=\"color: #000000; text-decoration-color: #000000\">,</span>\n",
       "<span style=\"color: #000000; text-decoration-color: #000000\">                        </span><span style=\"color: #808000; text-decoration-color: #808000\">base_units</span><span style=\"color: #000000; text-decoration-color: #000000\">=</span><span style=\"color: #000000; text-decoration-color: #000000; font-weight: bold\">[</span>\n",
       "<span style=\"color: #000000; text-decoration-color: #000000\">                            </span><span style=\"color: #800080; text-decoration-color: #800080; font-weight: bold\">BaseUnit</span><span style=\"color: #000000; text-decoration-color: #000000; font-weight: bold\">(</span><span style=\"color: #808000; text-decoration-color: #808000\">kind</span><span style=\"color: #000000; text-decoration-color: #000000\">=&lt;UnitType.MOLE: </span><span style=\"color: #008000; text-decoration-color: #008000\">'mole'</span><span style=\"color: #000000; text-decoration-color: #000000\">&gt;, </span><span style=\"color: #808000; text-decoration-color: #808000\">exponent</span><span style=\"color: #000000; text-decoration-color: #000000\">=</span><span style=\"color: #008080; text-decoration-color: #008080; font-weight: bold\">1</span><span style=\"color: #000000; text-decoration-color: #000000\">, </span><span style=\"color: #808000; text-decoration-color: #808000\">multiplier</span><span style=\"color: #000000; text-decoration-color: #000000\">=</span><span style=\"color: #008080; text-decoration-color: #008080; font-weight: bold\">1.0</span><span style=\"color: #000000; text-decoration-color: #000000\">, </span><span style=\"color: #808000; text-decoration-color: #808000\">scale</span><span style=\"color: #000000; text-decoration-color: #000000\">=</span><span style=\"color: #008080; text-decoration-color: #008080; font-weight: bold\">1.0</span><span style=\"color: #000000; text-decoration-color: #000000; font-weight: bold\">)</span><span style=\"color: #000000; text-decoration-color: #000000\">,</span>\n",
       "<span style=\"color: #000000; text-decoration-color: #000000\">                            </span><span style=\"color: #800080; text-decoration-color: #800080; font-weight: bold\">BaseUnit</span><span style=\"color: #000000; text-decoration-color: #000000; font-weight: bold\">(</span><span style=\"color: #808000; text-decoration-color: #808000\">kind</span><span style=\"color: #000000; text-decoration-color: #000000\">=&lt;UnitType.LITRE: </span><span style=\"color: #008000; text-decoration-color: #008000\">'litre'</span><span style=\"color: #000000; text-decoration-color: #000000\">&gt;, </span><span style=\"color: #808000; text-decoration-color: #808000\">exponent</span><span style=\"color: #000000; text-decoration-color: #000000\">=</span><span style=\"color: #008080; text-decoration-color: #008080; font-weight: bold\">-1</span><span style=\"color: #000000; text-decoration-color: #000000\">, </span><span style=\"color: #808000; text-decoration-color: #808000\">multiplier</span><span style=\"color: #000000; text-decoration-color: #000000\">=</span><span style=\"color: #008080; text-decoration-color: #008080; font-weight: bold\">1.0</span><span style=\"color: #000000; text-decoration-color: #000000\">, </span><span style=\"color: #808000; text-decoration-color: #808000\">scale</span><span style=\"color: #000000; text-decoration-color: #000000\">=</span><span style=\"color: #008080; text-decoration-color: #008080; font-weight: bold\">1.0</span><span style=\"color: #000000; text-decoration-color: #000000; font-weight: bold\">)</span>\n",
       "<span style=\"color: #000000; text-decoration-color: #000000\">                        </span><span style=\"color: #000000; text-decoration-color: #000000; font-weight: bold\">]</span>\n",
       "<span style=\"color: #000000; text-decoration-color: #000000\">                    </span><span style=\"color: #000000; text-decoration-color: #000000; font-weight: bold\">)</span>\n",
       "<span style=\"color: #000000; text-decoration-color: #000000\">                </span><span style=\"color: #000000; text-decoration-color: #000000; font-weight: bold\">)</span>\n",
       "<span style=\"color: #000000; text-decoration-color: #000000\">            </span><span style=\"color: #000000; text-decoration-color: #000000; font-weight: bold\">]</span>\n",
       "<span style=\"color: #000000; text-decoration-color: #000000\">        </span><span style=\"color: #000000; text-decoration-color: #000000; font-weight: bold\">)</span><span style=\"color: #000000; text-decoration-color: #000000\">,</span>\n",
       "<span style=\"color: #000000; text-decoration-color: #000000\">        </span><span style=\"color: #800080; text-decoration-color: #800080; font-weight: bold\">Experiment</span><span style=\"color: #000000; text-decoration-color: #000000; font-weight: bold\">(</span>\n",
       "<span style=\"color: #000000; text-decoration-color: #000000\">            </span><span style=\"color: #808000; text-decoration-color: #808000\">id</span><span style=\"color: #000000; text-decoration-color: #000000\">=</span><span style=\"color: #008000; text-decoration-color: #008000\">'3'</span><span style=\"color: #000000; text-decoration-color: #000000\">,</span>\n",
       "<span style=\"color: #000000; text-decoration-color: #000000\">            </span><span style=\"color: #808000; text-decoration-color: #808000\">initial_concentrations</span><span style=\"color: #000000; text-decoration-color: #000000\">=</span><span style=\"color: #000000; text-decoration-color: #000000; font-weight: bold\">[</span>\n",
       "<span style=\"color: #000000; text-decoration-color: #000000\">                </span><span style=\"color: #800080; text-decoration-color: #800080; font-weight: bold\">Concentration</span><span style=\"color: #000000; text-decoration-color: #000000; font-weight: bold\">(</span>\n",
       "<span style=\"color: #000000; text-decoration-color: #000000\">                    </span><span style=\"color: #808000; text-decoration-color: #808000\">molecule_id</span><span style=\"color: #000000; text-decoration-color: #000000\">=</span><span style=\"color: #008000; text-decoration-color: #008000\">'1'</span><span style=\"color: #000000; text-decoration-color: #000000\">,</span>\n",
       "<span style=\"color: #000000; text-decoration-color: #000000\">                    </span><span style=\"color: #808000; text-decoration-color: #808000\">value</span><span style=\"color: #000000; text-decoration-color: #000000\">=</span><span style=\"color: #008080; text-decoration-color: #008080; font-weight: bold\">10.0</span><span style=\"color: #000000; text-decoration-color: #000000\">,</span>\n",
       "<span style=\"color: #000000; text-decoration-color: #000000\">                    </span><span style=\"color: #808000; text-decoration-color: #808000\">unit</span><span style=\"color: #000000; text-decoration-color: #000000\">=</span><span style=\"color: #800080; text-decoration-color: #800080; font-weight: bold\">UnitDefinition</span><span style=\"color: #000000; text-decoration-color: #000000; font-weight: bold\">(</span>\n",
       "<span style=\"color: #000000; text-decoration-color: #000000\">                        </span><span style=\"color: #808000; text-decoration-color: #808000\">id</span><span style=\"color: #000000; text-decoration-color: #000000\">=</span><span style=\"color: #008000; text-decoration-color: #008000\">'g / l'</span><span style=\"color: #000000; text-decoration-color: #000000\">,</span>\n",
       "<span style=\"color: #000000; text-decoration-color: #000000\">                        </span><span style=\"color: #808000; text-decoration-color: #808000\">name</span><span style=\"color: #000000; text-decoration-color: #000000\">=</span><span style=\"color: #008000; text-decoration-color: #008000\">'g / l'</span><span style=\"color: #000000; text-decoration-color: #000000\">,</span>\n",
       "<span style=\"color: #000000; text-decoration-color: #000000\">                        </span><span style=\"color: #808000; text-decoration-color: #808000\">base_units</span><span style=\"color: #000000; text-decoration-color: #000000\">=</span><span style=\"color: #000000; text-decoration-color: #000000; font-weight: bold\">[</span>\n",
       "<span style=\"color: #000000; text-decoration-color: #000000\">                            </span><span style=\"color: #800080; text-decoration-color: #800080; font-weight: bold\">BaseUnit</span><span style=\"color: #000000; text-decoration-color: #000000; font-weight: bold\">(</span><span style=\"color: #808000; text-decoration-color: #808000\">kind</span><span style=\"color: #000000; text-decoration-color: #000000\">=&lt;UnitType.GRAM: </span><span style=\"color: #008000; text-decoration-color: #008000\">'gram'</span><span style=\"color: #000000; text-decoration-color: #000000\">&gt;, </span><span style=\"color: #808000; text-decoration-color: #808000\">exponent</span><span style=\"color: #000000; text-decoration-color: #000000\">=</span><span style=\"color: #008080; text-decoration-color: #008080; font-weight: bold\">1</span><span style=\"color: #000000; text-decoration-color: #000000\">, </span><span style=\"color: #808000; text-decoration-color: #808000\">multiplier</span><span style=\"color: #000000; text-decoration-color: #000000\">=</span><span style=\"color: #008080; text-decoration-color: #008080; font-weight: bold\">1.0</span><span style=\"color: #000000; text-decoration-color: #000000\">, </span><span style=\"color: #808000; text-decoration-color: #808000\">scale</span><span style=\"color: #000000; text-decoration-color: #000000\">=</span><span style=\"color: #008080; text-decoration-color: #008080; font-weight: bold\">1.0</span><span style=\"color: #000000; text-decoration-color: #000000; font-weight: bold\">)</span><span style=\"color: #000000; text-decoration-color: #000000\">,</span>\n",
       "<span style=\"color: #000000; text-decoration-color: #000000\">                            </span><span style=\"color: #800080; text-decoration-color: #800080; font-weight: bold\">BaseUnit</span><span style=\"color: #000000; text-decoration-color: #000000; font-weight: bold\">(</span><span style=\"color: #808000; text-decoration-color: #808000\">kind</span><span style=\"color: #000000; text-decoration-color: #000000\">=&lt;UnitType.LITRE: </span><span style=\"color: #008000; text-decoration-color: #008000\">'litre'</span><span style=\"color: #000000; text-decoration-color: #000000\">&gt;, </span><span style=\"color: #808000; text-decoration-color: #808000\">exponent</span><span style=\"color: #000000; text-decoration-color: #000000\">=</span><span style=\"color: #008080; text-decoration-color: #008080; font-weight: bold\">-1</span><span style=\"color: #000000; text-decoration-color: #000000\">, </span><span style=\"color: #808000; text-decoration-color: #808000\">multiplier</span><span style=\"color: #000000; text-decoration-color: #000000\">=</span><span style=\"color: #008080; text-decoration-color: #008080; font-weight: bold\">1.0</span><span style=\"color: #000000; text-decoration-color: #000000\">, </span><span style=\"color: #808000; text-decoration-color: #808000\">scale</span><span style=\"color: #000000; text-decoration-color: #000000\">=</span><span style=\"color: #008080; text-decoration-color: #008080; font-weight: bold\">1.0</span><span style=\"color: #000000; text-decoration-color: #000000; font-weight: bold\">)</span>\n",
       "<span style=\"color: #000000; text-decoration-color: #000000\">                        </span><span style=\"color: #000000; text-decoration-color: #000000; font-weight: bold\">]</span>\n",
       "<span style=\"color: #000000; text-decoration-color: #000000\">                    </span><span style=\"color: #000000; text-decoration-color: #000000; font-weight: bold\">)</span>\n",
       "<span style=\"color: #000000; text-decoration-color: #000000\">                </span><span style=\"color: #000000; text-decoration-color: #000000; font-weight: bold\">)</span><span style=\"color: #000000; text-decoration-color: #000000\">,</span>\n",
       "<span style=\"color: #000000; text-decoration-color: #000000\">                </span><span style=\"color: #800080; text-decoration-color: #800080; font-weight: bold\">Concentration</span><span style=\"color: #000000; text-decoration-color: #000000; font-weight: bold\">(</span>\n",
       "<span style=\"color: #000000; text-decoration-color: #000000\">                    </span><span style=\"color: #808000; text-decoration-color: #808000\">molecule_id</span><span style=\"color: #000000; text-decoration-color: #000000\">=</span><span style=\"color: #008000; text-decoration-color: #008000\">'2'</span><span style=\"color: #000000; text-decoration-color: #000000\">,</span>\n",
       "<span style=\"color: #000000; text-decoration-color: #000000\">                    </span><span style=\"color: #808000; text-decoration-color: #808000\">value</span><span style=\"color: #000000; text-decoration-color: #000000\">=</span><span style=\"color: #008080; text-decoration-color: #008080; font-weight: bold\">5.0</span><span style=\"color: #000000; text-decoration-color: #000000\">,</span>\n",
       "<span style=\"color: #000000; text-decoration-color: #000000\">                    </span><span style=\"color: #808000; text-decoration-color: #808000\">unit</span><span style=\"color: #000000; text-decoration-color: #000000\">=</span><span style=\"color: #800080; text-decoration-color: #800080; font-weight: bold\">UnitDefinition</span><span style=\"color: #000000; text-decoration-color: #000000; font-weight: bold\">(</span>\n",
       "<span style=\"color: #000000; text-decoration-color: #000000\">                        </span><span style=\"color: #808000; text-decoration-color: #808000\">id</span><span style=\"color: #000000; text-decoration-color: #000000\">=</span><span style=\"color: #008000; text-decoration-color: #008000\">'mg / l'</span><span style=\"color: #000000; text-decoration-color: #000000\">,</span>\n",
       "<span style=\"color: #000000; text-decoration-color: #000000\">                        </span><span style=\"color: #808000; text-decoration-color: #808000\">name</span><span style=\"color: #000000; text-decoration-color: #000000\">=</span><span style=\"color: #008000; text-decoration-color: #008000\">'mg / l'</span><span style=\"color: #000000; text-decoration-color: #000000\">,</span>\n",
       "<span style=\"color: #000000; text-decoration-color: #000000\">                        </span><span style=\"color: #808000; text-decoration-color: #808000\">base_units</span><span style=\"color: #000000; text-decoration-color: #000000\">=</span><span style=\"color: #000000; text-decoration-color: #000000; font-weight: bold\">[</span>\n",
       "<span style=\"color: #000000; text-decoration-color: #000000\">                            </span><span style=\"color: #800080; text-decoration-color: #800080; font-weight: bold\">BaseUnit</span><span style=\"color: #000000; text-decoration-color: #000000; font-weight: bold\">(</span><span style=\"color: #808000; text-decoration-color: #808000\">kind</span><span style=\"color: #000000; text-decoration-color: #000000\">=&lt;UnitType.GRAM: </span><span style=\"color: #008000; text-decoration-color: #008000\">'gram'</span><span style=\"color: #000000; text-decoration-color: #000000\">&gt;, </span><span style=\"color: #808000; text-decoration-color: #808000\">exponent</span><span style=\"color: #000000; text-decoration-color: #000000\">=</span><span style=\"color: #008080; text-decoration-color: #008080; font-weight: bold\">1</span><span style=\"color: #000000; text-decoration-color: #000000\">, </span><span style=\"color: #808000; text-decoration-color: #808000\">multiplier</span><span style=\"color: #000000; text-decoration-color: #000000\">=</span><span style=\"color: #008080; text-decoration-color: #008080; font-weight: bold\">1.0</span><span style=\"color: #000000; text-decoration-color: #000000\">, </span><span style=\"color: #808000; text-decoration-color: #808000\">scale</span><span style=\"color: #000000; text-decoration-color: #000000\">=</span><span style=\"color: #008080; text-decoration-color: #008080; font-weight: bold\">0.001</span><span style=\"color: #000000; text-decoration-color: #000000; font-weight: bold\">)</span><span style=\"color: #000000; text-decoration-color: #000000\">,</span>\n",
       "<span style=\"color: #000000; text-decoration-color: #000000\">                            </span><span style=\"color: #800080; text-decoration-color: #800080; font-weight: bold\">BaseUnit</span><span style=\"color: #000000; text-decoration-color: #000000; font-weight: bold\">(</span><span style=\"color: #808000; text-decoration-color: #808000\">kind</span><span style=\"color: #000000; text-decoration-color: #000000\">=&lt;UnitType.LITRE: </span><span style=\"color: #008000; text-decoration-color: #008000\">'litre'</span><span style=\"color: #000000; text-decoration-color: #000000\">&gt;, </span><span style=\"color: #808000; text-decoration-color: #808000\">exponent</span><span style=\"color: #000000; text-decoration-color: #000000\">=</span><span style=\"color: #008080; text-decoration-color: #008080; font-weight: bold\">-1</span><span style=\"color: #000000; text-decoration-color: #000000\">, </span><span style=\"color: #808000; text-decoration-color: #808000\">multiplier</span><span style=\"color: #000000; text-decoration-color: #000000\">=</span><span style=\"color: #008080; text-decoration-color: #008080; font-weight: bold\">1.0</span><span style=\"color: #000000; text-decoration-color: #000000\">, </span><span style=\"color: #808000; text-decoration-color: #808000\">scale</span><span style=\"color: #000000; text-decoration-color: #000000\">=</span><span style=\"color: #008080; text-decoration-color: #008080; font-weight: bold\">1.0</span><span style=\"color: #000000; text-decoration-color: #000000; font-weight: bold\">)</span>\n",
       "<span style=\"color: #000000; text-decoration-color: #000000\">                        </span><span style=\"color: #000000; text-decoration-color: #000000; font-weight: bold\">]</span>\n",
       "<span style=\"color: #000000; text-decoration-color: #000000\">                    </span><span style=\"color: #000000; text-decoration-color: #000000; font-weight: bold\">)</span>\n",
       "<span style=\"color: #000000; text-decoration-color: #000000\">                </span><span style=\"color: #000000; text-decoration-color: #000000; font-weight: bold\">)</span>\n",
       "<span style=\"color: #000000; text-decoration-color: #000000\">            </span><span style=\"color: #000000; text-decoration-color: #000000; font-weight: bold\">]</span>\n",
       "<span style=\"color: #000000; text-decoration-color: #000000\">        </span><span style=\"color: #000000; text-decoration-color: #000000; font-weight: bold\">)</span><span style=\"color: #000000; text-decoration-color: #000000\">,</span>\n",
       "<span style=\"color: #000000; text-decoration-color: #000000\">        </span><span style=\"color: #800080; text-decoration-color: #800080; font-weight: bold\">Experiment</span><span style=\"color: #000000; text-decoration-color: #000000; font-weight: bold\">(</span>\n",
       "<span style=\"color: #000000; text-decoration-color: #000000\">            </span><span style=\"color: #808000; text-decoration-color: #808000\">id</span><span style=\"color: #000000; text-decoration-color: #000000\">=</span><span style=\"color: #008000; text-decoration-color: #008000\">'4'</span><span style=\"color: #000000; text-decoration-color: #000000\">,</span>\n",
       "<span style=\"color: #000000; text-decoration-color: #000000\">            </span><span style=\"color: #808000; text-decoration-color: #808000\">initial_concentrations</span><span style=\"color: #000000; text-decoration-color: #000000\">=</span><span style=\"color: #000000; text-decoration-color: #000000; font-weight: bold\">[</span>\n",
       "<span style=\"color: #000000; text-decoration-color: #000000\">                </span><span style=\"color: #800080; text-decoration-color: #800080; font-weight: bold\">Concentration</span><span style=\"color: #000000; text-decoration-color: #000000; font-weight: bold\">(</span>\n",
       "<span style=\"color: #000000; text-decoration-color: #000000\">                    </span><span style=\"color: #808000; text-decoration-color: #808000\">molecule_id</span><span style=\"color: #000000; text-decoration-color: #000000\">=</span><span style=\"color: #008000; text-decoration-color: #008000\">'1'</span><span style=\"color: #000000; text-decoration-color: #000000\">,</span>\n",
       "<span style=\"color: #000000; text-decoration-color: #000000\">                    </span><span style=\"color: #808000; text-decoration-color: #808000\">value</span><span style=\"color: #000000; text-decoration-color: #000000\">=</span><span style=\"color: #008080; text-decoration-color: #008080; font-weight: bold\">1.0</span><span style=\"color: #000000; text-decoration-color: #000000\">,</span>\n",
       "<span style=\"color: #000000; text-decoration-color: #000000\">                    </span><span style=\"color: #808000; text-decoration-color: #808000\">unit</span><span style=\"color: #000000; text-decoration-color: #000000\">=</span><span style=\"color: #800080; text-decoration-color: #800080; font-weight: bold\">UnitDefinition</span><span style=\"color: #000000; text-decoration-color: #000000; font-weight: bold\">(</span>\n",
       "<span style=\"color: #000000; text-decoration-color: #000000\">                        </span><span style=\"color: #808000; text-decoration-color: #808000\">id</span><span style=\"color: #000000; text-decoration-color: #000000\">=</span><span style=\"color: #008000; text-decoration-color: #008000\">'mol / l'</span><span style=\"color: #000000; text-decoration-color: #000000\">,</span>\n",
       "<span style=\"color: #000000; text-decoration-color: #000000\">                        </span><span style=\"color: #808000; text-decoration-color: #808000\">name</span><span style=\"color: #000000; text-decoration-color: #000000\">=</span><span style=\"color: #008000; text-decoration-color: #008000\">'mol / l'</span><span style=\"color: #000000; text-decoration-color: #000000\">,</span>\n",
       "<span style=\"color: #000000; text-decoration-color: #000000\">                        </span><span style=\"color: #808000; text-decoration-color: #808000\">base_units</span><span style=\"color: #000000; text-decoration-color: #000000\">=</span><span style=\"color: #000000; text-decoration-color: #000000; font-weight: bold\">[</span>\n",
       "<span style=\"color: #000000; text-decoration-color: #000000\">                            </span><span style=\"color: #800080; text-decoration-color: #800080; font-weight: bold\">BaseUnit</span><span style=\"color: #000000; text-decoration-color: #000000; font-weight: bold\">(</span><span style=\"color: #808000; text-decoration-color: #808000\">kind</span><span style=\"color: #000000; text-decoration-color: #000000\">=&lt;UnitType.MOLE: </span><span style=\"color: #008000; text-decoration-color: #008000\">'mole'</span><span style=\"color: #000000; text-decoration-color: #000000\">&gt;, </span><span style=\"color: #808000; text-decoration-color: #808000\">exponent</span><span style=\"color: #000000; text-decoration-color: #000000\">=</span><span style=\"color: #008080; text-decoration-color: #008080; font-weight: bold\">1</span><span style=\"color: #000000; text-decoration-color: #000000\">, </span><span style=\"color: #808000; text-decoration-color: #808000\">multiplier</span><span style=\"color: #000000; text-decoration-color: #000000\">=</span><span style=\"color: #008080; text-decoration-color: #008080; font-weight: bold\">1.0</span><span style=\"color: #000000; text-decoration-color: #000000\">, </span><span style=\"color: #808000; text-decoration-color: #808000\">scale</span><span style=\"color: #000000; text-decoration-color: #000000\">=</span><span style=\"color: #008080; text-decoration-color: #008080; font-weight: bold\">1.0</span><span style=\"color: #000000; text-decoration-color: #000000; font-weight: bold\">)</span><span style=\"color: #000000; text-decoration-color: #000000\">,</span>\n",
       "<span style=\"color: #000000; text-decoration-color: #000000\">                            </span><span style=\"color: #800080; text-decoration-color: #800080; font-weight: bold\">BaseUnit</span><span style=\"color: #000000; text-decoration-color: #000000; font-weight: bold\">(</span><span style=\"color: #808000; text-decoration-color: #808000\">kind</span><span style=\"color: #000000; text-decoration-color: #000000\">=&lt;UnitType.LITRE: </span><span style=\"color: #008000; text-decoration-color: #008000\">'litre'</span><span style=\"color: #000000; text-decoration-color: #000000\">&gt;, </span><span style=\"color: #808000; text-decoration-color: #808000\">exponent</span><span style=\"color: #000000; text-decoration-color: #000000\">=</span><span style=\"color: #008080; text-decoration-color: #008080; font-weight: bold\">-1</span><span style=\"color: #000000; text-decoration-color: #000000\">, </span><span style=\"color: #808000; text-decoration-color: #808000\">multiplier</span><span style=\"color: #000000; text-decoration-color: #000000\">=</span><span style=\"color: #008080; text-decoration-color: #008080; font-weight: bold\">1.0</span><span style=\"color: #000000; text-decoration-color: #000000\">, </span><span style=\"color: #808000; text-decoration-color: #808000\">scale</span><span style=\"color: #000000; text-decoration-color: #000000\">=</span><span style=\"color: #008080; text-decoration-color: #008080; font-weight: bold\">1.0</span><span style=\"color: #000000; text-decoration-color: #000000; font-weight: bold\">)</span>\n",
       "<span style=\"color: #000000; text-decoration-color: #000000\">                        </span><span style=\"color: #000000; text-decoration-color: #000000; font-weight: bold\">]</span>\n",
       "<span style=\"color: #000000; text-decoration-color: #000000\">                    </span><span style=\"color: #000000; text-decoration-color: #000000; font-weight: bold\">)</span>\n",
       "<span style=\"color: #000000; text-decoration-color: #000000\">                </span><span style=\"color: #000000; text-decoration-color: #000000; font-weight: bold\">)</span><span style=\"color: #000000; text-decoration-color: #000000\">,</span>\n",
       "<span style=\"color: #000000; text-decoration-color: #000000\">                </span><span style=\"color: #800080; text-decoration-color: #800080; font-weight: bold\">Concentration</span><span style=\"color: #000000; text-decoration-color: #000000; font-weight: bold\">(</span>\n",
       "<span style=\"color: #000000; text-decoration-color: #000000\">                    </span><span style=\"color: #808000; text-decoration-color: #808000\">molecule_id</span><span style=\"color: #000000; text-decoration-color: #000000\">=</span><span style=\"color: #008000; text-decoration-color: #008000\">'2'</span><span style=\"color: #000000; text-decoration-color: #000000\">,</span>\n",
       "<span style=\"color: #000000; text-decoration-color: #000000\">                    </span><span style=\"color: #808000; text-decoration-color: #808000\">value</span><span style=\"color: #000000; text-decoration-color: #000000\">=</span><span style=\"color: #008080; text-decoration-color: #008080; font-weight: bold\">2.0</span><span style=\"color: #000000; text-decoration-color: #000000\">,</span>\n",
       "<span style=\"color: #000000; text-decoration-color: #000000\">                    </span><span style=\"color: #808000; text-decoration-color: #808000\">unit</span><span style=\"color: #000000; text-decoration-color: #000000\">=</span><span style=\"color: #800080; text-decoration-color: #800080; font-weight: bold\">UnitDefinition</span><span style=\"color: #000000; text-decoration-color: #000000; font-weight: bold\">(</span>\n",
       "<span style=\"color: #000000; text-decoration-color: #000000\">                        </span><span style=\"color: #808000; text-decoration-color: #808000\">id</span><span style=\"color: #000000; text-decoration-color: #000000\">=</span><span style=\"color: #008000; text-decoration-color: #008000\">'mmol / l'</span><span style=\"color: #000000; text-decoration-color: #000000\">,</span>\n",
       "<span style=\"color: #000000; text-decoration-color: #000000\">                        </span><span style=\"color: #808000; text-decoration-color: #808000\">name</span><span style=\"color: #000000; text-decoration-color: #000000\">=</span><span style=\"color: #008000; text-decoration-color: #008000\">'mmol / l'</span><span style=\"color: #000000; text-decoration-color: #000000\">,</span>\n",
       "<span style=\"color: #000000; text-decoration-color: #000000\">                        </span><span style=\"color: #808000; text-decoration-color: #808000\">base_units</span><span style=\"color: #000000; text-decoration-color: #000000\">=</span><span style=\"color: #000000; text-decoration-color: #000000; font-weight: bold\">[</span>\n",
       "<span style=\"color: #000000; text-decoration-color: #000000\">                            </span><span style=\"color: #800080; text-decoration-color: #800080; font-weight: bold\">BaseUnit</span><span style=\"color: #000000; text-decoration-color: #000000; font-weight: bold\">(</span><span style=\"color: #808000; text-decoration-color: #808000\">kind</span><span style=\"color: #000000; text-decoration-color: #000000\">=&lt;UnitType.MOLE: </span><span style=\"color: #008000; text-decoration-color: #008000\">'mole'</span><span style=\"color: #000000; text-decoration-color: #000000\">&gt;, </span><span style=\"color: #808000; text-decoration-color: #808000\">exponent</span><span style=\"color: #000000; text-decoration-color: #000000\">=</span><span style=\"color: #008080; text-decoration-color: #008080; font-weight: bold\">1</span><span style=\"color: #000000; text-decoration-color: #000000\">, </span><span style=\"color: #808000; text-decoration-color: #808000\">multiplier</span><span style=\"color: #000000; text-decoration-color: #000000\">=</span><span style=\"color: #008080; text-decoration-color: #008080; font-weight: bold\">1.0</span><span style=\"color: #000000; text-decoration-color: #000000\">, </span><span style=\"color: #808000; text-decoration-color: #808000\">scale</span><span style=\"color: #000000; text-decoration-color: #000000\">=</span><span style=\"color: #008080; text-decoration-color: #008080; font-weight: bold\">0.001</span><span style=\"color: #000000; text-decoration-color: #000000; font-weight: bold\">)</span><span style=\"color: #000000; text-decoration-color: #000000\">,</span>\n",
       "<span style=\"color: #000000; text-decoration-color: #000000\">                            </span><span style=\"color: #800080; text-decoration-color: #800080; font-weight: bold\">BaseUnit</span><span style=\"color: #000000; text-decoration-color: #000000; font-weight: bold\">(</span><span style=\"color: #808000; text-decoration-color: #808000\">kind</span><span style=\"color: #000000; text-decoration-color: #000000\">=&lt;UnitType.LITRE: </span><span style=\"color: #008000; text-decoration-color: #008000\">'litre'</span><span style=\"font-weight: bold\">&gt;</span>, <span style=\"color: #808000; text-decoration-color: #808000\">exponent</span>=<span style=\"color: #008080; text-decoration-color: #008080; font-weight: bold\">-1</span>, <span style=\"color: #808000; text-decoration-color: #808000\">multiplier</span>=<span style=\"color: #008080; text-decoration-color: #008080; font-weight: bold\">1.0</span>, <span style=\"color: #808000; text-decoration-color: #808000\">scale</span>=<span style=\"color: #008080; text-decoration-color: #008080; font-weight: bold\">1.0</span><span style=\"font-weight: bold\">)</span>\n",
       "                        <span style=\"font-weight: bold\">]</span>\n",
       "                    <span style=\"font-weight: bold\">)</span>\n",
       "                <span style=\"font-weight: bold\">)</span>\n",
       "            <span style=\"font-weight: bold\">]</span>\n",
       "        <span style=\"font-weight: bold\">)</span>\n",
       "    <span style=\"font-weight: bold\">]</span>\n",
       "<span style=\"font-weight: bold\">)</span>\n",
       "</pre>\n"
      ]
     },
     "metadata": {},
     "output_type": "display_data"
    }
   ],
   "execution_count": 5
  }
 ],
 "metadata": {
  "kernelspec": {
   "display_name": "Python 3",
   "language": "python",
   "name": "python3"
  },
  "language_info": {
   "codemirror_mode": {
    "name": "ipython",
    "version": 2
   },
   "file_extension": ".py",
   "mimetype": "text/x-python",
   "name": "python",
   "nbconvert_exporter": "python",
   "pygments_lexer": "ipython2",
   "version": "2.7.6"
  }
 },
 "nbformat": 4,
 "nbformat_minor": 5
}
