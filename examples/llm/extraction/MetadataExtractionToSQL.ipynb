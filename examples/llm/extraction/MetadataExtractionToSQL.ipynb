{
 "cells": [
  {
   "cell_type": "markdown",
   "id": "7e800f15",
   "metadata": {},
   "source": [
    "# Metadata extraction to SQL database\n",
    "\n",
    "In our previous example, we have seen how to extract metadata from a lab notebook and store it in a data model. In this example, we will see how to stream data from an LLM directly into a SQL database.\n",
    "\n",
    "For the sake of demonstration, this example will not make use of existing datasets, but rather let our LLM provide the data. Specifically, we will ask the LLM to provide the relevant molecules for several biochemical pathways.\n",
    "\n",
    "However, the approach can easily be looped to existing datasets as well! Lets see how this works in practice."
   ]
  },
  {
   "cell_type": "code",
   "execution_count": 1,
   "id": "initial_id",
   "metadata": {
    "ExecuteTime": {
     "end_time": "2024-12-04T20:04:30.536631Z",
     "start_time": "2024-12-04T20:04:29.697611Z"
    },
    "collapsed": true
   },
   "outputs": [],
   "source": [
    "from typing import Iterable\n",
    "\n",
    "import rich\n",
    "from instructor import OpenAISchema\n",
    "\n",
    "from mdmodels import DataModel\n",
    "from mdmodels.llm import query_openai\n",
    "from mdmodels.sql import generate_sqlmodel, DatabaseConnector"
   ]
  },
  {
   "cell_type": "code",
   "execution_count": 3,
   "id": "7cfb1d2e476d2393",
   "metadata": {
    "ExecuteTime": {
     "end_time": "2024-12-04T20:04:30.614230Z",
     "start_time": "2024-12-04T20:04:30.569469Z"
    }
   },
   "outputs": [],
   "source": [
    "# 1) Load the data model from the markdown file\n",
    "dm = DataModel.from_markdown(\"model.md\")\n",
    "\n",
    "# 2) Generate the SQLModel classes\n",
    "models = generate_sqlmodel(data_model=dm, base_classes=[OpenAISchema])\n",
    "\n",
    "# 3) Create the database and tables\n",
    "db = DatabaseConnector(database=\"\")\n",
    "db.create_tables(models)"
   ]
  },
  {
   "cell_type": "code",
   "execution_count": 6,
   "id": "2e05f280ae8109b9",
   "metadata": {
    "ExecuteTime": {
     "end_time": "2024-12-04T20:05:08.266321Z",
     "start_time": "2024-12-04T20:05:08.257241Z"
    }
   },
   "outputs": [
    {
     "data": {
      "text/html": [
       "<pre style=\"white-space:pre;overflow-x:auto;line-height:normal;font-family:Menlo,'DejaVu Sans Mono',consolas,'Courier New',monospace\"><span style=\"font-weight: bold\">[</span>\n",
       "    <span style=\"color: #800080; text-decoration-color: #800080; font-weight: bold\">Molecule</span><span style=\"font-weight: bold\">(</span><span style=\"color: #808000; text-decoration-color: #808000\">name</span>=<span style=\"color: #008000; text-decoration-color: #008000\">'Glucose'</span>, <span style=\"color: #808000; text-decoration-color: #808000\">formula</span>=<span style=\"color: #008000; text-decoration-color: #008000\">'C6H12O6'</span>, <span style=\"color: #808000; text-decoration-color: #808000\">id</span>=<span style=\"color: #008080; text-decoration-color: #008080; font-weight: bold\">1</span><span style=\"font-weight: bold\">)</span>,\n",
       "    <span style=\"color: #800080; text-decoration-color: #800080; font-weight: bold\">Molecule</span><span style=\"font-weight: bold\">(</span><span style=\"color: #808000; text-decoration-color: #808000\">name</span>=<span style=\"color: #008000; text-decoration-color: #008000\">'Glucose-6-phosphate'</span>, <span style=\"color: #808000; text-decoration-color: #808000\">formula</span>=<span style=\"color: #008000; text-decoration-color: #008000\">'C6H13O9P'</span>, <span style=\"color: #808000; text-decoration-color: #808000\">id</span>=<span style=\"color: #008080; text-decoration-color: #008080; font-weight: bold\">2</span><span style=\"font-weight: bold\">)</span>,\n",
       "    <span style=\"color: #800080; text-decoration-color: #800080; font-weight: bold\">Molecule</span><span style=\"font-weight: bold\">(</span><span style=\"color: #808000; text-decoration-color: #808000\">name</span>=<span style=\"color: #008000; text-decoration-color: #008000\">'Fructose-6-phosphate'</span>, <span style=\"color: #808000; text-decoration-color: #808000\">formula</span>=<span style=\"color: #008000; text-decoration-color: #008000\">'C6H13O9P'</span>, <span style=\"color: #808000; text-decoration-color: #808000\">id</span>=<span style=\"color: #008080; text-decoration-color: #008080; font-weight: bold\">3</span><span style=\"font-weight: bold\">)</span>,\n",
       "    <span style=\"color: #800080; text-decoration-color: #800080; font-weight: bold\">Molecule</span><span style=\"font-weight: bold\">(</span><span style=\"color: #808000; text-decoration-color: #808000\">name</span>=<span style=\"color: #008000; text-decoration-color: #008000\">'Fructose-1,6-bisphosphate'</span>, <span style=\"color: #808000; text-decoration-color: #808000\">formula</span>=<span style=\"color: #008000; text-decoration-color: #008000\">'C6H14O12P2'</span>, <span style=\"color: #808000; text-decoration-color: #808000\">id</span>=<span style=\"color: #008080; text-decoration-color: #008080; font-weight: bold\">4</span><span style=\"font-weight: bold\">)</span>,\n",
       "    <span style=\"color: #800080; text-decoration-color: #800080; font-weight: bold\">Molecule</span><span style=\"font-weight: bold\">(</span><span style=\"color: #808000; text-decoration-color: #808000\">name</span>=<span style=\"color: #008000; text-decoration-color: #008000\">'Glyceraldehyde-3-phosphate'</span>, <span style=\"color: #808000; text-decoration-color: #808000\">formula</span>=<span style=\"color: #008000; text-decoration-color: #008000\">'C3H7O6P'</span>, <span style=\"color: #808000; text-decoration-color: #808000\">id</span>=<span style=\"color: #008080; text-decoration-color: #008080; font-weight: bold\">5</span><span style=\"font-weight: bold\">)</span>,\n",
       "    <span style=\"color: #800080; text-decoration-color: #800080; font-weight: bold\">Molecule</span><span style=\"font-weight: bold\">(</span><span style=\"color: #808000; text-decoration-color: #808000\">name</span>=<span style=\"color: #008000; text-decoration-color: #008000\">'Dihydroxyacetone phosphate'</span>, <span style=\"color: #808000; text-decoration-color: #808000\">formula</span>=<span style=\"color: #008000; text-decoration-color: #008000\">'C3H7O6P'</span>, <span style=\"color: #808000; text-decoration-color: #808000\">id</span>=<span style=\"color: #008080; text-decoration-color: #008080; font-weight: bold\">6</span><span style=\"font-weight: bold\">)</span>,\n",
       "    <span style=\"color: #800080; text-decoration-color: #800080; font-weight: bold\">Molecule</span><span style=\"font-weight: bold\">(</span><span style=\"color: #808000; text-decoration-color: #808000\">name</span>=<span style=\"color: #008000; text-decoration-color: #008000\">'1,3-Bisphosphoglycerate'</span>, <span style=\"color: #808000; text-decoration-color: #808000\">formula</span>=<span style=\"color: #008000; text-decoration-color: #008000\">'C3H8O10P2'</span>, <span style=\"color: #808000; text-decoration-color: #808000\">id</span>=<span style=\"color: #008080; text-decoration-color: #008080; font-weight: bold\">7</span><span style=\"font-weight: bold\">)</span>,\n",
       "    <span style=\"color: #800080; text-decoration-color: #800080; font-weight: bold\">Molecule</span><span style=\"font-weight: bold\">(</span><span style=\"color: #808000; text-decoration-color: #808000\">name</span>=<span style=\"color: #008000; text-decoration-color: #008000\">'3-Phosphoglycerate'</span>, <span style=\"color: #808000; text-decoration-color: #808000\">formula</span>=<span style=\"color: #008000; text-decoration-color: #008000\">'C3H7O7P'</span>, <span style=\"color: #808000; text-decoration-color: #808000\">id</span>=<span style=\"color: #008080; text-decoration-color: #008080; font-weight: bold\">8</span><span style=\"font-weight: bold\">)</span>,\n",
       "    <span style=\"color: #800080; text-decoration-color: #800080; font-weight: bold\">Molecule</span><span style=\"font-weight: bold\">(</span><span style=\"color: #808000; text-decoration-color: #808000\">name</span>=<span style=\"color: #008000; text-decoration-color: #008000\">'2-Phosphoglycerate'</span>, <span style=\"color: #808000; text-decoration-color: #808000\">formula</span>=<span style=\"color: #008000; text-decoration-color: #008000\">'C3H7O7P'</span>, <span style=\"color: #808000; text-decoration-color: #808000\">id</span>=<span style=\"color: #008080; text-decoration-color: #008080; font-weight: bold\">9</span><span style=\"font-weight: bold\">)</span>,\n",
       "    <span style=\"color: #800080; text-decoration-color: #800080; font-weight: bold\">Molecule</span><span style=\"font-weight: bold\">(</span><span style=\"color: #808000; text-decoration-color: #808000\">name</span>=<span style=\"color: #008000; text-decoration-color: #008000\">'Phosphoenolpyruvate'</span>, <span style=\"color: #808000; text-decoration-color: #808000\">formula</span>=<span style=\"color: #008000; text-decoration-color: #008000\">'C3H5O6P'</span>, <span style=\"color: #808000; text-decoration-color: #808000\">id</span>=<span style=\"color: #008080; text-decoration-color: #008080; font-weight: bold\">10</span><span style=\"font-weight: bold\">)</span>,\n",
       "    <span style=\"color: #800080; text-decoration-color: #800080; font-weight: bold\">Molecule</span><span style=\"font-weight: bold\">(</span><span style=\"color: #808000; text-decoration-color: #808000\">name</span>=<span style=\"color: #008000; text-decoration-color: #008000\">'Pyruvate'</span>, <span style=\"color: #808000; text-decoration-color: #808000\">formula</span>=<span style=\"color: #008000; text-decoration-color: #008000\">'C3H4O3'</span>, <span style=\"color: #808000; text-decoration-color: #808000\">id</span>=<span style=\"color: #008080; text-decoration-color: #008080; font-weight: bold\">11</span><span style=\"font-weight: bold\">)</span>,\n",
       "    <span style=\"color: #800080; text-decoration-color: #800080; font-weight: bold\">Molecule</span><span style=\"font-weight: bold\">(</span><span style=\"color: #808000; text-decoration-color: #808000\">name</span>=<span style=\"color: #008000; text-decoration-color: #008000\">'Ribulose-5-phosphate'</span>, <span style=\"color: #808000; text-decoration-color: #808000\">formula</span>=<span style=\"color: #008000; text-decoration-color: #008000\">'C5H11O8P'</span>, <span style=\"color: #808000; text-decoration-color: #808000\">id</span>=<span style=\"color: #008080; text-decoration-color: #008080; font-weight: bold\">12</span><span style=\"font-weight: bold\">)</span>,\n",
       "    <span style=\"color: #800080; text-decoration-color: #800080; font-weight: bold\">Molecule</span><span style=\"font-weight: bold\">(</span><span style=\"color: #808000; text-decoration-color: #808000\">name</span>=<span style=\"color: #008000; text-decoration-color: #008000\">'Ribose-5-phosphate'</span>, <span style=\"color: #808000; text-decoration-color: #808000\">formula</span>=<span style=\"color: #008000; text-decoration-color: #008000\">'C5H11O8P'</span>, <span style=\"color: #808000; text-decoration-color: #808000\">id</span>=<span style=\"color: #008080; text-decoration-color: #008080; font-weight: bold\">13</span><span style=\"font-weight: bold\">)</span>,\n",
       "    <span style=\"color: #800080; text-decoration-color: #800080; font-weight: bold\">Molecule</span><span style=\"font-weight: bold\">(</span><span style=\"color: #808000; text-decoration-color: #808000\">name</span>=<span style=\"color: #008000; text-decoration-color: #008000\">'Xylulose-5-phosphate'</span>, <span style=\"color: #808000; text-decoration-color: #808000\">formula</span>=<span style=\"color: #008000; text-decoration-color: #008000\">'C5H11O8P'</span>, <span style=\"color: #808000; text-decoration-color: #808000\">id</span>=<span style=\"color: #008080; text-decoration-color: #008080; font-weight: bold\">14</span><span style=\"font-weight: bold\">)</span>,\n",
       "    <span style=\"color: #800080; text-decoration-color: #800080; font-weight: bold\">Molecule</span><span style=\"font-weight: bold\">(</span><span style=\"color: #808000; text-decoration-color: #808000\">name</span>=<span style=\"color: #008000; text-decoration-color: #008000\">'Sedoheptulose-7-phosphate'</span>, <span style=\"color: #808000; text-decoration-color: #808000\">formula</span>=<span style=\"color: #008000; text-decoration-color: #008000\">'C7H15O10P'</span>, <span style=\"color: #808000; text-decoration-color: #808000\">id</span>=<span style=\"color: #008080; text-decoration-color: #008080; font-weight: bold\">15</span><span style=\"font-weight: bold\">)</span>,\n",
       "    <span style=\"color: #800080; text-decoration-color: #800080; font-weight: bold\">Molecule</span><span style=\"font-weight: bold\">(</span><span style=\"color: #808000; text-decoration-color: #808000\">name</span>=<span style=\"color: #008000; text-decoration-color: #008000\">'Erythrose-4-phosphate'</span>, <span style=\"color: #808000; text-decoration-color: #808000\">formula</span>=<span style=\"color: #008000; text-decoration-color: #008000\">'C4H9O7P'</span>, <span style=\"color: #808000; text-decoration-color: #808000\">id</span>=<span style=\"color: #008080; text-decoration-color: #008080; font-weight: bold\">16</span><span style=\"font-weight: bold\">)</span>,\n",
       "    <span style=\"color: #800080; text-decoration-color: #800080; font-weight: bold\">Molecule</span><span style=\"font-weight: bold\">(</span><span style=\"color: #808000; text-decoration-color: #808000\">name</span>=<span style=\"color: #008000; text-decoration-color: #008000\">'6-Phosphogluconate'</span>, <span style=\"color: #808000; text-decoration-color: #808000\">formula</span>=<span style=\"color: #008000; text-decoration-color: #008000\">'C6H13O10P'</span>, <span style=\"color: #808000; text-decoration-color: #808000\">id</span>=<span style=\"color: #008080; text-decoration-color: #008080; font-weight: bold\">17</span><span style=\"font-weight: bold\">)</span>,\n",
       "    <span style=\"color: #800080; text-decoration-color: #800080; font-weight: bold\">Molecule</span><span style=\"font-weight: bold\">(</span><span style=\"color: #808000; text-decoration-color: #808000\">name</span>=<span style=\"color: #008000; text-decoration-color: #008000\">'Citrate'</span>, <span style=\"color: #808000; text-decoration-color: #808000\">formula</span>=<span style=\"color: #008000; text-decoration-color: #008000\">'C6H8O7'</span>, <span style=\"color: #808000; text-decoration-color: #808000\">id</span>=<span style=\"color: #008080; text-decoration-color: #008080; font-weight: bold\">18</span><span style=\"font-weight: bold\">)</span>,\n",
       "    <span style=\"color: #800080; text-decoration-color: #800080; font-weight: bold\">Molecule</span><span style=\"font-weight: bold\">(</span><span style=\"color: #808000; text-decoration-color: #808000\">name</span>=<span style=\"color: #008000; text-decoration-color: #008000\">'Isocitrate'</span>, <span style=\"color: #808000; text-decoration-color: #808000\">formula</span>=<span style=\"color: #008000; text-decoration-color: #008000\">'C6H8O7'</span>, <span style=\"color: #808000; text-decoration-color: #808000\">id</span>=<span style=\"color: #008080; text-decoration-color: #008080; font-weight: bold\">19</span><span style=\"font-weight: bold\">)</span>,\n",
       "    <span style=\"color: #800080; text-decoration-color: #800080; font-weight: bold\">Molecule</span><span style=\"font-weight: bold\">(</span><span style=\"color: #808000; text-decoration-color: #808000\">name</span>=<span style=\"color: #008000; text-decoration-color: #008000\">'α-Ketoglutarate'</span>, <span style=\"color: #808000; text-decoration-color: #808000\">formula</span>=<span style=\"color: #008000; text-decoration-color: #008000\">'C5H6O5'</span>, <span style=\"color: #808000; text-decoration-color: #808000\">id</span>=<span style=\"color: #008080; text-decoration-color: #008080; font-weight: bold\">20</span><span style=\"font-weight: bold\">)</span>,\n",
       "    <span style=\"color: #800080; text-decoration-color: #800080; font-weight: bold\">Molecule</span><span style=\"font-weight: bold\">(</span><span style=\"color: #808000; text-decoration-color: #808000\">name</span>=<span style=\"color: #008000; text-decoration-color: #008000\">'Succinyl-CoA'</span>, <span style=\"color: #808000; text-decoration-color: #808000\">formula</span>=<span style=\"color: #008000; text-decoration-color: #008000\">'C25H40N7O19P3S'</span>, <span style=\"color: #808000; text-decoration-color: #808000\">id</span>=<span style=\"color: #008080; text-decoration-color: #008080; font-weight: bold\">21</span><span style=\"font-weight: bold\">)</span>,\n",
       "    <span style=\"color: #800080; text-decoration-color: #800080; font-weight: bold\">Molecule</span><span style=\"font-weight: bold\">(</span><span style=\"color: #808000; text-decoration-color: #808000\">name</span>=<span style=\"color: #008000; text-decoration-color: #008000\">'Succinate'</span>, <span style=\"color: #808000; text-decoration-color: #808000\">formula</span>=<span style=\"color: #008000; text-decoration-color: #008000\">'C4H6O4'</span>, <span style=\"color: #808000; text-decoration-color: #808000\">id</span>=<span style=\"color: #008080; text-decoration-color: #008080; font-weight: bold\">22</span><span style=\"font-weight: bold\">)</span>,\n",
       "    <span style=\"color: #800080; text-decoration-color: #800080; font-weight: bold\">Molecule</span><span style=\"font-weight: bold\">(</span><span style=\"color: #808000; text-decoration-color: #808000\">name</span>=<span style=\"color: #008000; text-decoration-color: #008000\">'Fumarate'</span>, <span style=\"color: #808000; text-decoration-color: #808000\">formula</span>=<span style=\"color: #008000; text-decoration-color: #008000\">'C4H4O4'</span>, <span style=\"color: #808000; text-decoration-color: #808000\">id</span>=<span style=\"color: #008080; text-decoration-color: #008080; font-weight: bold\">23</span><span style=\"font-weight: bold\">)</span>,\n",
       "    <span style=\"color: #800080; text-decoration-color: #800080; font-weight: bold\">Molecule</span><span style=\"font-weight: bold\">(</span><span style=\"color: #808000; text-decoration-color: #808000\">name</span>=<span style=\"color: #008000; text-decoration-color: #008000\">'Malate'</span>, <span style=\"color: #808000; text-decoration-color: #808000\">formula</span>=<span style=\"color: #008000; text-decoration-color: #008000\">'C4H6O5'</span>, <span style=\"color: #808000; text-decoration-color: #808000\">id</span>=<span style=\"color: #008080; text-decoration-color: #008080; font-weight: bold\">24</span><span style=\"font-weight: bold\">)</span>,\n",
       "    <span style=\"color: #800080; text-decoration-color: #800080; font-weight: bold\">Molecule</span><span style=\"font-weight: bold\">(</span><span style=\"color: #808000; text-decoration-color: #808000\">name</span>=<span style=\"color: #008000; text-decoration-color: #008000\">'Oxaloacetate'</span>, <span style=\"color: #808000; text-decoration-color: #808000\">formula</span>=<span style=\"color: #008000; text-decoration-color: #008000\">'C4H4O5'</span>, <span style=\"color: #808000; text-decoration-color: #808000\">id</span>=<span style=\"color: #008080; text-decoration-color: #008080; font-weight: bold\">25</span><span style=\"font-weight: bold\">)</span>\n",
       "<span style=\"font-weight: bold\">]</span>\n",
       "</pre>\n"
      ],
      "text/plain": [
       "\u001b[1m[\u001b[0m\n",
       "    \u001b[1;35mMolecule\u001b[0m\u001b[1m(\u001b[0m\u001b[33mname\u001b[0m=\u001b[32m'Glucose'\u001b[0m, \u001b[33mformula\u001b[0m=\u001b[32m'C6H12O6'\u001b[0m, \u001b[33mid\u001b[0m=\u001b[1;36m1\u001b[0m\u001b[1m)\u001b[0m,\n",
       "    \u001b[1;35mMolecule\u001b[0m\u001b[1m(\u001b[0m\u001b[33mname\u001b[0m=\u001b[32m'Glucose-6-phosphate'\u001b[0m, \u001b[33mformula\u001b[0m=\u001b[32m'C6H13O9P'\u001b[0m, \u001b[33mid\u001b[0m=\u001b[1;36m2\u001b[0m\u001b[1m)\u001b[0m,\n",
       "    \u001b[1;35mMolecule\u001b[0m\u001b[1m(\u001b[0m\u001b[33mname\u001b[0m=\u001b[32m'Fructose-6-phosphate'\u001b[0m, \u001b[33mformula\u001b[0m=\u001b[32m'C6H13O9P'\u001b[0m, \u001b[33mid\u001b[0m=\u001b[1;36m3\u001b[0m\u001b[1m)\u001b[0m,\n",
       "    \u001b[1;35mMolecule\u001b[0m\u001b[1m(\u001b[0m\u001b[33mname\u001b[0m=\u001b[32m'Fructose-1,6-bisphosphate'\u001b[0m, \u001b[33mformula\u001b[0m=\u001b[32m'C6H14O12P2'\u001b[0m, \u001b[33mid\u001b[0m=\u001b[1;36m4\u001b[0m\u001b[1m)\u001b[0m,\n",
       "    \u001b[1;35mMolecule\u001b[0m\u001b[1m(\u001b[0m\u001b[33mname\u001b[0m=\u001b[32m'Glyceraldehyde-3-phosphate'\u001b[0m, \u001b[33mformula\u001b[0m=\u001b[32m'C3H7O6P'\u001b[0m, \u001b[33mid\u001b[0m=\u001b[1;36m5\u001b[0m\u001b[1m)\u001b[0m,\n",
       "    \u001b[1;35mMolecule\u001b[0m\u001b[1m(\u001b[0m\u001b[33mname\u001b[0m=\u001b[32m'Dihydroxyacetone phosphate'\u001b[0m, \u001b[33mformula\u001b[0m=\u001b[32m'C3H7O6P'\u001b[0m, \u001b[33mid\u001b[0m=\u001b[1;36m6\u001b[0m\u001b[1m)\u001b[0m,\n",
       "    \u001b[1;35mMolecule\u001b[0m\u001b[1m(\u001b[0m\u001b[33mname\u001b[0m=\u001b[32m'1,3-Bisphosphoglycerate'\u001b[0m, \u001b[33mformula\u001b[0m=\u001b[32m'C3H8O10P2'\u001b[0m, \u001b[33mid\u001b[0m=\u001b[1;36m7\u001b[0m\u001b[1m)\u001b[0m,\n",
       "    \u001b[1;35mMolecule\u001b[0m\u001b[1m(\u001b[0m\u001b[33mname\u001b[0m=\u001b[32m'3-Phosphoglycerate'\u001b[0m, \u001b[33mformula\u001b[0m=\u001b[32m'C3H7O7P'\u001b[0m, \u001b[33mid\u001b[0m=\u001b[1;36m8\u001b[0m\u001b[1m)\u001b[0m,\n",
       "    \u001b[1;35mMolecule\u001b[0m\u001b[1m(\u001b[0m\u001b[33mname\u001b[0m=\u001b[32m'2-Phosphoglycerate'\u001b[0m, \u001b[33mformula\u001b[0m=\u001b[32m'C3H7O7P'\u001b[0m, \u001b[33mid\u001b[0m=\u001b[1;36m9\u001b[0m\u001b[1m)\u001b[0m,\n",
       "    \u001b[1;35mMolecule\u001b[0m\u001b[1m(\u001b[0m\u001b[33mname\u001b[0m=\u001b[32m'Phosphoenolpyruvate'\u001b[0m, \u001b[33mformula\u001b[0m=\u001b[32m'C3H5O6P'\u001b[0m, \u001b[33mid\u001b[0m=\u001b[1;36m10\u001b[0m\u001b[1m)\u001b[0m,\n",
       "    \u001b[1;35mMolecule\u001b[0m\u001b[1m(\u001b[0m\u001b[33mname\u001b[0m=\u001b[32m'Pyruvate'\u001b[0m, \u001b[33mformula\u001b[0m=\u001b[32m'C3H4O3'\u001b[0m, \u001b[33mid\u001b[0m=\u001b[1;36m11\u001b[0m\u001b[1m)\u001b[0m,\n",
       "    \u001b[1;35mMolecule\u001b[0m\u001b[1m(\u001b[0m\u001b[33mname\u001b[0m=\u001b[32m'Ribulose-5-phosphate'\u001b[0m, \u001b[33mformula\u001b[0m=\u001b[32m'C5H11O8P'\u001b[0m, \u001b[33mid\u001b[0m=\u001b[1;36m12\u001b[0m\u001b[1m)\u001b[0m,\n",
       "    \u001b[1;35mMolecule\u001b[0m\u001b[1m(\u001b[0m\u001b[33mname\u001b[0m=\u001b[32m'Ribose-5-phosphate'\u001b[0m, \u001b[33mformula\u001b[0m=\u001b[32m'C5H11O8P'\u001b[0m, \u001b[33mid\u001b[0m=\u001b[1;36m13\u001b[0m\u001b[1m)\u001b[0m,\n",
       "    \u001b[1;35mMolecule\u001b[0m\u001b[1m(\u001b[0m\u001b[33mname\u001b[0m=\u001b[32m'Xylulose-5-phosphate'\u001b[0m, \u001b[33mformula\u001b[0m=\u001b[32m'C5H11O8P'\u001b[0m, \u001b[33mid\u001b[0m=\u001b[1;36m14\u001b[0m\u001b[1m)\u001b[0m,\n",
       "    \u001b[1;35mMolecule\u001b[0m\u001b[1m(\u001b[0m\u001b[33mname\u001b[0m=\u001b[32m'Sedoheptulose-7-phosphate'\u001b[0m, \u001b[33mformula\u001b[0m=\u001b[32m'C7H15O10P'\u001b[0m, \u001b[33mid\u001b[0m=\u001b[1;36m15\u001b[0m\u001b[1m)\u001b[0m,\n",
       "    \u001b[1;35mMolecule\u001b[0m\u001b[1m(\u001b[0m\u001b[33mname\u001b[0m=\u001b[32m'Erythrose-4-phosphate'\u001b[0m, \u001b[33mformula\u001b[0m=\u001b[32m'C4H9O7P'\u001b[0m, \u001b[33mid\u001b[0m=\u001b[1;36m16\u001b[0m\u001b[1m)\u001b[0m,\n",
       "    \u001b[1;35mMolecule\u001b[0m\u001b[1m(\u001b[0m\u001b[33mname\u001b[0m=\u001b[32m'6-Phosphogluconate'\u001b[0m, \u001b[33mformula\u001b[0m=\u001b[32m'C6H13O10P'\u001b[0m, \u001b[33mid\u001b[0m=\u001b[1;36m17\u001b[0m\u001b[1m)\u001b[0m,\n",
       "    \u001b[1;35mMolecule\u001b[0m\u001b[1m(\u001b[0m\u001b[33mname\u001b[0m=\u001b[32m'Citrate'\u001b[0m, \u001b[33mformula\u001b[0m=\u001b[32m'C6H8O7'\u001b[0m, \u001b[33mid\u001b[0m=\u001b[1;36m18\u001b[0m\u001b[1m)\u001b[0m,\n",
       "    \u001b[1;35mMolecule\u001b[0m\u001b[1m(\u001b[0m\u001b[33mname\u001b[0m=\u001b[32m'Isocitrate'\u001b[0m, \u001b[33mformula\u001b[0m=\u001b[32m'C6H8O7'\u001b[0m, \u001b[33mid\u001b[0m=\u001b[1;36m19\u001b[0m\u001b[1m)\u001b[0m,\n",
       "    \u001b[1;35mMolecule\u001b[0m\u001b[1m(\u001b[0m\u001b[33mname\u001b[0m=\u001b[32m'α-Ketoglutarate'\u001b[0m, \u001b[33mformula\u001b[0m=\u001b[32m'C5H6O5'\u001b[0m, \u001b[33mid\u001b[0m=\u001b[1;36m20\u001b[0m\u001b[1m)\u001b[0m,\n",
       "    \u001b[1;35mMolecule\u001b[0m\u001b[1m(\u001b[0m\u001b[33mname\u001b[0m=\u001b[32m'Succinyl-CoA'\u001b[0m, \u001b[33mformula\u001b[0m=\u001b[32m'C25H40N7O19P3S'\u001b[0m, \u001b[33mid\u001b[0m=\u001b[1;36m21\u001b[0m\u001b[1m)\u001b[0m,\n",
       "    \u001b[1;35mMolecule\u001b[0m\u001b[1m(\u001b[0m\u001b[33mname\u001b[0m=\u001b[32m'Succinate'\u001b[0m, \u001b[33mformula\u001b[0m=\u001b[32m'C4H6O4'\u001b[0m, \u001b[33mid\u001b[0m=\u001b[1;36m22\u001b[0m\u001b[1m)\u001b[0m,\n",
       "    \u001b[1;35mMolecule\u001b[0m\u001b[1m(\u001b[0m\u001b[33mname\u001b[0m=\u001b[32m'Fumarate'\u001b[0m, \u001b[33mformula\u001b[0m=\u001b[32m'C4H4O4'\u001b[0m, \u001b[33mid\u001b[0m=\u001b[1;36m23\u001b[0m\u001b[1m)\u001b[0m,\n",
       "    \u001b[1;35mMolecule\u001b[0m\u001b[1m(\u001b[0m\u001b[33mname\u001b[0m=\u001b[32m'Malate'\u001b[0m, \u001b[33mformula\u001b[0m=\u001b[32m'C4H6O5'\u001b[0m, \u001b[33mid\u001b[0m=\u001b[1;36m24\u001b[0m\u001b[1m)\u001b[0m,\n",
       "    \u001b[1;35mMolecule\u001b[0m\u001b[1m(\u001b[0m\u001b[33mname\u001b[0m=\u001b[32m'Oxaloacetate'\u001b[0m, \u001b[33mformula\u001b[0m=\u001b[32m'C4H4O5'\u001b[0m, \u001b[33mid\u001b[0m=\u001b[1;36m25\u001b[0m\u001b[1m)\u001b[0m\n",
       "\u001b[1m]\u001b[0m\n"
      ]
     },
     "metadata": {},
     "output_type": "display_data"
    }
   ],
   "source": [
    "# We need to open a session to interact with the database\n",
    "with db as session:\n",
    "    # Instruct the LLM to extract the molecules\n",
    "    response = query_openai(\n",
    "        response_model=Iterable[models.Molecule], # If we expect multiple molecules, we need to use Iterable\n",
    "        query=\"Give me all molecules in the glycolysis, pentose phosphate and citric acid pathway.\",\n",
    "        pre_prompt=\"You are proficient in chemistry and biochemistry.\",\n",
    "        use_scaffold=False, # No need to provide thoughts here\n",
    "    )\n",
    "\n",
    "    session.add_all(response)\n",
    "\n",
    "    # Commit the changes to the database\n",
    "    session.commit()\n",
    "\n",
    "    # Reset the session to clear the cache\n",
    "    session.reset()\n",
    "\n",
    "    # Verify that the data was correctly inserted\n",
    "    results = session.exec(\n",
    "        select(models.Molecule)\n",
    "    ).all()\n",
    "\n",
    "    rich.print(results)"
   ]
  },
  {
   "cell_type": "markdown",
   "id": "885b41e5",
   "metadata": {},
   "source": [
    "## Conclusion\n",
    "\n",
    "In this example, we have seen how to stream data from an LLM directly into a SQL database. While this example is simple, the concept can be easily extended to more complex datasets and analysis pipelines. You can make use of all the tools you can learn from our [Database Example](./examples/sql/basic/SQLDatabaseExample.ipynb)!\n",
    "\n",
    "Furthermore, the approach can easily be looped to existing datasets as well!"
   ]
  }
 ],
 "metadata": {
  "kernelspec": {
   "display_name": "Python 3",
   "language": "python",
   "name": "python3"
  },
  "language_info": {
   "codemirror_mode": {
    "name": "ipython",
    "version": 2
   },
   "file_extension": ".py",
   "mimetype": "text/x-python",
   "name": "python",
   "nbconvert_exporter": "python",
   "pygments_lexer": "ipython2",
   "version": "2.7.6"
  }
 },
 "nbformat": 4,
 "nbformat_minor": 5
}
