{
 "cells": [
  {
   "cell_type": "code",
   "execution_count": 1,
   "id": "initial_id",
   "metadata": {
    "ExecuteTime": {
     "end_time": "2024-12-04T20:12:11.423466Z",
     "start_time": "2024-12-04T20:12:10.564937Z"
    },
    "collapsed": true
   },
   "outputs": [],
   "source": [
    "# WORK IN PROGRESS\n",
    "from typing import Iterable\n",
    "\n",
    "import rich\n",
    "\n",
    "from mdmodels import DataModel, llm  # noqa"
   ]
  },
  {
   "cell_type": "code",
   "execution_count": 2,
   "id": "94c3eac6404aab2c",
   "metadata": {
    "ExecuteTime": {
     "end_time": "2024-12-04T20:12:12.106942Z",
     "start_time": "2024-12-04T20:12:11.425871Z"
    }
   },
   "outputs": [],
   "source": [
    "enzymeml = DataModel.from_github(\n",
    "    repo=\"EnzymeML/enzymeml-specifications\",\n",
    "    branch=\"enzymeml-2\",\n",
    "    spec_path=\"specifications/enzymeml.md\"\n",
    ")"
   ]
  },
  {
   "cell_type": "code",
   "execution_count": 6,
   "id": "fcd1170695041183",
   "metadata": {
    "ExecuteTime": {
     "end_time": "2024-12-04T20:13:11.737224Z",
     "start_time": "2024-12-04T20:13:00.502920Z"
    }
   },
   "outputs": [
    {
     "data": {
      "application/vnd.jupyter.widget-view+json": {
       "model_id": "f8cbccb9a2c043cf97655da574a39ef1",
       "version_major": 2,
       "version_minor": 0
      },
      "text/plain": [
       "Output()"
      ]
     },
     "metadata": {},
     "output_type": "display_data"
    },
    {
     "data": {
      "text/html": [
       "<pre style=\"white-space:pre;overflow-x:auto;line-height:normal;font-family:Menlo,'DejaVu Sans Mono',consolas,'Courier New',monospace\"></pre>\n"
      ],
      "text/plain": []
     },
     "metadata": {},
     "output_type": "display_data"
    },
    {
     "data": {
      "text/html": [
       "<pre style=\"white-space:pre;overflow-x:auto;line-height:normal;font-family:Menlo,'DejaVu Sans Mono',consolas,'Courier New',monospace\">Response<span style=\"font-weight: bold\">[</span>EnzymeMLDocument<span style=\"font-weight: bold\">](</span>\n",
       "    <span style=\"color: #808000; text-decoration-color: #808000\">questions</span>=<span style=\"font-weight: bold\">[]</span>,\n",
       "    <span style=\"color: #808000; text-decoration-color: #808000\">answer</span>=<span style=\"color: #008000; text-decoration-color: #008000\">''</span>,\n",
       "    <span style=\"color: #808000; text-decoration-color: #808000\">chain_of_thought</span>=<span style=\"color: #008000; text-decoration-color: #008000\">'To create an EnzymeML document for alcohol degradation by alcohol dehydrogenase, I need to </span>\n",
       "<span style=\"color: #008000; text-decoration-color: #008000\">define the proteins, small molecules, reactions, and vessels involved in the process. Alcohol dehydrogenase is the </span>\n",
       "<span style=\"color: #008000; text-decoration-color: #008000\">enzyme (protein) that catalyzes the conversion of alcohol (ethanol) to acetaldehyde. The reaction involves ethanol </span>\n",
       "<span style=\"color: #008000; text-decoration-color: #008000\">as the substrate and NAD+ as a cofactor, producing acetaldehyde and NADH. I will create entries for these </span>\n",
       "<span style=\"color: #008000; text-decoration-color: #008000\">components and the reaction scheme.'</span>,\n",
       "    <span style=\"color: #808000; text-decoration-color: #808000\">data</span>=<span style=\"color: #800080; text-decoration-color: #800080; font-weight: bold\">EnzymeMLDocument</span><span style=\"font-weight: bold\">(</span>\n",
       "        <span style=\"color: #808000; text-decoration-color: #808000\">name</span>=<span style=\"color: #008000; text-decoration-color: #008000\">'Alcohol Degradation by Alcohol Dehydrogenase'</span>,\n",
       "        <span style=\"color: #808000; text-decoration-color: #808000\">references</span>=<span style=\"font-weight: bold\">[]</span>,\n",
       "        <span style=\"color: #808000; text-decoration-color: #808000\">created</span>=<span style=\"color: #800080; text-decoration-color: #800080; font-style: italic\">None</span>,\n",
       "        <span style=\"color: #808000; text-decoration-color: #808000\">modified</span>=<span style=\"color: #800080; text-decoration-color: #800080; font-style: italic\">None</span>,\n",
       "        <span style=\"color: #808000; text-decoration-color: #808000\">creators</span>=<span style=\"font-weight: bold\">[]</span>,\n",
       "        <span style=\"color: #808000; text-decoration-color: #808000\">vessels</span>=<span style=\"font-weight: bold\">[</span>\n",
       "            <span style=\"color: #800080; text-decoration-color: #800080; font-weight: bold\">Vessel</span><span style=\"font-weight: bold\">(</span>\n",
       "                <span style=\"color: #808000; text-decoration-color: #808000\">id</span>=<span style=\"color: #008000; text-decoration-color: #008000\">'v1'</span>,\n",
       "                <span style=\"color: #808000; text-decoration-color: #808000\">name</span>=<span style=\"color: #008000; text-decoration-color: #008000\">'Reaction Vessel'</span>,\n",
       "                <span style=\"color: #808000; text-decoration-color: #808000\">volume</span>=<span style=\"color: #008080; text-decoration-color: #008080; font-weight: bold\">1.0</span>,\n",
       "                <span style=\"color: #808000; text-decoration-color: #808000\">unit</span>=<span style=\"color: #800080; text-decoration-color: #800080; font-weight: bold\">UnitDefinition</span><span style=\"font-weight: bold\">(</span>\n",
       "                    <span style=\"color: #808000; text-decoration-color: #808000\">id</span>=<span style=\"color: #008000; text-decoration-color: #008000\">'u1'</span>,\n",
       "                    <span style=\"color: #808000; text-decoration-color: #808000\">name</span>=<span style=\"color: #008000; text-decoration-color: #008000\">'litre'</span>,\n",
       "                    <span style=\"color: #808000; text-decoration-color: #808000\">base_units</span>=<span style=\"font-weight: bold\">[</span>\n",
       "                        <span style=\"color: #800080; text-decoration-color: #800080; font-weight: bold\">BaseUnit</span><span style=\"font-weight: bold\">(</span><span style=\"color: #808000; text-decoration-color: #808000\">kind</span>=<span style=\"font-weight: bold\">&lt;</span><span style=\"color: #ff00ff; text-decoration-color: #ff00ff; font-weight: bold\">UnitType.LITRE:</span><span style=\"color: #000000; text-decoration-color: #000000\"> </span><span style=\"color: #008000; text-decoration-color: #008000\">'litre'</span><span style=\"font-weight: bold\">&gt;</span>, <span style=\"color: #808000; text-decoration-color: #808000\">exponent</span>=<span style=\"color: #008080; text-decoration-color: #008080; font-weight: bold\">1</span>, <span style=\"color: #808000; text-decoration-color: #808000\">multiplier</span>=<span style=\"color: #800080; text-decoration-color: #800080; font-style: italic\">None</span>, <span style=\"color: #808000; text-decoration-color: #808000\">scale</span>=<span style=\"color: #800080; text-decoration-color: #800080; font-style: italic\">None</span><span style=\"font-weight: bold\">)</span>\n",
       "                    <span style=\"font-weight: bold\">]</span>\n",
       "                <span style=\"font-weight: bold\">)</span>,\n",
       "                <span style=\"color: #808000; text-decoration-color: #808000\">constant</span>=<span style=\"color: #00ff00; text-decoration-color: #00ff00; font-style: italic\">True</span>\n",
       "            <span style=\"font-weight: bold\">)</span>\n",
       "        <span style=\"font-weight: bold\">]</span>,\n",
       "        <span style=\"color: #808000; text-decoration-color: #808000\">proteins</span>=<span style=\"font-weight: bold\">[</span>\n",
       "            <span style=\"color: #800080; text-decoration-color: #800080; font-weight: bold\">Protein</span><span style=\"font-weight: bold\">(</span>\n",
       "                <span style=\"color: #808000; text-decoration-color: #808000\">id</span>=<span style=\"color: #008000; text-decoration-color: #008000\">'p1'</span>,\n",
       "                <span style=\"color: #808000; text-decoration-color: #808000\">name</span>=<span style=\"color: #008000; text-decoration-color: #008000\">'Alcohol Dehydrogenase'</span>,\n",
       "                <span style=\"color: #808000; text-decoration-color: #808000\">constant</span>=<span style=\"color: #ff0000; text-decoration-color: #ff0000; font-style: italic\">False</span>,\n",
       "                <span style=\"color: #808000; text-decoration-color: #808000\">sequence</span>=<span style=\"color: #800080; text-decoration-color: #800080; font-style: italic\">None</span>,\n",
       "                <span style=\"color: #808000; text-decoration-color: #808000\">vessel_id</span>=<span style=\"color: #008000; text-decoration-color: #008000\">'v1'</span>,\n",
       "                <span style=\"color: #808000; text-decoration-color: #808000\">ecnumber</span>=<span style=\"color: #008000; text-decoration-color: #008000\">'1.1.1.1'</span>,\n",
       "                <span style=\"color: #808000; text-decoration-color: #808000\">organism</span>=<span style=\"color: #008000; text-decoration-color: #008000\">'Homo sapiens'</span>,\n",
       "                <span style=\"color: #808000; text-decoration-color: #808000\">organism_tax_id</span>=<span style=\"color: #008000; text-decoration-color: #008000\">'9606'</span>,\n",
       "                <span style=\"color: #808000; text-decoration-color: #808000\">references</span>=<span style=\"font-weight: bold\">[]</span>\n",
       "            <span style=\"font-weight: bold\">)</span>\n",
       "        <span style=\"font-weight: bold\">]</span>,\n",
       "        <span style=\"color: #808000; text-decoration-color: #808000\">complexes</span>=<span style=\"font-weight: bold\">[]</span>,\n",
       "        <span style=\"color: #808000; text-decoration-color: #808000\">small_molecules</span>=<span style=\"font-weight: bold\">[</span>\n",
       "            <span style=\"color: #800080; text-decoration-color: #800080; font-weight: bold\">SmallMolecule</span><span style=\"font-weight: bold\">(</span>\n",
       "                <span style=\"color: #808000; text-decoration-color: #808000\">id</span>=<span style=\"color: #008000; text-decoration-color: #008000\">'sm1'</span>,\n",
       "                <span style=\"color: #808000; text-decoration-color: #808000\">name</span>=<span style=\"color: #008000; text-decoration-color: #008000\">'Ethanol'</span>,\n",
       "                <span style=\"color: #808000; text-decoration-color: #808000\">constant</span>=<span style=\"color: #ff0000; text-decoration-color: #ff0000; font-style: italic\">False</span>,\n",
       "                <span style=\"color: #808000; text-decoration-color: #808000\">vessel_id</span>=<span style=\"color: #008000; text-decoration-color: #008000\">'v1'</span>,\n",
       "                <span style=\"color: #808000; text-decoration-color: #808000\">canonical_smiles</span>=<span style=\"color: #008000; text-decoration-color: #008000\">'CCO'</span>,\n",
       "                <span style=\"color: #808000; text-decoration-color: #808000\">inchi</span>=<span style=\"color: #008000; text-decoration-color: #008000\">'InChI=1S/C2H6O/c1-2-3/h3H,2H2,1H3'</span>,\n",
       "                <span style=\"color: #808000; text-decoration-color: #808000\">inchikey</span>=<span style=\"color: #008000; text-decoration-color: #008000\">'LFQSCWFLJHTTHZ-UHFFFAOYSA-N'</span>,\n",
       "                <span style=\"color: #808000; text-decoration-color: #808000\">references</span>=<span style=\"font-weight: bold\">[]</span>\n",
       "            <span style=\"font-weight: bold\">)</span>,\n",
       "            <span style=\"color: #800080; text-decoration-color: #800080; font-weight: bold\">SmallMolecule</span><span style=\"font-weight: bold\">(</span>\n",
       "                <span style=\"color: #808000; text-decoration-color: #808000\">id</span>=<span style=\"color: #008000; text-decoration-color: #008000\">'sm2'</span>,\n",
       "                <span style=\"color: #808000; text-decoration-color: #808000\">name</span>=<span style=\"color: #008000; text-decoration-color: #008000\">'NAD+'</span>,\n",
       "                <span style=\"color: #808000; text-decoration-color: #808000\">constant</span>=<span style=\"color: #ff0000; text-decoration-color: #ff0000; font-style: italic\">False</span>,\n",
       "                <span style=\"color: #808000; text-decoration-color: #808000\">vessel_id</span>=<span style=\"color: #008000; text-decoration-color: #008000\">'v1'</span>,\n",
       "                <span style=\"color: #808000; text-decoration-color: #808000\">canonical_smiles</span>=<span style=\"color: #800080; text-decoration-color: #800080; font-style: italic\">None</span>,\n",
       "                <span style=\"color: #808000; text-decoration-color: #808000\">inchi</span>=<span style=\"color: #800080; text-decoration-color: #800080; font-style: italic\">None</span>,\n",
       "                <span style=\"color: #808000; text-decoration-color: #808000\">inchikey</span>=<span style=\"color: #800080; text-decoration-color: #800080; font-style: italic\">None</span>,\n",
       "                <span style=\"color: #808000; text-decoration-color: #808000\">references</span>=<span style=\"font-weight: bold\">[]</span>\n",
       "            <span style=\"font-weight: bold\">)</span>,\n",
       "            <span style=\"color: #800080; text-decoration-color: #800080; font-weight: bold\">SmallMolecule</span><span style=\"font-weight: bold\">(</span>\n",
       "                <span style=\"color: #808000; text-decoration-color: #808000\">id</span>=<span style=\"color: #008000; text-decoration-color: #008000\">'sm3'</span>,\n",
       "                <span style=\"color: #808000; text-decoration-color: #808000\">name</span>=<span style=\"color: #008000; text-decoration-color: #008000\">'Acetaldehyde'</span>,\n",
       "                <span style=\"color: #808000; text-decoration-color: #808000\">constant</span>=<span style=\"color: #ff0000; text-decoration-color: #ff0000; font-style: italic\">False</span>,\n",
       "                <span style=\"color: #808000; text-decoration-color: #808000\">vessel_id</span>=<span style=\"color: #008000; text-decoration-color: #008000\">'v1'</span>,\n",
       "                <span style=\"color: #808000; text-decoration-color: #808000\">canonical_smiles</span>=<span style=\"color: #008000; text-decoration-color: #008000\">'CC=O'</span>,\n",
       "                <span style=\"color: #808000; text-decoration-color: #808000\">inchi</span>=<span style=\"color: #008000; text-decoration-color: #008000\">'InChI=1S/C2H4O/c1-2-3/h2H,1H3'</span>,\n",
       "                <span style=\"color: #808000; text-decoration-color: #808000\">inchikey</span>=<span style=\"color: #008000; text-decoration-color: #008000\">'IKHGUXGNUITLKF-UHFFFAOYSA-N'</span>,\n",
       "                <span style=\"color: #808000; text-decoration-color: #808000\">references</span>=<span style=\"font-weight: bold\">[]</span>\n",
       "            <span style=\"font-weight: bold\">)</span>,\n",
       "            <span style=\"color: #800080; text-decoration-color: #800080; font-weight: bold\">SmallMolecule</span><span style=\"font-weight: bold\">(</span>\n",
       "                <span style=\"color: #808000; text-decoration-color: #808000\">id</span>=<span style=\"color: #008000; text-decoration-color: #008000\">'sm4'</span>,\n",
       "                <span style=\"color: #808000; text-decoration-color: #808000\">name</span>=<span style=\"color: #008000; text-decoration-color: #008000\">'NADH'</span>,\n",
       "                <span style=\"color: #808000; text-decoration-color: #808000\">constant</span>=<span style=\"color: #ff0000; text-decoration-color: #ff0000; font-style: italic\">False</span>,\n",
       "                <span style=\"color: #808000; text-decoration-color: #808000\">vessel_id</span>=<span style=\"color: #008000; text-decoration-color: #008000\">'v1'</span>,\n",
       "                <span style=\"color: #808000; text-decoration-color: #808000\">canonical_smiles</span>=<span style=\"color: #800080; text-decoration-color: #800080; font-style: italic\">None</span>,\n",
       "                <span style=\"color: #808000; text-decoration-color: #808000\">inchi</span>=<span style=\"color: #800080; text-decoration-color: #800080; font-style: italic\">None</span>,\n",
       "                <span style=\"color: #808000; text-decoration-color: #808000\">inchikey</span>=<span style=\"color: #800080; text-decoration-color: #800080; font-style: italic\">None</span>,\n",
       "                <span style=\"color: #808000; text-decoration-color: #808000\">references</span>=<span style=\"font-weight: bold\">[]</span>\n",
       "            <span style=\"font-weight: bold\">)</span>\n",
       "        <span style=\"font-weight: bold\">]</span>,\n",
       "        <span style=\"color: #808000; text-decoration-color: #808000\">reactions</span>=<span style=\"font-weight: bold\">[</span>\n",
       "            <span style=\"color: #800080; text-decoration-color: #800080; font-weight: bold\">Reaction</span><span style=\"font-weight: bold\">(</span>\n",
       "                <span style=\"color: #808000; text-decoration-color: #808000\">id</span>=<span style=\"color: #008000; text-decoration-color: #008000\">'r1'</span>,\n",
       "                <span style=\"color: #808000; text-decoration-color: #808000\">name</span>=<span style=\"color: #008000; text-decoration-color: #008000\">'Ethanol Oxidation'</span>,\n",
       "                <span style=\"color: #808000; text-decoration-color: #808000\">reversible</span>=<span style=\"color: #ff0000; text-decoration-color: #ff0000; font-style: italic\">False</span>,\n",
       "                <span style=\"color: #808000; text-decoration-color: #808000\">kinetic_law</span>=<span style=\"color: #800080; text-decoration-color: #800080; font-style: italic\">None</span>,\n",
       "                <span style=\"color: #808000; text-decoration-color: #808000\">species</span>=<span style=\"font-weight: bold\">[</span>\n",
       "                    <span style=\"color: #800080; text-decoration-color: #800080; font-weight: bold\">ReactionElement</span><span style=\"font-weight: bold\">(</span><span style=\"color: #808000; text-decoration-color: #808000\">species_id</span>=<span style=\"color: #008000; text-decoration-color: #008000\">'sm1'</span>, <span style=\"color: #808000; text-decoration-color: #808000\">stoichiometry</span>=<span style=\"color: #008080; text-decoration-color: #008080; font-weight: bold\">1.0</span><span style=\"font-weight: bold\">)</span>,\n",
       "                    <span style=\"color: #800080; text-decoration-color: #800080; font-weight: bold\">ReactionElement</span><span style=\"font-weight: bold\">(</span><span style=\"color: #808000; text-decoration-color: #808000\">species_id</span>=<span style=\"color: #008000; text-decoration-color: #008000\">'sm2'</span>, <span style=\"color: #808000; text-decoration-color: #808000\">stoichiometry</span>=<span style=\"color: #008080; text-decoration-color: #008080; font-weight: bold\">1.0</span><span style=\"font-weight: bold\">)</span>,\n",
       "                    <span style=\"color: #800080; text-decoration-color: #800080; font-weight: bold\">ReactionElement</span><span style=\"font-weight: bold\">(</span><span style=\"color: #808000; text-decoration-color: #808000\">species_id</span>=<span style=\"color: #008000; text-decoration-color: #008000\">'sm3'</span>, <span style=\"color: #808000; text-decoration-color: #808000\">stoichiometry</span>=<span style=\"color: #008080; text-decoration-color: #008080; font-weight: bold\">-1.0</span><span style=\"font-weight: bold\">)</span>,\n",
       "                    <span style=\"color: #800080; text-decoration-color: #800080; font-weight: bold\">ReactionElement</span><span style=\"font-weight: bold\">(</span><span style=\"color: #808000; text-decoration-color: #808000\">species_id</span>=<span style=\"color: #008000; text-decoration-color: #008000\">'sm4'</span>, <span style=\"color: #808000; text-decoration-color: #808000\">stoichiometry</span>=<span style=\"color: #008080; text-decoration-color: #008080; font-weight: bold\">-1.0</span><span style=\"font-weight: bold\">)</span>\n",
       "                <span style=\"font-weight: bold\">]</span>,\n",
       "                <span style=\"color: #808000; text-decoration-color: #808000\">modifiers</span>=<span style=\"font-weight: bold\">[</span><span style=\"color: #008000; text-decoration-color: #008000\">'p1'</span><span style=\"font-weight: bold\">]</span>\n",
       "            <span style=\"font-weight: bold\">)</span>\n",
       "        <span style=\"font-weight: bold\">]</span>,\n",
       "        <span style=\"color: #808000; text-decoration-color: #808000\">measurements</span>=<span style=\"font-weight: bold\">[]</span>,\n",
       "        <span style=\"color: #808000; text-decoration-color: #808000\">equations</span>=<span style=\"font-weight: bold\">[]</span>,\n",
       "        <span style=\"color: #808000; text-decoration-color: #808000\">parameters</span>=<span style=\"font-weight: bold\">[]</span>\n",
       "    <span style=\"font-weight: bold\">)</span>\n",
       "<span style=\"font-weight: bold\">)</span>\n",
       "</pre>\n"
      ],
      "text/plain": [
       "Response\u001b[1m[\u001b[0mEnzymeMLDocument\u001b[1m]\u001b[0m\u001b[1m(\u001b[0m\n",
       "    \u001b[33mquestions\u001b[0m=\u001b[1m[\u001b[0m\u001b[1m]\u001b[0m,\n",
       "    \u001b[33manswer\u001b[0m=\u001b[32m''\u001b[0m,\n",
       "    \u001b[33mchain_of_thought\u001b[0m=\u001b[32m'To create an EnzymeML document for alcohol degradation by alcohol dehydrogenase, I need to \u001b[0m\n",
       "\u001b[32mdefine the proteins, small molecules, reactions, and vessels involved in the process. Alcohol dehydrogenase is the \u001b[0m\n",
       "\u001b[32menzyme \u001b[0m\u001b[32m(\u001b[0m\u001b[32mprotein\u001b[0m\u001b[32m)\u001b[0m\u001b[32m that catalyzes the conversion of alcohol \u001b[0m\u001b[32m(\u001b[0m\u001b[32methanol\u001b[0m\u001b[32m)\u001b[0m\u001b[32m to acetaldehyde. The reaction involves ethanol \u001b[0m\n",
       "\u001b[32mas the substrate and NAD+ as a cofactor, producing acetaldehyde and NADH. I will create entries for these \u001b[0m\n",
       "\u001b[32mcomponents and the reaction scheme.'\u001b[0m,\n",
       "    \u001b[33mdata\u001b[0m=\u001b[1;35mEnzymeMLDocument\u001b[0m\u001b[1m(\u001b[0m\n",
       "        \u001b[33mname\u001b[0m=\u001b[32m'Alcohol Degradation by Alcohol Dehydrogenase'\u001b[0m,\n",
       "        \u001b[33mreferences\u001b[0m=\u001b[1m[\u001b[0m\u001b[1m]\u001b[0m,\n",
       "        \u001b[33mcreated\u001b[0m=\u001b[3;35mNone\u001b[0m,\n",
       "        \u001b[33mmodified\u001b[0m=\u001b[3;35mNone\u001b[0m,\n",
       "        \u001b[33mcreators\u001b[0m=\u001b[1m[\u001b[0m\u001b[1m]\u001b[0m,\n",
       "        \u001b[33mvessels\u001b[0m=\u001b[1m[\u001b[0m\n",
       "            \u001b[1;35mVessel\u001b[0m\u001b[1m(\u001b[0m\n",
       "                \u001b[33mid\u001b[0m=\u001b[32m'v1'\u001b[0m,\n",
       "                \u001b[33mname\u001b[0m=\u001b[32m'Reaction Vessel'\u001b[0m,\n",
       "                \u001b[33mvolume\u001b[0m=\u001b[1;36m1\u001b[0m\u001b[1;36m.0\u001b[0m,\n",
       "                \u001b[33munit\u001b[0m=\u001b[1;35mUnitDefinition\u001b[0m\u001b[1m(\u001b[0m\n",
       "                    \u001b[33mid\u001b[0m=\u001b[32m'u1'\u001b[0m,\n",
       "                    \u001b[33mname\u001b[0m=\u001b[32m'litre'\u001b[0m,\n",
       "                    \u001b[33mbase_units\u001b[0m=\u001b[1m[\u001b[0m\n",
       "                        \u001b[1;35mBaseUnit\u001b[0m\u001b[1m(\u001b[0m\u001b[33mkind\u001b[0m=\u001b[1m<\u001b[0m\u001b[1;95mUnitType.LITRE:\u001b[0m\u001b[39m \u001b[0m\u001b[32m'litre'\u001b[0m\u001b[1m>\u001b[0m, \u001b[33mexponent\u001b[0m=\u001b[1;36m1\u001b[0m, \u001b[33mmultiplier\u001b[0m=\u001b[3;35mNone\u001b[0m, \u001b[33mscale\u001b[0m=\u001b[3;35mNone\u001b[0m\u001b[1m)\u001b[0m\n",
       "                    \u001b[1m]\u001b[0m\n",
       "                \u001b[1m)\u001b[0m,\n",
       "                \u001b[33mconstant\u001b[0m=\u001b[3;92mTrue\u001b[0m\n",
       "            \u001b[1m)\u001b[0m\n",
       "        \u001b[1m]\u001b[0m,\n",
       "        \u001b[33mproteins\u001b[0m=\u001b[1m[\u001b[0m\n",
       "            \u001b[1;35mProtein\u001b[0m\u001b[1m(\u001b[0m\n",
       "                \u001b[33mid\u001b[0m=\u001b[32m'p1'\u001b[0m,\n",
       "                \u001b[33mname\u001b[0m=\u001b[32m'Alcohol Dehydrogenase'\u001b[0m,\n",
       "                \u001b[33mconstant\u001b[0m=\u001b[3;91mFalse\u001b[0m,\n",
       "                \u001b[33msequence\u001b[0m=\u001b[3;35mNone\u001b[0m,\n",
       "                \u001b[33mvessel_id\u001b[0m=\u001b[32m'v1'\u001b[0m,\n",
       "                \u001b[33mecnumber\u001b[0m=\u001b[32m'1.1.1.1'\u001b[0m,\n",
       "                \u001b[33morganism\u001b[0m=\u001b[32m'Homo sapiens'\u001b[0m,\n",
       "                \u001b[33morganism_tax_id\u001b[0m=\u001b[32m'9606'\u001b[0m,\n",
       "                \u001b[33mreferences\u001b[0m=\u001b[1m[\u001b[0m\u001b[1m]\u001b[0m\n",
       "            \u001b[1m)\u001b[0m\n",
       "        \u001b[1m]\u001b[0m,\n",
       "        \u001b[33mcomplexes\u001b[0m=\u001b[1m[\u001b[0m\u001b[1m]\u001b[0m,\n",
       "        \u001b[33msmall_molecules\u001b[0m=\u001b[1m[\u001b[0m\n",
       "            \u001b[1;35mSmallMolecule\u001b[0m\u001b[1m(\u001b[0m\n",
       "                \u001b[33mid\u001b[0m=\u001b[32m'sm1'\u001b[0m,\n",
       "                \u001b[33mname\u001b[0m=\u001b[32m'Ethanol'\u001b[0m,\n",
       "                \u001b[33mconstant\u001b[0m=\u001b[3;91mFalse\u001b[0m,\n",
       "                \u001b[33mvessel_id\u001b[0m=\u001b[32m'v1'\u001b[0m,\n",
       "                \u001b[33mcanonical_smiles\u001b[0m=\u001b[32m'CCO'\u001b[0m,\n",
       "                \u001b[33minchi\u001b[0m=\u001b[32m'\u001b[0m\u001b[32mInChI\u001b[0m\u001b[32m=\u001b[0m\u001b[32m1S\u001b[0m\u001b[32m/C2H6O/c1-2-3/h3H,2H2,1H3'\u001b[0m,\n",
       "                \u001b[33minchikey\u001b[0m=\u001b[32m'LFQSCWFLJHTTHZ-UHFFFAOYSA-N'\u001b[0m,\n",
       "                \u001b[33mreferences\u001b[0m=\u001b[1m[\u001b[0m\u001b[1m]\u001b[0m\n",
       "            \u001b[1m)\u001b[0m,\n",
       "            \u001b[1;35mSmallMolecule\u001b[0m\u001b[1m(\u001b[0m\n",
       "                \u001b[33mid\u001b[0m=\u001b[32m'sm2'\u001b[0m,\n",
       "                \u001b[33mname\u001b[0m=\u001b[32m'NAD+'\u001b[0m,\n",
       "                \u001b[33mconstant\u001b[0m=\u001b[3;91mFalse\u001b[0m,\n",
       "                \u001b[33mvessel_id\u001b[0m=\u001b[32m'v1'\u001b[0m,\n",
       "                \u001b[33mcanonical_smiles\u001b[0m=\u001b[3;35mNone\u001b[0m,\n",
       "                \u001b[33minchi\u001b[0m=\u001b[3;35mNone\u001b[0m,\n",
       "                \u001b[33minchikey\u001b[0m=\u001b[3;35mNone\u001b[0m,\n",
       "                \u001b[33mreferences\u001b[0m=\u001b[1m[\u001b[0m\u001b[1m]\u001b[0m\n",
       "            \u001b[1m)\u001b[0m,\n",
       "            \u001b[1;35mSmallMolecule\u001b[0m\u001b[1m(\u001b[0m\n",
       "                \u001b[33mid\u001b[0m=\u001b[32m'sm3'\u001b[0m,\n",
       "                \u001b[33mname\u001b[0m=\u001b[32m'Acetaldehyde'\u001b[0m,\n",
       "                \u001b[33mconstant\u001b[0m=\u001b[3;91mFalse\u001b[0m,\n",
       "                \u001b[33mvessel_id\u001b[0m=\u001b[32m'v1'\u001b[0m,\n",
       "                \u001b[33mcanonical_smiles\u001b[0m=\u001b[32m'\u001b[0m\u001b[32mCC\u001b[0m\u001b[32m=\u001b[0m\u001b[32mO\u001b[0m\u001b[32m'\u001b[0m,\n",
       "                \u001b[33minchi\u001b[0m=\u001b[32m'\u001b[0m\u001b[32mInChI\u001b[0m\u001b[32m=\u001b[0m\u001b[32m1S\u001b[0m\u001b[32m/C2H4O/c1-2-3/h2H,1H3'\u001b[0m,\n",
       "                \u001b[33minchikey\u001b[0m=\u001b[32m'IKHGUXGNUITLKF-UHFFFAOYSA-N'\u001b[0m,\n",
       "                \u001b[33mreferences\u001b[0m=\u001b[1m[\u001b[0m\u001b[1m]\u001b[0m\n",
       "            \u001b[1m)\u001b[0m,\n",
       "            \u001b[1;35mSmallMolecule\u001b[0m\u001b[1m(\u001b[0m\n",
       "                \u001b[33mid\u001b[0m=\u001b[32m'sm4'\u001b[0m,\n",
       "                \u001b[33mname\u001b[0m=\u001b[32m'NADH'\u001b[0m,\n",
       "                \u001b[33mconstant\u001b[0m=\u001b[3;91mFalse\u001b[0m,\n",
       "                \u001b[33mvessel_id\u001b[0m=\u001b[32m'v1'\u001b[0m,\n",
       "                \u001b[33mcanonical_smiles\u001b[0m=\u001b[3;35mNone\u001b[0m,\n",
       "                \u001b[33minchi\u001b[0m=\u001b[3;35mNone\u001b[0m,\n",
       "                \u001b[33minchikey\u001b[0m=\u001b[3;35mNone\u001b[0m,\n",
       "                \u001b[33mreferences\u001b[0m=\u001b[1m[\u001b[0m\u001b[1m]\u001b[0m\n",
       "            \u001b[1m)\u001b[0m\n",
       "        \u001b[1m]\u001b[0m,\n",
       "        \u001b[33mreactions\u001b[0m=\u001b[1m[\u001b[0m\n",
       "            \u001b[1;35mReaction\u001b[0m\u001b[1m(\u001b[0m\n",
       "                \u001b[33mid\u001b[0m=\u001b[32m'r1'\u001b[0m,\n",
       "                \u001b[33mname\u001b[0m=\u001b[32m'Ethanol Oxidation'\u001b[0m,\n",
       "                \u001b[33mreversible\u001b[0m=\u001b[3;91mFalse\u001b[0m,\n",
       "                \u001b[33mkinetic_law\u001b[0m=\u001b[3;35mNone\u001b[0m,\n",
       "                \u001b[33mspecies\u001b[0m=\u001b[1m[\u001b[0m\n",
       "                    \u001b[1;35mReactionElement\u001b[0m\u001b[1m(\u001b[0m\u001b[33mspecies_id\u001b[0m=\u001b[32m'sm1'\u001b[0m, \u001b[33mstoichiometry\u001b[0m=\u001b[1;36m1\u001b[0m\u001b[1;36m.0\u001b[0m\u001b[1m)\u001b[0m,\n",
       "                    \u001b[1;35mReactionElement\u001b[0m\u001b[1m(\u001b[0m\u001b[33mspecies_id\u001b[0m=\u001b[32m'sm2'\u001b[0m, \u001b[33mstoichiometry\u001b[0m=\u001b[1;36m1\u001b[0m\u001b[1;36m.0\u001b[0m\u001b[1m)\u001b[0m,\n",
       "                    \u001b[1;35mReactionElement\u001b[0m\u001b[1m(\u001b[0m\u001b[33mspecies_id\u001b[0m=\u001b[32m'sm3'\u001b[0m, \u001b[33mstoichiometry\u001b[0m=\u001b[1;36m-1.0\u001b[0m\u001b[1m)\u001b[0m,\n",
       "                    \u001b[1;35mReactionElement\u001b[0m\u001b[1m(\u001b[0m\u001b[33mspecies_id\u001b[0m=\u001b[32m'sm4'\u001b[0m, \u001b[33mstoichiometry\u001b[0m=\u001b[1;36m-1.0\u001b[0m\u001b[1m)\u001b[0m\n",
       "                \u001b[1m]\u001b[0m,\n",
       "                \u001b[33mmodifiers\u001b[0m=\u001b[1m[\u001b[0m\u001b[32m'p1'\u001b[0m\u001b[1m]\u001b[0m\n",
       "            \u001b[1m)\u001b[0m\n",
       "        \u001b[1m]\u001b[0m,\n",
       "        \u001b[33mmeasurements\u001b[0m=\u001b[1m[\u001b[0m\u001b[1m]\u001b[0m,\n",
       "        \u001b[33mequations\u001b[0m=\u001b[1m[\u001b[0m\u001b[1m]\u001b[0m,\n",
       "        \u001b[33mparameters\u001b[0m=\u001b[1m[\u001b[0m\u001b[1m]\u001b[0m\n",
       "    \u001b[1m)\u001b[0m\n",
       "\u001b[1m)\u001b[0m\n"
      ]
     },
     "metadata": {},
     "output_type": "display_data"
    }
   ],
   "source": [
    "response = llm.query_openai(\n",
    "    response_model=enzymeml.EnzymeMLDocument,\n",
    "    pre_prompt=\"You are a scientist working with EnzymeML data. Think step by step about the process of creating a new EnzymeML file for a new enzyme.\",\n",
    "    query=\"Create an EnzymeML document that describes alcohol degradation by alcohol dehydrogenase, \"\n",
    "          \"including molecules and reactions schemes. No measurements and equations needed.\",\n",
    ")\n",
    "\n",
    "rich.print(response)"
   ]
  },
  {
   "cell_type": "code",
   "execution_count": 8,
   "id": "2633d88adb326005",
   "metadata": {
    "ExecuteTime": {
     "end_time": "2024-12-04T20:14:14.005896Z",
     "start_time": "2024-12-04T20:14:07.750049Z"
    }
   },
   "outputs": [
    {
     "data": {
      "application/vnd.jupyter.widget-view+json": {
       "model_id": "9de8a98332864de7b95d0ea8fc1df629",
       "version_major": 2,
       "version_minor": 0
      },
      "text/plain": [
       "Output()"
      ]
     },
     "metadata": {},
     "output_type": "display_data"
    },
    {
     "data": {
      "text/html": [
       "<pre style=\"white-space:pre;overflow-x:auto;line-height:normal;font-family:Menlo,'DejaVu Sans Mono',consolas,'Courier New',monospace\"></pre>\n"
      ],
      "text/plain": []
     },
     "metadata": {},
     "output_type": "display_data"
    },
    {
     "data": {
      "text/html": [
       "<pre style=\"white-space:pre;overflow-x:auto;line-height:normal;font-family:Menlo,'DejaVu Sans Mono',consolas,'Courier New',monospace\"><span style=\"font-weight: bold\">[</span>\n",
       "    <span style=\"color: #800080; text-decoration-color: #800080; font-weight: bold\">BiocatalystPurchased</span><span style=\"font-weight: bold\">(</span>\n",
       "        <span style=\"color: #808000; text-decoration-color: #808000\">name</span>=<span style=\"color: #008000; text-decoration-color: #008000\">'Alcohol Dehydrogenase'</span>,\n",
       "        <span style=\"color: #808000; text-decoration-color: #808000\">ec_number</span>=<span style=\"color: #008000; text-decoration-color: #008000\">'1.1.1.1'</span>,\n",
       "        <span style=\"color: #808000; text-decoration-color: #808000\">molecular_weight</span>=<span style=\"color: #008080; text-decoration-color: #008080; font-weight: bold\">0.0</span>,\n",
       "        <span style=\"color: #808000; text-decoration-color: #808000\">molecular_weight_unit</span>=<span style=\"color: #008000; text-decoration-color: #008000\">''</span>,\n",
       "        <span style=\"color: #808000; text-decoration-color: #808000\">catalyzed_reaction</span>=<span style=\"color: #008000; text-decoration-color: #008000\">'Ethanol + NAD+ -&gt; Acetaldehyde + NADH'</span>,\n",
       "        <span style=\"color: #808000; text-decoration-color: #808000\">sequence_amino_acid</span>=<span style=\"color: #008000; text-decoration-color: #008000\">''</span>,\n",
       "        <span style=\"color: #808000; text-decoration-color: #808000\">sequence_DNA</span>=<span style=\"color: #008000; text-decoration-color: #008000\">''</span>,\n",
       "        <span style=\"color: #808000; text-decoration-color: #808000\">origin_organism</span>=<span style=\"color: #008000; text-decoration-color: #008000\">'Homo sapiens'</span>,\n",
       "        <span style=\"color: #808000; text-decoration-color: #808000\">supplier</span>=<span style=\"color: #008000; text-decoration-color: #008000\">''</span>,\n",
       "        <span style=\"color: #808000; text-decoration-color: #808000\">production_organism</span>=<span style=\"color: #008000; text-decoration-color: #008000\">''</span>,\n",
       "        <span style=\"color: #808000; text-decoration-color: #808000\">posttranslational_modification</span>=<span style=\"color: #008000; text-decoration-color: #008000\">''</span>,\n",
       "        <span style=\"color: #808000; text-decoration-color: #808000\">purity</span>=<span style=\"color: #008080; text-decoration-color: #008080; font-weight: bold\">0.0</span>,\n",
       "        <span style=\"color: #808000; text-decoration-color: #808000\">purity_specification</span>=<span style=\"color: #008000; text-decoration-color: #008000\">''</span>,\n",
       "        <span style=\"color: #808000; text-decoration-color: #808000\">formulation</span>=<span style=\"color: #008000; text-decoration-color: #008000\">''</span>\n",
       "    <span style=\"font-weight: bold\">)</span>\n",
       "<span style=\"font-weight: bold\">]</span>\n",
       "</pre>\n"
      ],
      "text/plain": [
       "\u001b[1m[\u001b[0m\n",
       "    \u001b[1;35mBiocatalystPurchased\u001b[0m\u001b[1m(\u001b[0m\n",
       "        \u001b[33mname\u001b[0m=\u001b[32m'Alcohol Dehydrogenase'\u001b[0m,\n",
       "        \u001b[33mec_number\u001b[0m=\u001b[32m'1.1.1.1'\u001b[0m,\n",
       "        \u001b[33mmolecular_weight\u001b[0m=\u001b[1;36m0\u001b[0m\u001b[1;36m.0\u001b[0m,\n",
       "        \u001b[33mmolecular_weight_unit\u001b[0m=\u001b[32m''\u001b[0m,\n",
       "        \u001b[33mcatalyzed_reaction\u001b[0m=\u001b[32m'Ethanol + NAD+ -> Acetaldehyde + NADH'\u001b[0m,\n",
       "        \u001b[33msequence_amino_acid\u001b[0m=\u001b[32m''\u001b[0m,\n",
       "        \u001b[33msequence_DNA\u001b[0m=\u001b[32m''\u001b[0m,\n",
       "        \u001b[33morigin_organism\u001b[0m=\u001b[32m'Homo sapiens'\u001b[0m,\n",
       "        \u001b[33msupplier\u001b[0m=\u001b[32m''\u001b[0m,\n",
       "        \u001b[33mproduction_organism\u001b[0m=\u001b[32m''\u001b[0m,\n",
       "        \u001b[33mposttranslational_modification\u001b[0m=\u001b[32m''\u001b[0m,\n",
       "        \u001b[33mpurity\u001b[0m=\u001b[1;36m0\u001b[0m\u001b[1;36m.0\u001b[0m,\n",
       "        \u001b[33mpurity_specification\u001b[0m=\u001b[32m''\u001b[0m,\n",
       "        \u001b[33mformulation\u001b[0m=\u001b[32m''\u001b[0m\n",
       "    \u001b[1m)\u001b[0m\n",
       "\u001b[1m]\u001b[0m\n"
      ]
     },
     "metadata": {},
     "output_type": "display_data"
    }
   ],
   "source": [
    "# Now lets map the response to the STRENDA metadata model\n",
    "strenda = DataModel.from_github(\n",
    "    repo=\"Strenda-biocatalysis/Strenda-biocatalysis\",\n",
    "    spec_path=\"specifications/biocatalyst.md\",\n",
    "    branch=\"main\",\n",
    ")\n",
    "\n",
    "biocatalysts = llm.query_openai(\n",
    "    pre_prompt=\"You are tasked to map the EnzymeML document to the STRENDA metadata model provided as a response model.\",\n",
    "    query=\"Map the EnzymeML document to the STRENDA metadata model. Leave optional fields as None if not present.\",\n",
    "    response_model=Iterable[strenda.BiocatalystPurchased],\n",
    "    previous_data_response=response,\n",
    "    use_scaffold=False\n",
    ")\n",
    "\n",
    "rich.print(biocatalysts)"
   ]
  },
  {
   "cell_type": "code",
   "execution_count": null,
   "id": "5f0f080c0d67444b",
   "metadata": {},
   "outputs": [],
   "source": []
  }
 ],
 "metadata": {
  "kernelspec": {
   "display_name": "mdmodels",
   "language": "python",
   "name": "mdmodels"
  },
  "language_info": {
   "codemirror_mode": {
    "name": "ipython",
    "version": 2
   },
   "file_extension": ".py",
   "mimetype": "text/x-python",
   "name": "python",
   "nbconvert_exporter": "python",
   "pygments_lexer": "ipython2",
   "version": "2.7.6"
  }
 },
 "nbformat": 4,
 "nbformat_minor": 5
}
