{
 "cells": [
  {
   "cell_type": "code",
   "id": "initial_id",
   "metadata": {
    "collapsed": true,
    "ExecuteTime": {
     "end_time": "2024-11-26T06:54:10.000647Z",
     "start_time": "2024-11-26T06:54:09.451607Z"
    }
   },
   "source": [
    "import os\n",
    "\n",
    "import rich\n",
    "\n",
    "from mdmodels.sql import DatabaseConnector, generate_sqlmodel, select\n"
   ],
   "outputs": [],
   "execution_count": 1
  },
  {
   "metadata": {
    "ExecuteTime": {
     "end_time": "2024-11-26T06:54:10.005192Z",
     "start_time": "2024-11-26T06:54:10.003474Z"
    }
   },
   "cell_type": "code",
   "source": [
    "if os.path.exists(\"test.db\"):\n",
    "    os.remove(\"test.db\")"
   ],
   "id": "902a7d88db81fcb9",
   "outputs": [],
   "execution_count": 2
  },
  {
   "metadata": {
    "ExecuteTime": {
     "end_time": "2024-11-26T06:54:10.089231Z",
     "start_time": "2024-11-26T06:54:10.029680Z"
    }
   },
   "cell_type": "code",
   "source": [
    "models = generate_sqlmodel(path=\"model.md\")\n",
    "db = DatabaseConnector(database=\"test.db\")\n",
    "\n",
    "db.create_tables(models)"
   ],
   "id": "959e9983bf99862e",
   "outputs": [],
   "execution_count": 3
  },
  {
   "metadata": {
    "ExecuteTime": {
     "end_time": "2024-11-26T06:54:10.096171Z",
     "start_time": "2024-11-26T06:54:10.094825Z"
    }
   },
   "cell_type": "code",
   "source": [
    "# Extract tables to create rows\n",
    "ChemicalProject = models[\"ChemicalProject\"]\n",
    "Molecule = models[\"Molecule\"]"
   ],
   "id": "8285d49bb18db286",
   "outputs": [],
   "execution_count": 4
  },
  {
   "metadata": {
    "ExecuteTime": {
     "end_time": "2024-11-26T06:54:10.107449Z",
     "start_time": "2024-11-26T06:54:10.099427Z"
    }
   },
   "cell_type": "code",
   "source": [
    "with db as session:\n",
    "    # Case 1: Insert a project with a molecule\n",
    "    project = ChemicalProject(title=\"Test Project\")\n",
    "    project.molecules.append(\n",
    "        Molecule(id=\"mol1\", name=\"Methanol\", smiles=\"CO\")\n",
    "    )\n",
    "    \n",
    "    session.add(project)"
   ],
   "id": "fbc1310511a8f311",
   "outputs": [],
   "execution_count": 5
  },
  {
   "metadata": {
    "ExecuteTime": {
     "end_time": "2024-11-26T06:54:10.119632Z",
     "start_time": "2024-11-26T06:54:10.110838Z"
    }
   },
   "cell_type": "code",
   "source": [
    "with db as session:\n",
    "    # Case 2: Extract the project and print it\n",
    "    statement = select(ChemicalProject).where(ChemicalProject.title == \"Test Project\")\n",
    "    projects = session.exec(statement).all()\n",
    "    \n",
    "    for project in projects:\n",
    "        rich.print(project.to_dict())"
   ],
   "id": "98dab6cd61343eb4",
   "outputs": [
    {
     "data": {
      "text/plain": [
       "\u001B[1m{\u001B[0m\n",
       "    \u001B[32m'title'\u001B[0m: \u001B[32m'Test Project'\u001B[0m,\n",
       "    \u001B[32m'molecules'\u001B[0m: \u001B[1m[\u001B[0m\u001B[1m{\u001B[0m\u001B[32m'id'\u001B[0m: \u001B[32m'mol1'\u001B[0m, \u001B[32m'name'\u001B[0m: \u001B[32m'Methanol'\u001B[0m, \u001B[32m'formula'\u001B[0m: \u001B[3;35mNone\u001B[0m\u001B[1m}\u001B[0m\u001B[1m]\u001B[0m,\n",
       "    \u001B[32m'reactions'\u001B[0m: \u001B[1m[\u001B[0m\u001B[1m]\u001B[0m,\n",
       "    \u001B[32m'experiments'\u001B[0m: \u001B[1m[\u001B[0m\u001B[1m]\u001B[0m\n",
       "\u001B[1m}\u001B[0m\n"
      ],
      "text/html": [
       "<pre style=\"white-space:pre;overflow-x:auto;line-height:normal;font-family:Menlo,'DejaVu Sans Mono',consolas,'Courier New',monospace\"><span style=\"font-weight: bold\">{</span>\n",
       "    <span style=\"color: #008000; text-decoration-color: #008000\">'title'</span>: <span style=\"color: #008000; text-decoration-color: #008000\">'Test Project'</span>,\n",
       "    <span style=\"color: #008000; text-decoration-color: #008000\">'molecules'</span>: <span style=\"font-weight: bold\">[{</span><span style=\"color: #008000; text-decoration-color: #008000\">'id'</span>: <span style=\"color: #008000; text-decoration-color: #008000\">'mol1'</span>, <span style=\"color: #008000; text-decoration-color: #008000\">'name'</span>: <span style=\"color: #008000; text-decoration-color: #008000\">'Methanol'</span>, <span style=\"color: #008000; text-decoration-color: #008000\">'formula'</span>: <span style=\"color: #800080; text-decoration-color: #800080; font-style: italic\">None</span><span style=\"font-weight: bold\">}]</span>,\n",
       "    <span style=\"color: #008000; text-decoration-color: #008000\">'reactions'</span>: <span style=\"font-weight: bold\">[]</span>,\n",
       "    <span style=\"color: #008000; text-decoration-color: #008000\">'experiments'</span>: <span style=\"font-weight: bold\">[]</span>\n",
       "<span style=\"font-weight: bold\">}</span>\n",
       "</pre>\n"
      ]
     },
     "metadata": {},
     "output_type": "display_data"
    }
   ],
   "execution_count": 6
  },
  {
   "metadata": {
    "ExecuteTime": {
     "end_time": "2024-11-26T06:54:10.126880Z",
     "start_time": "2024-11-26T06:54:10.123685Z"
    }
   },
   "cell_type": "code",
   "source": [
    "with db as session:\n",
    "    # Case 3: Add a molecule to the database and link it to the project\n",
    "    molecule = Molecule(id=\"mol2\", name=\"Ethanol\", smiles=\"CCO\")\n",
    "    session.add(molecule)\n",
    "    \n",
    "    # Add the molecule to the project\n",
    "    statement = select(ChemicalProject).where(ChemicalProject.title == \"Test Project\")\n",
    "    project = session.exec(statement).first()\n",
    "    \n",
    "    project.molecules.append(molecule)\n",
    "    session.add(project)"
   ],
   "id": "9460a9e947314d1",
   "outputs": [],
   "execution_count": 7
  },
  {
   "metadata": {
    "ExecuteTime": {
     "end_time": "2024-11-26T06:54:10.156800Z",
     "start_time": "2024-11-26T06:54:10.153315Z"
    }
   },
   "cell_type": "code",
   "source": [
    "with db as session:\n",
    "    # Case 4: Update the molecule\n",
    "    statement = select(Molecule).where(Molecule.id == \"mol2\")\n",
    "    molecule = session.exec(statement).first()\n",
    "    \n",
    "    molecule.name = \"Ethanol (Updated)\"\n",
    "    molecule.formula = \"C2H6O\"\n",
    "    \n",
    "    session.add(molecule)"
   ],
   "id": "212e2fcf6581489e",
   "outputs": [],
   "execution_count": 8
  },
  {
   "metadata": {
    "ExecuteTime": {
     "end_time": "2024-11-26T06:54:10.164948Z",
     "start_time": "2024-11-26T06:54:10.161039Z"
    }
   },
   "cell_type": "code",
   "source": [
    "with db as session:\n",
    "    # Verify the molecule was added to the project and updated\n",
    "    statement = select(ChemicalProject).where(ChemicalProject.title == \"Test Project\")\n",
    "    project = session.exec(statement).first()\n",
    "    \n",
    "    rich.print(project.to_dict())"
   ],
   "id": "2cd7ffb3f87a45d7",
   "outputs": [
    {
     "data": {
      "text/plain": [
       "\u001B[1m{\u001B[0m\n",
       "    \u001B[32m'title'\u001B[0m: \u001B[32m'Test Project'\u001B[0m,\n",
       "    \u001B[32m'molecules'\u001B[0m: \u001B[1m[\u001B[0m\n",
       "        \u001B[1m{\u001B[0m\u001B[32m'id'\u001B[0m: \u001B[32m'mol1'\u001B[0m, \u001B[32m'name'\u001B[0m: \u001B[32m'Methanol'\u001B[0m, \u001B[32m'formula'\u001B[0m: \u001B[3;35mNone\u001B[0m\u001B[1m}\u001B[0m,\n",
       "        \u001B[1m{\u001B[0m\u001B[32m'id'\u001B[0m: \u001B[32m'mol2'\u001B[0m, \u001B[32m'name'\u001B[0m: \u001B[32m'Ethanol \u001B[0m\u001B[32m(\u001B[0m\u001B[32mUpdated\u001B[0m\u001B[32m)\u001B[0m\u001B[32m'\u001B[0m, \u001B[32m'formula'\u001B[0m: \u001B[32m'C2H6O'\u001B[0m\u001B[1m}\u001B[0m\n",
       "    \u001B[1m]\u001B[0m,\n",
       "    \u001B[32m'reactions'\u001B[0m: \u001B[1m[\u001B[0m\u001B[1m]\u001B[0m,\n",
       "    \u001B[32m'experiments'\u001B[0m: \u001B[1m[\u001B[0m\u001B[1m]\u001B[0m\n",
       "\u001B[1m}\u001B[0m\n"
      ],
      "text/html": [
       "<pre style=\"white-space:pre;overflow-x:auto;line-height:normal;font-family:Menlo,'DejaVu Sans Mono',consolas,'Courier New',monospace\"><span style=\"font-weight: bold\">{</span>\n",
       "    <span style=\"color: #008000; text-decoration-color: #008000\">'title'</span>: <span style=\"color: #008000; text-decoration-color: #008000\">'Test Project'</span>,\n",
       "    <span style=\"color: #008000; text-decoration-color: #008000\">'molecules'</span>: <span style=\"font-weight: bold\">[</span>\n",
       "        <span style=\"font-weight: bold\">{</span><span style=\"color: #008000; text-decoration-color: #008000\">'id'</span>: <span style=\"color: #008000; text-decoration-color: #008000\">'mol1'</span>, <span style=\"color: #008000; text-decoration-color: #008000\">'name'</span>: <span style=\"color: #008000; text-decoration-color: #008000\">'Methanol'</span>, <span style=\"color: #008000; text-decoration-color: #008000\">'formula'</span>: <span style=\"color: #800080; text-decoration-color: #800080; font-style: italic\">None</span><span style=\"font-weight: bold\">}</span>,\n",
       "        <span style=\"font-weight: bold\">{</span><span style=\"color: #008000; text-decoration-color: #008000\">'id'</span>: <span style=\"color: #008000; text-decoration-color: #008000\">'mol2'</span>, <span style=\"color: #008000; text-decoration-color: #008000\">'name'</span>: <span style=\"color: #008000; text-decoration-color: #008000\">'Ethanol (Updated)'</span>, <span style=\"color: #008000; text-decoration-color: #008000\">'formula'</span>: <span style=\"color: #008000; text-decoration-color: #008000\">'C2H6O'</span><span style=\"font-weight: bold\">}</span>\n",
       "    <span style=\"font-weight: bold\">]</span>,\n",
       "    <span style=\"color: #008000; text-decoration-color: #008000\">'reactions'</span>: <span style=\"font-weight: bold\">[]</span>,\n",
       "    <span style=\"color: #008000; text-decoration-color: #008000\">'experiments'</span>: <span style=\"font-weight: bold\">[]</span>\n",
       "<span style=\"font-weight: bold\">}</span>\n",
       "</pre>\n"
      ]
     },
     "metadata": {},
     "output_type": "display_data"
    }
   ],
   "execution_count": 9
  }
 ],
 "metadata": {
  "kernelspec": {
   "display_name": "mdmodels",
   "language": "python",
   "name": "mdmodels"
  },
  "language_info": {
   "codemirror_mode": {
    "name": "ipython",
    "version": 2
   },
   "file_extension": ".py",
   "mimetype": "text/x-python",
   "name": "python",
   "nbconvert_exporter": "python",
   "pygments_lexer": "ipython2",
   "version": "2.7.6"
  }
 },
 "nbformat": 4,
 "nbformat_minor": 5
}
