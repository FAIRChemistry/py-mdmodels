{
 "cells": [
  {
   "cell_type": "markdown",
   "id": "3e8df4c6",
   "metadata": {},
   "source": [
    "# Basic SQL Database Example\n",
    "\n",
    "Relational databases are a common way to store data. They are used to store data in a structured manner, allowing for efficient data retrieval and manipulation. SQL (Structured Query Language) is a standard language for relational databases and used in many applications. \n",
    "\n",
    "In this example, we will see how to use mdmodels to interact with a SQL database. We will start by creating a database and tables from a markdown file, insert data into the database, update and delete rows and also restore nested objects."
   ]
  },
  {
   "cell_type": "code",
   "execution_count": 1,
   "id": "initial_id",
   "metadata": {
    "ExecuteTime": {
     "end_time": "2024-12-04T00:16:59.242402Z",
     "start_time": "2024-12-04T00:16:58.649372Z"
    },
    "collapsed": true
   },
   "outputs": [],
   "source": [
    "import json\n",
    "import rich\n",
    "\n",
    "from mdmodels import DataModel\n",
    "from mdmodels import sql"
   ]
  },
  {
   "cell_type": "markdown",
   "id": "85e2e9da",
   "metadata": {},
   "source": [
    "## Setup and creation of the database\n",
    "\n",
    "We start by creating the data model from the markdown file and then generate the SQLModel classes. In the background will align the database data model with the hierarchical data model defined in the markdown file.\n",
    "\n",
    "Once we have the SQLModel classes, we can create the database and the tables by using the `DatabaseConnector` class. The latter creates a so called `engine` which is used to connect to the database. This `engine` is then used to create the tables. Later on we will make use of this `engine` to interact with the database."
   ]
  },
  {
   "cell_type": "code",
   "execution_count": 2,
   "id": "959e9983bf99862e",
   "metadata": {
    "ExecuteTime": {
     "end_time": "2024-12-04T00:16:59.319757Z",
     "start_time": "2024-12-04T00:16:59.279087Z"
    }
   },
   "outputs": [],
   "source": [
    "# Create the data model from the markdown file\n",
    "dm = DataModel.from_markdown(\"model.md\")\n",
    "\n",
    "# Generate the SQLModel classes\n",
    "models = sql.generate_sqlmodel(data_model=dm)\n",
    "\n",
    "# We use an in-memory database for this example\n",
    "# Leaving the database empty, will automatically create it\n",
    "db = sql.DatabaseConnector(database=\"\")\n",
    "db.create_tables(models)\n"
   ]
  },
  {
   "cell_type": "markdown",
   "id": "65b7686d",
   "metadata": {},
   "source": [
    "## Creating a row and inserting it into the database\n",
    "\n",
    "In the following example, we will create a `Molecule` row and insert it into the database. Since we are using [SQLModel](https://sqlmodel.tiangolo.com/), which is a library that extends the SQLAlchemy library, we first need to start a session.\n",
    "\n",
    "```python\n",
    "with db as session:\n",
    "    # Do something with the session\n",
    "```\n",
    "\n",
    "Sessions are context managers and take care of committing and rolling back transactions to the database. Once exited, the session is closed and the transaction is committed. If there is an exception, the transaction is rolled back. This gives you a safe way to interact with the database.\n",
    "\n",
    "Moving on, creating a row behaves the same way as in our basic example. You provide the necessary information as attributes of the SQLModel class and add it. Lets do it!"
   ]
  },
  {
   "cell_type": "code",
   "execution_count": 3,
   "id": "94ae34f0",
   "metadata": {},
   "outputs": [],
   "source": [
    "with db as session:\n",
    "    # Create a molecule\n",
    "    molecule = models.Molecule(id=\"123\", name=\"Methanol\", smiles=\"CO\")\n",
    "\n",
    "    # Now we add the molecule to the session\n",
    "    session.add(molecule)"
   ]
  },
  {
   "cell_type": "markdown",
   "id": "9ebc0151",
   "metadata": {},
   "source": [
    "### Querying the database\n",
    "\n",
    "Now that we have added our first row, we'd like to check if it was added correctly. Instead of creating a new row, we now want to `select` row(s) from the database. Here's an explanation of how to do this:\n",
    "\n",
    "- `select` initializes a query that selects something from the database.\n",
    "- We pass the SQLModel class we want to select from.\n",
    "- Using `session.exec()` we execute the query.\n",
    "- `.all()` returns all the results of the query as a list.\n",
    "\n",
    "Let's see how this works in practice!\n"
   ]
  },
  {
   "cell_type": "code",
   "execution_count": 4,
   "id": "ce059138",
   "metadata": {},
   "outputs": [
    {
     "data": {
      "text/html": [
       "<pre style=\"white-space:pre;overflow-x:auto;line-height:normal;font-family:Menlo,'DejaVu Sans Mono',consolas,'Courier New',monospace\"><span style=\"font-weight: bold\">[</span><span style=\"color: #800080; text-decoration-color: #800080; font-weight: bold\">Molecule</span><span style=\"font-weight: bold\">(</span><span style=\"color: #808000; text-decoration-color: #808000\">id</span>=<span style=\"color: #008000; text-decoration-color: #008000\">'123'</span>, <span style=\"color: #808000; text-decoration-color: #808000\">formula</span>=<span style=\"color: #800080; text-decoration-color: #800080; font-style: italic\">None</span>, <span style=\"color: #808000; text-decoration-color: #808000\">name</span>=<span style=\"color: #008000; text-decoration-color: #008000\">'Methanol'</span><span style=\"font-weight: bold\">)]</span>\n",
       "</pre>\n"
      ],
      "text/plain": [
       "\u001b[1m[\u001b[0m\u001b[1;35mMolecule\u001b[0m\u001b[1m(\u001b[0m\u001b[33mid\u001b[0m=\u001b[32m'123'\u001b[0m, \u001b[33mformula\u001b[0m=\u001b[3;35mNone\u001b[0m, \u001b[33mname\u001b[0m=\u001b[32m'Methanol'\u001b[0m\u001b[1m)\u001b[0m\u001b[1m]\u001b[0m\n"
      ]
     },
     "metadata": {},
     "output_type": "display_data"
    }
   ],
   "source": [
    "with db as session:\n",
    "    statement = sql.select(models.Molecule)\n",
    "    molecules = session.exec(statement).all()\n",
    "\n",
    "    rich.print(molecules)"
   ]
  },
  {
   "cell_type": "markdown",
   "id": "0eb3c90e",
   "metadata": {},
   "source": [
    "Great! We have successfully created a row and queried it from the database. For the sake of completeness, lets explore how we can `update` and `delete` rows from the database.\n",
    "\n",
    "### Updating a row\n",
    "\n",
    "Updating a row is done by first selecting the row you want to update and then changing the attributes you want to update. After that, you simply add the updated row to the session and it will be automatically commited to the database.\n",
    "\n",
    "### Deleting a row\n",
    "\n",
    "Deleting a row is done by first selecting the row you want to delete and then deleting it from the session."
   ]
  },
  {
   "cell_type": "code",
   "execution_count": 5,
   "id": "8ef4d749",
   "metadata": {},
   "outputs": [
    {
     "data": {
      "text/html": [
       "<pre style=\"white-space:pre;overflow-x:auto;line-height:normal;font-family:Menlo,'DejaVu Sans Mono',consolas,'Courier New',monospace\"><span style=\"color: #800080; text-decoration-color: #800080; font-weight: bold\">Molecule</span><span style=\"font-weight: bold\">(</span><span style=\"color: #808000; text-decoration-color: #808000\">id</span>=<span style=\"color: #008000; text-decoration-color: #008000\">'123'</span>, <span style=\"color: #808000; text-decoration-color: #808000\">formula</span>=<span style=\"color: #800080; text-decoration-color: #800080; font-style: italic\">None</span>, <span style=\"color: #808000; text-decoration-color: #808000\">name</span>=<span style=\"color: #008000; text-decoration-color: #008000\">'Methanol (Updated)'</span><span style=\"font-weight: bold\">)</span>\n",
       "</pre>\n"
      ],
      "text/plain": [
       "\u001b[1;35mMolecule\u001b[0m\u001b[1m(\u001b[0m\u001b[33mid\u001b[0m=\u001b[32m'123'\u001b[0m, \u001b[33mformula\u001b[0m=\u001b[3;35mNone\u001b[0m, \u001b[33mname\u001b[0m=\u001b[32m'Methanol \u001b[0m\u001b[32m(\u001b[0m\u001b[32mUpdated\u001b[0m\u001b[32m)\u001b[0m\u001b[32m'\u001b[0m\u001b[1m)\u001b[0m\n"
      ]
     },
     "metadata": {},
     "output_type": "display_data"
    }
   ],
   "source": [
    "# Updating a row\n",
    "with db as session:\n",
    "    statement = sql.select(models.Molecule).where(models.Molecule.id == \"123\")\n",
    "    molecule = session.exec(statement).first()\n",
    "\n",
    "    molecule.name = \"Methanol (Updated)\"\n",
    "    session.add(molecule)\n",
    "\n",
    "    session.commit() # You can also commit manually\n",
    "    session.reset() # Resets the session to its initial state\n",
    "\n",
    "    # Verify the update\n",
    "    statement = sql.select(models.Molecule).where(models.Molecule.id == \"123\")\n",
    "    molecule = session.exec(statement).first()\n",
    "\n",
    "    rich.print(molecule) # Should now print the updated molecule"
   ]
  },
  {
   "cell_type": "code",
   "execution_count": 6,
   "id": "e711bb24",
   "metadata": {},
   "outputs": [
    {
     "data": {
      "text/html": [
       "<pre style=\"white-space:pre;overflow-x:auto;line-height:normal;font-family:Menlo,'DejaVu Sans Mono',consolas,'Courier New',monospace\"><span style=\"color: #800080; text-decoration-color: #800080; font-style: italic\">None</span>\n",
       "</pre>\n"
      ],
      "text/plain": [
       "\u001b[3;35mNone\u001b[0m\n"
      ]
     },
     "metadata": {},
     "output_type": "display_data"
    }
   ],
   "source": [
    "# Deleting a row\n",
    "with db as session:\n",
    "    statement = sql.select(models.Molecule).where(models.Molecule.id == \"123\")\n",
    "    molecule = session.exec(statement).first()\n",
    "\n",
    "    session.delete(molecule)\n",
    "    session.commit()\n",
    "    session.reset()\n",
    "\n",
    "    # Verify the deletion\n",
    "    statement = sql.select(models.Molecule).where(models.Molecule.id == \"123\")\n",
    "    molecule = session.exec(statement).first()\n",
    "\n",
    "    rich.print(molecule) # Should now print None"
   ]
  },
  {
   "cell_type": "markdown",
   "id": "25b1e01b",
   "metadata": {},
   "source": [
    "## Inserting nested objects\n",
    "\n",
    "Okay, so we have seen how to create, update and delete rows from the database. But what if we have nested objects? Typically, when using mdmodels, you will have nested objects. Remember, we want to bridge the format and database word and in the former, we usually deal with nested objects.\n",
    "\n",
    "Adding nested objects is a complicated process, especially when you want to insert multiples of them. Data Races, where one row might be inserted before another, are a common problem. To solve this, we have the `insert_nested` function that takes care of this for you.\n",
    "\n",
    "### How it works\n",
    "\n",
    "The `insert_nested` function recursively and asynchronously adds the rows to the __session__. If it encounters an object which is already in the session, it will simply re-use it. This way we can ensure that our database is non-redundant and that we don't have any data races.\n",
    "\n",
    "Lets see how this works in practice!"
   ]
  },
  {
   "cell_type": "code",
   "execution_count": 7,
   "id": "5226c50a",
   "metadata": {},
   "outputs": [],
   "source": [
    "# First, we load a couple of objects from a JSON file\n",
    "# Feel free to inspect the file to see what it contains - pretty nested!\n",
    "with open(\"projects.json\", \"r\") as f:\n",
    "    datasets = [dm.ChemicalProject(**dataset) for dataset in json.load(f)]"
   ]
  },
  {
   "cell_type": "code",
   "execution_count": 8,
   "id": "20a80b7e",
   "metadata": {},
   "outputs": [
    {
     "data": {
      "text/html": [
       "<pre style=\"white-space:pre;overflow-x:auto;line-height:normal;font-family:Menlo,'DejaVu Sans Mono',consolas,'Courier New',monospace\"><span style=\"font-weight: bold\">[</span>\n",
       "    <span style=\"color: #800080; text-decoration-color: #800080; font-weight: bold\">ChemicalProject</span><span style=\"font-weight: bold\">(</span><span style=\"color: #808000; text-decoration-color: #808000\">title</span>=<span style=\"color: #008000; text-decoration-color: #008000\">'Green Energy Catalysis'</span><span style=\"font-weight: bold\">)</span>,\n",
       "    <span style=\"color: #800080; text-decoration-color: #800080; font-weight: bold\">ChemicalProject</span><span style=\"font-weight: bold\">(</span><span style=\"color: #808000; text-decoration-color: #808000\">title</span>=<span style=\"color: #008000; text-decoration-color: #008000\">'Ethanol Studies'</span><span style=\"font-weight: bold\">)</span>,\n",
       "    <span style=\"color: #800080; text-decoration-color: #800080; font-weight: bold\">ChemicalProject</span><span style=\"font-weight: bold\">(</span><span style=\"color: #808000; text-decoration-color: #808000\">title</span>=<span style=\"color: #008000; text-decoration-color: #008000\">'Hydrogen Research'</span><span style=\"font-weight: bold\">)</span>\n",
       "<span style=\"font-weight: bold\">]</span>\n",
       "</pre>\n"
      ],
      "text/plain": [
       "\u001b[1m[\u001b[0m\n",
       "    \u001b[1;35mChemicalProject\u001b[0m\u001b[1m(\u001b[0m\u001b[33mtitle\u001b[0m=\u001b[32m'Green Energy Catalysis'\u001b[0m\u001b[1m)\u001b[0m,\n",
       "    \u001b[1;35mChemicalProject\u001b[0m\u001b[1m(\u001b[0m\u001b[33mtitle\u001b[0m=\u001b[32m'Ethanol Studies'\u001b[0m\u001b[1m)\u001b[0m,\n",
       "    \u001b[1;35mChemicalProject\u001b[0m\u001b[1m(\u001b[0m\u001b[33mtitle\u001b[0m=\u001b[32m'Hydrogen Research'\u001b[0m\u001b[1m)\u001b[0m\n",
       "\u001b[1m]\u001b[0m\n"
      ]
     },
     "metadata": {},
     "output_type": "display_data"
    }
   ],
   "source": [
    "# Same stuff as before, we start a session\n",
    "with db as session:\n",
    "    # Next, we use the `insert_nested` function to add the rows to the session\n",
    "    to_add = sql.insert_nested(datasets, dm, session, models)\n",
    "\n",
    "    # Finally, we add the rows to the session\n",
    "    session.add_all(to_add)\n",
    "    session.commit()\n",
    "\n",
    "    # Now we can verify that the rows were added correctly\n",
    "    statement = sql.select(models.ChemicalProject)\n",
    "    projects = session.exec(statement).all()\n",
    "\n",
    "    rich.print(projects)"
   ]
  },
  {
   "cell_type": "markdown",
   "id": "653478e8",
   "metadata": {},
   "source": [
    "## Restoring nested objects\n",
    "\n",
    "Adding nested objects is one thing, but what if we want to restore them from the database? This is also possible with mdmodels!\n",
    "\n",
    "Typically, when you query a row from the database, the nested objects are not restored. This is called a \"lazy load\". If you want to restore the nested objects, you can do so by using the `to_dict` function. This function will recursively restore the nested objects from the database.\n",
    "\n",
    "_Why into a dictionary?_ Well, we dont want to impose the `DataModel` class to you, since you might want to do other things with it and a dictionary is more flexible in terms of types. If you prefer to use the `DataModel`, we will explore how to do this very easily in the next example.\n"
   ]
  },
  {
   "cell_type": "code",
   "execution_count": 9,
   "id": "2f2134ac8a7025fd",
   "metadata": {
    "ExecuteTime": {
     "end_time": "2024-12-04T00:18:58.494738Z",
     "start_time": "2024-12-04T00:18:58.490374Z"
    }
   },
   "outputs": [
    {
     "data": {
      "text/html": [
       "<pre style=\"white-space:pre;overflow-x:auto;line-height:normal;font-family:Menlo,'DejaVu Sans Mono',consolas,'Courier New',monospace\"><span style=\"color: #800080; text-decoration-color: #800080; font-weight: bold\">ChemicalProject</span><span style=\"font-weight: bold\">(</span>\n",
       "    <span style=\"color: #808000; text-decoration-color: #808000\">title</span>=<span style=\"color: #008000; text-decoration-color: #008000\">'Green Energy Catalysis'</span>,\n",
       "    <span style=\"color: #808000; text-decoration-color: #808000\">authors</span>=<span style=\"font-weight: bold\">[</span><span style=\"color: #800080; text-decoration-color: #800080; font-weight: bold\">Author</span><span style=\"font-weight: bold\">(</span><span style=\"color: #808000; text-decoration-color: #808000\">orcid</span>=<span style=\"color: #008000; text-decoration-color: #008000\">'0000-0001-2345-6789'</span>, <span style=\"color: #808000; text-decoration-color: #808000\">name</span>=<span style=\"color: #008000; text-decoration-color: #008000\">'Dr. Alice Green'</span><span style=\"font-weight: bold\">)]</span>,\n",
       "    <span style=\"color: #808000; text-decoration-color: #808000\">molecules</span>=<span style=\"font-weight: bold\">[</span>\n",
       "        <span style=\"color: #800080; text-decoration-color: #800080; font-weight: bold\">Molecule</span><span style=\"font-weight: bold\">(</span><span style=\"color: #808000; text-decoration-color: #808000\">id</span>=<span style=\"color: #008000; text-decoration-color: #008000\">'M001'</span>, <span style=\"color: #808000; text-decoration-color: #808000\">name</span>=<span style=\"color: #008000; text-decoration-color: #008000\">'Water'</span>, <span style=\"color: #808000; text-decoration-color: #808000\">formula</span>=<span style=\"color: #008000; text-decoration-color: #008000\">'H2O'</span><span style=\"font-weight: bold\">)</span>,\n",
       "        <span style=\"color: #800080; text-decoration-color: #800080; font-weight: bold\">Molecule</span><span style=\"font-weight: bold\">(</span><span style=\"color: #808000; text-decoration-color: #808000\">id</span>=<span style=\"color: #008000; text-decoration-color: #008000\">'M003'</span>, <span style=\"color: #808000; text-decoration-color: #808000\">name</span>=<span style=\"color: #008000; text-decoration-color: #008000\">'Oxygen'</span>, <span style=\"color: #808000; text-decoration-color: #808000\">formula</span>=<span style=\"color: #008000; text-decoration-color: #008000\">'O2'</span><span style=\"font-weight: bold\">)</span>\n",
       "    <span style=\"font-weight: bold\">]</span>,\n",
       "    <span style=\"color: #808000; text-decoration-color: #808000\">reactions</span>=<span style=\"font-weight: bold\">[</span>\n",
       "        <span style=\"color: #800080; text-decoration-color: #800080; font-weight: bold\">Reaction</span><span style=\"font-weight: bold\">(</span>\n",
       "            <span style=\"color: #808000; text-decoration-color: #808000\">id</span>=<span style=\"color: #008000; text-decoration-color: #008000\">'R002'</span>,\n",
       "            <span style=\"color: #808000; text-decoration-color: #808000\">name</span>=<span style=\"color: #008000; text-decoration-color: #008000\">'Water Formation'</span>,\n",
       "            <span style=\"color: #808000; text-decoration-color: #808000\">educts</span>=<span style=\"font-weight: bold\">[</span><span style=\"color: #800080; text-decoration-color: #800080; font-weight: bold\">Element</span><span style=\"font-weight: bold\">(</span><span style=\"color: #808000; text-decoration-color: #808000\">molecule_id</span>=<span style=\"color: #008000; text-decoration-color: #008000\">'M003'</span>, <span style=\"color: #808000; text-decoration-color: #808000\">stoichiometry</span>=<span style=\"color: #008080; text-decoration-color: #008080; font-weight: bold\">2.0</span><span style=\"font-weight: bold\">)]</span>,\n",
       "            <span style=\"color: #808000; text-decoration-color: #808000\">products</span>=<span style=\"font-weight: bold\">[</span><span style=\"color: #800080; text-decoration-color: #800080; font-weight: bold\">Element</span><span style=\"font-weight: bold\">(</span><span style=\"color: #808000; text-decoration-color: #808000\">molecule_id</span>=<span style=\"color: #008000; text-decoration-color: #008000\">'M001'</span>, <span style=\"color: #808000; text-decoration-color: #808000\">stoichiometry</span>=<span style=\"color: #008080; text-decoration-color: #008080; font-weight: bold\">2.0</span><span style=\"font-weight: bold\">)]</span>\n",
       "        <span style=\"font-weight: bold\">)</span>\n",
       "    <span style=\"font-weight: bold\">]</span>,\n",
       "    <span style=\"color: #808000; text-decoration-color: #808000\">experiments</span>=<span style=\"font-weight: bold\">[</span>\n",
       "        <span style=\"color: #800080; text-decoration-color: #800080; font-weight: bold\">Experiment</span><span style=\"font-weight: bold\">(</span>\n",
       "            <span style=\"color: #808000; text-decoration-color: #808000\">id</span>=<span style=\"color: #008000; text-decoration-color: #008000\">'E002'</span>,\n",
       "            <span style=\"color: #808000; text-decoration-color: #808000\">initial_concentrations</span>=<span style=\"font-weight: bold\">[</span><span style=\"color: #800080; text-decoration-color: #800080; font-weight: bold\">Concentration</span><span style=\"font-weight: bold\">(</span><span style=\"color: #808000; text-decoration-color: #808000\">molecule_id</span>=<span style=\"color: #008000; text-decoration-color: #008000\">'M003'</span>, <span style=\"color: #808000; text-decoration-color: #808000\">value</span>=<span style=\"color: #008080; text-decoration-color: #008080; font-weight: bold\">1.5</span>, <span style=\"color: #808000; text-decoration-color: #808000\">unit</span>=<span style=\"color: #008000; text-decoration-color: #008000\">'mol/L'</span><span style=\"font-weight: bold\">)]</span>\n",
       "        <span style=\"font-weight: bold\">)</span>\n",
       "    <span style=\"font-weight: bold\">]</span>,\n",
       "    <span style=\"color: #808000; text-decoration-color: #808000\">kinetic_models</span>=<span style=\"font-weight: bold\">[</span><span style=\"color: #800080; text-decoration-color: #800080; font-weight: bold\">KineticModel</span><span style=\"font-weight: bold\">(</span><span style=\"color: #808000; text-decoration-color: #808000\">molecule_id</span>=<span style=\"color: #008000; text-decoration-color: #008000\">'M003'</span>, <span style=\"color: #808000; text-decoration-color: #808000\">equation</span>=<span style=\"color: #008000; text-decoration-color: #008000\">'rate = k * [O2]^2'</span><span style=\"font-weight: bold\">)]</span>\n",
       "<span style=\"font-weight: bold\">)</span>\n",
       "</pre>\n"
      ],
      "text/plain": [
       "\u001b[1;35mChemicalProject\u001b[0m\u001b[1m(\u001b[0m\n",
       "    \u001b[33mtitle\u001b[0m=\u001b[32m'Green Energy Catalysis'\u001b[0m,\n",
       "    \u001b[33mauthors\u001b[0m=\u001b[1m[\u001b[0m\u001b[1;35mAuthor\u001b[0m\u001b[1m(\u001b[0m\u001b[33morcid\u001b[0m=\u001b[32m'0000-0001-2345-6789'\u001b[0m, \u001b[33mname\u001b[0m=\u001b[32m'Dr. Alice Green'\u001b[0m\u001b[1m)\u001b[0m\u001b[1m]\u001b[0m,\n",
       "    \u001b[33mmolecules\u001b[0m=\u001b[1m[\u001b[0m\n",
       "        \u001b[1;35mMolecule\u001b[0m\u001b[1m(\u001b[0m\u001b[33mid\u001b[0m=\u001b[32m'M001'\u001b[0m, \u001b[33mname\u001b[0m=\u001b[32m'Water'\u001b[0m, \u001b[33mformula\u001b[0m=\u001b[32m'H2O'\u001b[0m\u001b[1m)\u001b[0m,\n",
       "        \u001b[1;35mMolecule\u001b[0m\u001b[1m(\u001b[0m\u001b[33mid\u001b[0m=\u001b[32m'M003'\u001b[0m, \u001b[33mname\u001b[0m=\u001b[32m'Oxygen'\u001b[0m, \u001b[33mformula\u001b[0m=\u001b[32m'O2'\u001b[0m\u001b[1m)\u001b[0m\n",
       "    \u001b[1m]\u001b[0m,\n",
       "    \u001b[33mreactions\u001b[0m=\u001b[1m[\u001b[0m\n",
       "        \u001b[1;35mReaction\u001b[0m\u001b[1m(\u001b[0m\n",
       "            \u001b[33mid\u001b[0m=\u001b[32m'R002'\u001b[0m,\n",
       "            \u001b[33mname\u001b[0m=\u001b[32m'Water Formation'\u001b[0m,\n",
       "            \u001b[33meducts\u001b[0m=\u001b[1m[\u001b[0m\u001b[1;35mElement\u001b[0m\u001b[1m(\u001b[0m\u001b[33mmolecule_id\u001b[0m=\u001b[32m'M003'\u001b[0m, \u001b[33mstoichiometry\u001b[0m=\u001b[1;36m2\u001b[0m\u001b[1;36m.0\u001b[0m\u001b[1m)\u001b[0m\u001b[1m]\u001b[0m,\n",
       "            \u001b[33mproducts\u001b[0m=\u001b[1m[\u001b[0m\u001b[1;35mElement\u001b[0m\u001b[1m(\u001b[0m\u001b[33mmolecule_id\u001b[0m=\u001b[32m'M001'\u001b[0m, \u001b[33mstoichiometry\u001b[0m=\u001b[1;36m2\u001b[0m\u001b[1;36m.0\u001b[0m\u001b[1m)\u001b[0m\u001b[1m]\u001b[0m\n",
       "        \u001b[1m)\u001b[0m\n",
       "    \u001b[1m]\u001b[0m,\n",
       "    \u001b[33mexperiments\u001b[0m=\u001b[1m[\u001b[0m\n",
       "        \u001b[1;35mExperiment\u001b[0m\u001b[1m(\u001b[0m\n",
       "            \u001b[33mid\u001b[0m=\u001b[32m'E002'\u001b[0m,\n",
       "            \u001b[33minitial_concentrations\u001b[0m=\u001b[1m[\u001b[0m\u001b[1;35mConcentration\u001b[0m\u001b[1m(\u001b[0m\u001b[33mmolecule_id\u001b[0m=\u001b[32m'M003'\u001b[0m, \u001b[33mvalue\u001b[0m=\u001b[1;36m1\u001b[0m\u001b[1;36m.5\u001b[0m, \u001b[33munit\u001b[0m=\u001b[32m'mol/L'\u001b[0m\u001b[1m)\u001b[0m\u001b[1m]\u001b[0m\n",
       "        \u001b[1m)\u001b[0m\n",
       "    \u001b[1m]\u001b[0m,\n",
       "    \u001b[33mkinetic_models\u001b[0m=\u001b[1m[\u001b[0m\u001b[1;35mKineticModel\u001b[0m\u001b[1m(\u001b[0m\u001b[33mmolecule_id\u001b[0m=\u001b[32m'M003'\u001b[0m, \u001b[33mequation\u001b[0m=\u001b[32m'rate = k * \u001b[0m\u001b[32m[\u001b[0m\u001b[32mO2\u001b[0m\u001b[32m]\u001b[0m\u001b[32m^2'\u001b[0m\u001b[1m)\u001b[0m\u001b[1m]\u001b[0m\n",
       "\u001b[1m)\u001b[0m\n"
      ]
     },
     "metadata": {},
     "output_type": "display_data"
    }
   ],
   "source": [
    "with db as session:\n",
    "    statement = sql.select(models.ChemicalProject)\n",
    "    project = session.exec(statement).first()\n",
    "\n",
    "    # Lets get the dictionary representation of the project\n",
    "    project_dict = project.to_dict()\n",
    "\n",
    "    # ... and restore it using the DataModel class\n",
    "    project = dm.ChemicalProject(**project_dict)\n",
    "\n",
    "    rich.print(project)"
   ]
  },
  {
   "cell_type": "markdown",
   "id": "640365d0",
   "metadata": {},
   "source": [
    "## Advanced queries\n",
    "\n",
    "Cool, we have seen how to create, update, delete and restore rows from the database. We have mostly obeyed the strict hierarchy of our mode, but as you might recall looking into [`model.md`](model.md), you may have noticed the following:\n",
    "\n",
    "```markdown\n",
    "### Concentration\n",
    "\n",
    "- molecule_id\n",
    "    - Type: string\n",
    "    - References: ChemicalProject.molecules.id\n",
    "```\n",
    "\n",
    "This is a many-to-one relationship, meaning that a `Molecule` can have multiple `Concentration`s, but a `Concentration` can only have one `Molecule`. These cross-references are automatically generated for you when you use the `generate_sqlmodel` function.\n",
    "\n",
    "What if we want to find all projects where molecule `Ethanol` appears as an educt? We can do this by using the `select` function and the `join` method.\n",
    "\n",
    "### What is `join`?\n",
    "\n",
    "The `join` method is used to join two tables together. In this case, we want to join the `ChemicalProject` table with the `Concentration` table on the `molecule_id` column. This is exactly what the `join` method does!\n",
    "\n",
    "Lets see how this works in practice!\n"
   ]
  },
  {
   "cell_type": "code",
   "execution_count": 10,
   "id": "3b18de3f",
   "metadata": {},
   "outputs": [
    {
     "data": {
      "text/html": [
       "<pre style=\"white-space:pre;overflow-x:auto;line-height:normal;font-family:Menlo,'DejaVu Sans Mono',consolas,'Courier New',monospace\"><span style=\"color: #008080; text-decoration-color: #008080; font-weight: bold\">Ethanol</span> <span style=\"font-weight: bold\">(</span>M002<span style=\"font-weight: bold\">)</span> is educt in <span style=\"color: #008000; text-decoration-color: #008000; font-weight: bold\">Ethanol Studies</span>\n",
       "</pre>\n"
      ],
      "text/plain": [
       "\u001b[1;36mEthanol\u001b[0m \u001b[1m(\u001b[0mM002\u001b[1m)\u001b[0m is educt in \u001b[1;32mEthanol Studies\u001b[0m\n"
      ]
     },
     "metadata": {},
     "output_type": "display_data"
    }
   ],
   "source": [
    "with db as session:\n",
    "    # JOIN the tables on the molecule_id column\n",
    "    statement = (\n",
    "        sql.select(models.ChemicalProject, models.Molecule)\n",
    "           .join(models.Reaction, models.ChemicalProject.reactions)\n",
    "           .join(models.Element, models.Reaction.educts)\n",
    "           .join(models.Molecule, models.Element.molecule_id == models.Molecule.id)\n",
    "           .where(models.Molecule.name.like(\"%Ethanol%\"))\n",
    "    )   \n",
    "\n",
    "    rows = session.exec(statement).all()\n",
    "    \n",
    "    for project, molecule in rows:\n",
    "        rich.print(\n",
    "            f\"[bold cyan]{molecule.name}[/bold cyan] ({molecule.id}) is educt \"\n",
    "            f\"in [bold green]{project.title}[/bold green]\"\n",
    "        )\n"
   ]
  },
  {
   "cell_type": "markdown",
   "id": "10e2a1b2",
   "metadata": {},
   "source": [
    "## Conclusion\n",
    "\n",
    "In this example, we have seen how to create, update, delete and restore rows and nested objects from the database. We have also seen how to use the `join` method to perform advanced queries. This should give you a good starting point for working with mdmodels and SQL databases."
   ]
  }
 ],
 "metadata": {
  "kernelspec": {
   "display_name": "mdmodels",
   "language": "python",
   "name": "python3"
  },
  "language_info": {
   "codemirror_mode": {
    "name": "ipython",
    "version": 3
   },
   "file_extension": ".py",
   "mimetype": "text/x-python",
   "name": "python",
   "nbconvert_exporter": "python",
   "pygments_lexer": "ipython3",
   "version": "3.11.10"
  }
 },
 "nbformat": 4,
 "nbformat_minor": 5
}
