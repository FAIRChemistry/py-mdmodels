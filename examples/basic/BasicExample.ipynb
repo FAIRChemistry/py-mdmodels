{
 "cells": [
  {
   "cell_type": "markdown",
   "id": "a02d62b5",
   "metadata": {},
   "source": [
    "# Basic Example\n",
    "\n",
    "This example demonstrates key concepts of the mdmodels library:\n",
    "\n",
    "- Loading and parsing data model definitions from markdown files\n",
    "- Creating and working with model objects (ChemicalProject, Molecules, etc.)\n",
    "- Validating data and references between objects\n",
    "- Serializing data to different formats (JSON, XML)\n",
    "\n",
    "We'll cover:\n",
    "1. Loading a chemical project data model\n",
    "2. Creating model instances and populating with data\n",
    "3. Working with nested objects and collections\n",
    "4. Data validation and reference checking\n",
    "5. Converting objects to JSON and XML formats\n"
   ]
  },
  {
   "cell_type": "code",
   "execution_count": 1,
   "id": "initial_id",
   "metadata": {
    "ExecuteTime": {
     "end_time": "2024-12-04T20:02:31.654696Z",
     "start_time": "2024-12-04T20:02:31.311307Z"
    },
    "collapsed": true
   },
   "outputs": [],
   "source": [
    "import rich\n",
    "import mdmodels\n",
    "\n",
    "mdmodels.patch_nest_asyncio()\n",
    "\n",
    "from mdmodels import DataModel"
   ]
  },
  {
   "cell_type": "markdown",
   "id": "f598eeac",
   "metadata": {},
   "source": [
    "### Parsing the markdown file\n",
    "\n",
    "The `DataModel.from_markdown` method parses the markdown file and returns a `Library` object. The `Library` object contains the objects defined in the markdown file and can be used to create a `ChemicalProject`. The classes in the `Library` object are not yet instantiated. You can use these classes to create new objects that are populated with data."
   ]
  },
  {
   "cell_type": "code",
   "execution_count": 2,
   "id": "d4c105ca6926ea4e",
   "metadata": {
    "ExecuteTime": {
     "end_time": "2024-12-04T20:02:31.977605Z",
     "start_time": "2024-12-04T20:02:31.657535Z"
    }
   },
   "outputs": [
    {
     "data": {
      "text/html": [
       "<pre style=\"white-space:pre;overflow-x:auto;line-height:normal;font-family:Menlo,'DejaVu Sans Mono',consolas,'Courier New',monospace\">Molecule\n",
       "Reaction\n",
       "Concentration\n",
       "Experiment\n",
       "ChemicalProject\n",
       "Element\n",
       "</pre>\n"
      ],
      "text/plain": [
       "Molecule\n",
       "Reaction\n",
       "Concentration\n",
       "Experiment\n",
       "ChemicalProject\n",
       "Element\n"
      ]
     },
     "metadata": {},
     "output_type": "display_data"
    },
    {
     "data": {
      "text/html": [
       "<pre style=\"white-space:pre;overflow-x:auto;line-height:normal;font-family:Menlo,'DejaVu Sans Mono',consolas,'Courier New',monospace\"><span style=\"color: #800080; text-decoration-color: #800080; font-weight: bold\">                    ChemicalProject                    </span>\n",
       "┏━━━━━━━━━━━━━┳━━━━━━━━━━━━━━━━━━┳━━━━━━━━━━━━━━━━━━━━┓\n",
       "┃<span style=\"font-weight: bold\"> Field       </span>┃<span style=\"font-weight: bold\"> Type             </span>┃<span style=\"font-weight: bold\"> Adder              </span>┃\n",
       "┡━━━━━━━━━━━━━╇━━━━━━━━━━━━━━━━━━╇━━━━━━━━━━━━━━━━━━━━┩\n",
       "│<span style=\"color: #008080; text-decoration-color: #008080\"> title       </span>│<span style=\"color: #800080; text-decoration-color: #800080\"> str              </span>│<span style=\"color: #008000; text-decoration-color: #008000\">                    </span>│\n",
       "│<span style=\"color: #008080; text-decoration-color: #008080\"> molecules   </span>│<span style=\"color: #800080; text-decoration-color: #800080\"> list[Molecule]   </span>│<span style=\"color: #008000; text-decoration-color: #008000\"> add_to_molecules   </span>│\n",
       "│<span style=\"color: #008080; text-decoration-color: #008080\"> reactions   </span>│<span style=\"color: #800080; text-decoration-color: #800080\"> list[Reaction]   </span>│<span style=\"color: #008000; text-decoration-color: #008000\"> add_to_reactions   </span>│\n",
       "│<span style=\"color: #008080; text-decoration-color: #008080\"> experiments </span>│<span style=\"color: #800080; text-decoration-color: #800080\"> list[Experiment] </span>│<span style=\"color: #008000; text-decoration-color: #008000\"> add_to_experiments </span>│\n",
       "└─────────────┴──────────────────┴────────────────────┘\n",
       "</pre>\n"
      ],
      "text/plain": [
       "\u001b[1;35m                    ChemicalProject                    \u001b[0m\n",
       "┏━━━━━━━━━━━━━┳━━━━━━━━━━━━━━━━━━┳━━━━━━━━━━━━━━━━━━━━┓\n",
       "┃\u001b[1m \u001b[0m\u001b[1mField      \u001b[0m\u001b[1m \u001b[0m┃\u001b[1m \u001b[0m\u001b[1mType            \u001b[0m\u001b[1m \u001b[0m┃\u001b[1m \u001b[0m\u001b[1mAdder             \u001b[0m\u001b[1m \u001b[0m┃\n",
       "┡━━━━━━━━━━━━━╇━━━━━━━━━━━━━━━━━━╇━━━━━━━━━━━━━━━━━━━━┩\n",
       "│\u001b[36m \u001b[0m\u001b[36mtitle      \u001b[0m\u001b[36m \u001b[0m│\u001b[35m \u001b[0m\u001b[35mstr             \u001b[0m\u001b[35m \u001b[0m│\u001b[32m \u001b[0m\u001b[32m                  \u001b[0m\u001b[32m \u001b[0m│\n",
       "│\u001b[36m \u001b[0m\u001b[36mmolecules  \u001b[0m\u001b[36m \u001b[0m│\u001b[35m \u001b[0m\u001b[35mlist[Molecule]  \u001b[0m\u001b[35m \u001b[0m│\u001b[32m \u001b[0m\u001b[32madd_to_molecules  \u001b[0m\u001b[32m \u001b[0m│\n",
       "│\u001b[36m \u001b[0m\u001b[36mreactions  \u001b[0m\u001b[36m \u001b[0m│\u001b[35m \u001b[0m\u001b[35mlist[Reaction]  \u001b[0m\u001b[35m \u001b[0m│\u001b[32m \u001b[0m\u001b[32madd_to_reactions  \u001b[0m\u001b[32m \u001b[0m│\n",
       "│\u001b[36m \u001b[0m\u001b[36mexperiments\u001b[0m\u001b[36m \u001b[0m│\u001b[35m \u001b[0m\u001b[35mlist[Experiment]\u001b[0m\u001b[35m \u001b[0m│\u001b[32m \u001b[0m\u001b[32madd_to_experiments\u001b[0m\u001b[32m \u001b[0m│\n",
       "└─────────────┴──────────────────┴────────────────────┘\n"
      ]
     },
     "metadata": {},
     "output_type": "display_data"
    }
   ],
   "source": [
    "dm = DataModel.from_markdown(\"model.md\")\n",
    "\n",
    "# Unsure which objects are available? Print the library.\n",
    "rich.print(dm)\n",
    "\n",
    "# Optionally, you can use the `info` method to get a list of all available objects and attributes.\n",
    "# We will omit this for now, as it will print a lot of information.\n",
    "# dm.info()\n",
    "\n",
    "# Unsure which attributes are available for a given object? Use the `info` method.\n",
    "dm.ChemicalProject.info()\n"
   ]
  },
  {
   "cell_type": "markdown",
   "id": "cbfdd4d6",
   "metadata": {},
   "source": [
    "### Creating objects\n",
    "\n",
    "The goal of the mdmodels library is to generate a so called object-oriented data model from the markdown file. This object-oriented data model can then be used to create and manage complex datasets. What does this mean?\n",
    "\n",
    "- Each object in the data model corresponds to a class in Python.\n",
    "- Each attribute of an object corresponds to a field/property in the class.\n",
    "- Each object can have multiple attributes, which can be used to group related data.\n",
    "- Attributes can be either singular or collections.\n",
    "\n",
    "Let's create a `ChemicalProject` object!"
   ]
  },
  {
   "cell_type": "code",
   "execution_count": 3,
   "id": "37f0d09fafc3edda",
   "metadata": {
    "ExecuteTime": {
     "end_time": "2024-12-04T20:02:32.013035Z",
     "start_time": "2024-12-04T20:02:32.010731Z"
    }
   },
   "outputs": [
    {
     "data": {
      "text/html": [
       "<pre style=\"white-space:pre;overflow-x:auto;line-height:normal;font-family:Menlo,'DejaVu Sans Mono',consolas,'Courier New',monospace\"><span style=\"color: #800080; text-decoration-color: #800080; font-weight: bold\">ChemicalProject</span><span style=\"font-weight: bold\">(</span>\n",
       "    <span style=\"color: #808000; text-decoration-color: #808000\">title</span>=<span style=\"color: #008000; text-decoration-color: #008000\">'My Project'</span>,\n",
       "    <span style=\"color: #808000; text-decoration-color: #808000\">molecules</span>=<span style=\"font-weight: bold\">[</span>\n",
       "        <span style=\"color: #800080; text-decoration-color: #800080; font-weight: bold\">Molecule</span><span style=\"font-weight: bold\">(</span><span style=\"color: #808000; text-decoration-color: #808000\">id</span>=<span style=\"color: #008000; text-decoration-color: #008000\">'mol1'</span>, <span style=\"color: #808000; text-decoration-color: #808000\">name</span>=<span style=\"color: #008000; text-decoration-color: #008000\">'Molecule 1'</span>, <span style=\"color: #808000; text-decoration-color: #808000\">formula</span>=<span style=\"color: #008000; text-decoration-color: #008000\">'CCO'</span><span style=\"font-weight: bold\">)</span>,\n",
       "        <span style=\"color: #800080; text-decoration-color: #800080; font-weight: bold\">Molecule</span><span style=\"font-weight: bold\">(</span><span style=\"color: #808000; text-decoration-color: #808000\">id</span>=<span style=\"color: #008000; text-decoration-color: #008000\">'mol2'</span>, <span style=\"color: #808000; text-decoration-color: #808000\">name</span>=<span style=\"color: #008000; text-decoration-color: #008000\">'Molecule 2'</span>, <span style=\"color: #808000; text-decoration-color: #808000\">formula</span>=<span style=\"color: #008000; text-decoration-color: #008000\">'CCN'</span><span style=\"font-weight: bold\">)</span>\n",
       "    <span style=\"font-weight: bold\">]</span>,\n",
       "    <span style=\"color: #808000; text-decoration-color: #808000\">reactions</span>=<span style=\"font-weight: bold\">[]</span>,\n",
       "    <span style=\"color: #808000; text-decoration-color: #808000\">experiments</span>=<span style=\"font-weight: bold\">[</span>\n",
       "        <span style=\"color: #800080; text-decoration-color: #800080; font-weight: bold\">Experiment</span><span style=\"font-weight: bold\">(</span>\n",
       "            <span style=\"color: #808000; text-decoration-color: #808000\">id</span>=<span style=\"color: #008000; text-decoration-color: #008000\">'exp1'</span>,\n",
       "            <span style=\"color: #808000; text-decoration-color: #808000\">initial_concentrations</span>=<span style=\"font-weight: bold\">[</span>\n",
       "                <span style=\"color: #800080; text-decoration-color: #800080; font-weight: bold\">Concentration</span><span style=\"font-weight: bold\">(</span><span style=\"color: #808000; text-decoration-color: #808000\">molecule_id</span>=<span style=\"color: #008000; text-decoration-color: #008000\">'mol1'</span>, <span style=\"color: #808000; text-decoration-color: #808000\">value</span>=<span style=\"color: #008080; text-decoration-color: #008080; font-weight: bold\">1.0</span>, <span style=\"color: #808000; text-decoration-color: #808000\">unit</span>=<span style=\"color: #008000; text-decoration-color: #008000\">'mmol/L'</span><span style=\"font-weight: bold\">)</span>,\n",
       "                <span style=\"color: #800080; text-decoration-color: #800080; font-weight: bold\">Concentration</span><span style=\"font-weight: bold\">(</span><span style=\"color: #808000; text-decoration-color: #808000\">molecule_id</span>=<span style=\"color: #008000; text-decoration-color: #008000\">'mol2'</span>, <span style=\"color: #808000; text-decoration-color: #808000\">value</span>=<span style=\"color: #008080; text-decoration-color: #008080; font-weight: bold\">2.0</span>, <span style=\"color: #808000; text-decoration-color: #808000\">unit</span>=<span style=\"color: #008000; text-decoration-color: #008000\">'mmol/L'</span><span style=\"font-weight: bold\">)</span>\n",
       "            <span style=\"font-weight: bold\">]</span>\n",
       "        <span style=\"font-weight: bold\">)</span>\n",
       "    <span style=\"font-weight: bold\">]</span>\n",
       "<span style=\"font-weight: bold\">)</span>\n",
       "</pre>\n"
      ],
      "text/plain": [
       "\u001b[1;35mChemicalProject\u001b[0m\u001b[1m(\u001b[0m\n",
       "    \u001b[33mtitle\u001b[0m=\u001b[32m'My Project'\u001b[0m,\n",
       "    \u001b[33mmolecules\u001b[0m=\u001b[1m[\u001b[0m\n",
       "        \u001b[1;35mMolecule\u001b[0m\u001b[1m(\u001b[0m\u001b[33mid\u001b[0m=\u001b[32m'mol1'\u001b[0m, \u001b[33mname\u001b[0m=\u001b[32m'Molecule 1'\u001b[0m, \u001b[33mformula\u001b[0m=\u001b[32m'CCO'\u001b[0m\u001b[1m)\u001b[0m,\n",
       "        \u001b[1;35mMolecule\u001b[0m\u001b[1m(\u001b[0m\u001b[33mid\u001b[0m=\u001b[32m'mol2'\u001b[0m, \u001b[33mname\u001b[0m=\u001b[32m'Molecule 2'\u001b[0m, \u001b[33mformula\u001b[0m=\u001b[32m'CCN'\u001b[0m\u001b[1m)\u001b[0m\n",
       "    \u001b[1m]\u001b[0m,\n",
       "    \u001b[33mreactions\u001b[0m=\u001b[1m[\u001b[0m\u001b[1m]\u001b[0m,\n",
       "    \u001b[33mexperiments\u001b[0m=\u001b[1m[\u001b[0m\n",
       "        \u001b[1;35mExperiment\u001b[0m\u001b[1m(\u001b[0m\n",
       "            \u001b[33mid\u001b[0m=\u001b[32m'exp1'\u001b[0m,\n",
       "            \u001b[33minitial_concentrations\u001b[0m=\u001b[1m[\u001b[0m\n",
       "                \u001b[1;35mConcentration\u001b[0m\u001b[1m(\u001b[0m\u001b[33mmolecule_id\u001b[0m=\u001b[32m'mol1'\u001b[0m, \u001b[33mvalue\u001b[0m=\u001b[1;36m1\u001b[0m\u001b[1;36m.0\u001b[0m, \u001b[33munit\u001b[0m=\u001b[32m'mmol/L'\u001b[0m\u001b[1m)\u001b[0m,\n",
       "                \u001b[1;35mConcentration\u001b[0m\u001b[1m(\u001b[0m\u001b[33mmolecule_id\u001b[0m=\u001b[32m'mol2'\u001b[0m, \u001b[33mvalue\u001b[0m=\u001b[1;36m2\u001b[0m\u001b[1;36m.0\u001b[0m, \u001b[33munit\u001b[0m=\u001b[32m'mmol/L'\u001b[0m\u001b[1m)\u001b[0m\n",
       "            \u001b[1m]\u001b[0m\n",
       "        \u001b[1m)\u001b[0m\n",
       "    \u001b[1m]\u001b[0m\n",
       "\u001b[1m)\u001b[0m\n"
      ]
     },
     "metadata": {},
     "output_type": "display_data"
    }
   ],
   "source": [
    "# This instantiates a `ChemicalProject` object with the title 'My Project'.\n",
    "project = dm.ChemicalProject(title=\"My Project\")\n",
    "\n",
    "# Each attribute of an object, which is a collection, can be added to the object using the `add_to_<attribute>` method.\n",
    "# Here we add two molecules to the `molecules` collection of the `project` object.\n",
    "project.add_to_molecules(id=\"mol1\", name=\"Molecule 1\", formula=\"CCO\")\n",
    "project.add_to_molecules(id=\"mol2\", name=\"Molecule 2\", formula=\"CCN\")\n",
    "\n",
    "# Sometimes we are working with more nested objects and want to build them up step by step.\n",
    "experiment = project.add_to_experiments(id=\"exp1\")\n",
    "experiment.add_to_initial_concentrations(molecule_id=\"mol1\", value=1.0, unit=\"mmol/L\")\n",
    "experiment.add_to_initial_concentrations(molecule_id=\"mol2\", value=2.0, unit=\"mmol/L\")\n",
    "\n",
    "# This is what the project looks like after adding the experiment.\n",
    "rich.print(project)"
   ]
  },
  {
   "cell_type": "markdown",
   "id": "8fef2fc9",
   "metadata": {},
   "source": [
    "### Validation\n",
    "\n",
    "By default, the `DataModel` object validates the objects against the schema defined in the markdown file. This is useful to catch type errors and other issues early on. However, this is limited to very basic checks. For instance, we are not able to check that the molecules used in the experiment are indeed part of the project.\n",
    "\n",
    "To solve this issue, you can use the attribute option `References`, which allows you to specify references to other objects in the library across different objects. Even if the objects are in a very different branch of the object tree, you can still reference them. Here is the `molecule_id` attribute of the `Concentration` object:\n",
    "\n",
    "```markdown\n",
    "- molecule_id\n",
    "    - Type: string\n",
    "    - Description: The identifier of the molecule.\n",
    "    - References: ChemicalProject.molecules.id\n",
    "```\n",
    "\n",
    "In this case, we are telling the `DataModel` object that the `molecule_id` attribute of the `Concentration` object must reference the `id` attribute of the `Molecule` object in the `ChemicalProject` object. Otherwise, the dataset is not valid.\n",
    "\n",
    "In our example, we can use this to check that the molecules used in the experiment are indeed part of the project. This ensures consistency of the dataset and gives us a way to detect errors early on. For the sake of this example, lets introduce an error by adding a molecule that is not part of the project."
   ]
  },
  {
   "cell_type": "code",
   "execution_count": 4,
   "id": "5e94623b",
   "metadata": {},
   "outputs": [
    {
     "data": {
      "text/html": [
       "<pre style=\"white-space:pre;overflow-x:auto;line-height:normal;font-family:Menlo,'DejaVu Sans Mono',consolas,'Courier New',monospace\"><span style=\"color: #008080; text-decoration-color: #008080; font-weight: bold\">2</span> validation errors for ChemicalProject\n",
       "`experiments<span style=\"font-weight: bold\">[</span>*<span style=\"font-weight: bold\">]</span>.initial_concentrations<span style=\"font-weight: bold\">[</span>*<span style=\"font-weight: bold\">]</span>.molecule_id`\n",
       "  <span style=\"color: #008000; text-decoration-color: #008000\">'mol3'</span> does not appear in <span style=\"color: #008000; text-decoration-color: #008000\">'molecules[*].id'</span> - Expected one of <span style=\"color: #008000; text-decoration-color: #008000\">'['</span>mol1', <span style=\"color: #008000; text-decoration-color: #008000\">'mol2'</span><span style=\"font-weight: bold\">]</span><span style=\"color: #008000; text-decoration-color: #008000\">' [type=Invalid Reference, </span>\n",
       "<span style=\"color: #008000; text-decoration-color: #008000\">input_value='</span>mol3', <span style=\"color: #808000; text-decoration-color: #808000\">input_type</span>=<span style=\"color: #800080; text-decoration-color: #800080\">str</span><span style=\"font-weight: bold\">]</span>\n",
       "`experiments<span style=\"font-weight: bold\">[</span>*<span style=\"font-weight: bold\">]</span>.initial_concentrations<span style=\"font-weight: bold\">[</span>*<span style=\"font-weight: bold\">]</span>.molecule_id`\n",
       "  <span style=\"color: #008000; text-decoration-color: #008000\">'mol4'</span> does not appear in <span style=\"color: #008000; text-decoration-color: #008000\">'molecules[*].id'</span> - Expected one of <span style=\"color: #008000; text-decoration-color: #008000\">'['</span>mol1', <span style=\"color: #008000; text-decoration-color: #008000\">'mol2'</span><span style=\"font-weight: bold\">]</span><span style=\"color: #008000; text-decoration-color: #008000\">' [type=Invalid Reference, </span>\n",
       "<span style=\"color: #008000; text-decoration-color: #008000\">input_value='</span>mol4', <span style=\"color: #808000; text-decoration-color: #808000\">input_type</span>=<span style=\"color: #800080; text-decoration-color: #800080\">str</span><span style=\"font-weight: bold\">]</span>\n",
       "</pre>\n"
      ],
      "text/plain": [
       "\u001b[1;36m2\u001b[0m validation errors for ChemicalProject\n",
       "`experiments\u001b[1m[\u001b[0m*\u001b[1m]\u001b[0m.initial_concentrations\u001b[1m[\u001b[0m*\u001b[1m]\u001b[0m.molecule_id`\n",
       "  \u001b[32m'mol3'\u001b[0m does not appear in \u001b[32m'molecules\u001b[0m\u001b[32m[\u001b[0m\u001b[32m*\u001b[0m\u001b[32m]\u001b[0m\u001b[32m.id'\u001b[0m - Expected one of \u001b[32m'\u001b[0m\u001b[32m[\u001b[0m\u001b[32m'\u001b[0mmol1', \u001b[32m'mol2'\u001b[0m\u001b[1m]\u001b[0m\u001b[32m' \u001b[0m\u001b[32m[\u001b[0m\u001b[32mtype\u001b[0m\u001b[32m=\u001b[0m\u001b[32mInvalid\u001b[0m\u001b[32m Reference, \u001b[0m\n",
       "\u001b[32minput_value\u001b[0m\u001b[32m='\u001b[0mmol3', \u001b[33minput_type\u001b[0m=\u001b[35mstr\u001b[0m\u001b[1m]\u001b[0m\n",
       "`experiments\u001b[1m[\u001b[0m*\u001b[1m]\u001b[0m.initial_concentrations\u001b[1m[\u001b[0m*\u001b[1m]\u001b[0m.molecule_id`\n",
       "  \u001b[32m'mol4'\u001b[0m does not appear in \u001b[32m'molecules\u001b[0m\u001b[32m[\u001b[0m\u001b[32m*\u001b[0m\u001b[32m]\u001b[0m\u001b[32m.id'\u001b[0m - Expected one of \u001b[32m'\u001b[0m\u001b[32m[\u001b[0m\u001b[32m'\u001b[0mmol1', \u001b[32m'mol2'\u001b[0m\u001b[1m]\u001b[0m\u001b[32m' \u001b[0m\u001b[32m[\u001b[0m\u001b[32mtype\u001b[0m\u001b[32m=\u001b[0m\u001b[32mInvalid\u001b[0m\u001b[32m Reference, \u001b[0m\n",
       "\u001b[32minput_value\u001b[0m\u001b[32m='\u001b[0mmol4', \u001b[33minput_type\u001b[0m=\u001b[35mstr\u001b[0m\u001b[1m]\u001b[0m\n"
      ]
     },
     "metadata": {},
     "output_type": "display_data"
    }
   ],
   "source": [
    "from pydantic import ValidationError\n",
    "\n",
    "# This molecule does not exist in the project, so the dataset is not valid.\n",
    "experiment.add_to_initial_concentrations(molecule_id=\"mol3\", value=3.0, unit=\"mmol/L\")\n",
    "experiment.add_to_initial_concentrations(molecule_id=\"mol4\", value=4.0, unit=\"mmol/L\")\n",
    "\n",
    "# Lets validate the project again.\n",
    "try:\n",
    "    project.validate()\n",
    "except ValidationError as e:\n",
    "    rich.print(e)\n"
   ]
  },
  {
   "cell_type": "code",
   "execution_count": 5,
   "id": "89f3a7e8",
   "metadata": {},
   "outputs": [],
   "source": [
    "# Lets fix the error by adding the missing molecule to the project.\n",
    "project.add_to_molecules(id=\"mol3\", name=\"Molecule 3\", formula=\"CCC\")\n",
    "project.add_to_molecules(id=\"mol4\", name=\"Molecule 4\", formula=\"CCO\")\n",
    "\n",
    "# Now the dataset is valid again. Should not raise any errors.\n",
    "project.validate()\n"
   ]
  },
  {
   "cell_type": "markdown",
   "id": "8eb0c53b",
   "metadata": {},
   "source": [
    "### Serialization\n",
    "\n",
    "Now that our dataset is validated, it's the perfect time to immortalize it! With just a snap, the `model_dump_json` method transforms your dataset into a sleek JSON string. Want it in XML? No problem! The `xml` method has got you covered."
   ]
  },
  {
   "cell_type": "code",
   "execution_count": 6,
   "id": "e0c000059a1bb530",
   "metadata": {
    "ExecuteTime": {
     "end_time": "2024-12-04T20:02:32.263331Z",
     "start_time": "2024-12-04T20:02:32.259742Z"
    }
   },
   "outputs": [
    {
     "data": {
      "text/html": [
       "<pre style=\"white-space:pre;overflow-x:auto;line-height:normal;font-family:Menlo,'DejaVu Sans Mono',consolas,'Courier New',monospace\"><span style=\"font-weight: bold\">{</span>\n",
       "  <span style=\"color: #008000; text-decoration-color: #008000\">\"title\"</span>: <span style=\"color: #008000; text-decoration-color: #008000\">\"My Project\"</span>,\n",
       "  <span style=\"color: #008000; text-decoration-color: #008000\">\"molecules\"</span>: <span style=\"font-weight: bold\">[</span>\n",
       "    <span style=\"font-weight: bold\">{</span>\n",
       "      <span style=\"color: #008000; text-decoration-color: #008000\">\"id\"</span>: <span style=\"color: #008000; text-decoration-color: #008000\">\"mol1\"</span>,\n",
       "      <span style=\"color: #008000; text-decoration-color: #008000\">\"name\"</span>: <span style=\"color: #008000; text-decoration-color: #008000\">\"Molecule 1\"</span>,\n",
       "      <span style=\"color: #008000; text-decoration-color: #008000\">\"formula\"</span>: <span style=\"color: #008000; text-decoration-color: #008000\">\"CCO\"</span>\n",
       "    <span style=\"font-weight: bold\">}</span>,\n",
       "    <span style=\"font-weight: bold\">{</span>\n",
       "      <span style=\"color: #008000; text-decoration-color: #008000\">\"id\"</span>: <span style=\"color: #008000; text-decoration-color: #008000\">\"mol2\"</span>,\n",
       "      <span style=\"color: #008000; text-decoration-color: #008000\">\"name\"</span>: <span style=\"color: #008000; text-decoration-color: #008000\">\"Molecule 2\"</span>,\n",
       "      <span style=\"color: #008000; text-decoration-color: #008000\">\"formula\"</span>: <span style=\"color: #008000; text-decoration-color: #008000\">\"CCN\"</span>\n",
       "    <span style=\"font-weight: bold\">}</span>,\n",
       "    <span style=\"font-weight: bold\">{</span>\n",
       "      <span style=\"color: #008000; text-decoration-color: #008000\">\"id\"</span>: <span style=\"color: #008000; text-decoration-color: #008000\">\"mol3\"</span>,\n",
       "      <span style=\"color: #008000; text-decoration-color: #008000\">\"name\"</span>: <span style=\"color: #008000; text-decoration-color: #008000\">\"Molecule 3\"</span>,\n",
       "      <span style=\"color: #008000; text-decoration-color: #008000\">\"formula\"</span>: <span style=\"color: #008000; text-decoration-color: #008000\">\"CCC\"</span>\n",
       "    <span style=\"font-weight: bold\">}</span>,\n",
       "    <span style=\"font-weight: bold\">{</span>\n",
       "      <span style=\"color: #008000; text-decoration-color: #008000\">\"id\"</span>: <span style=\"color: #008000; text-decoration-color: #008000\">\"mol4\"</span>,\n",
       "      <span style=\"color: #008000; text-decoration-color: #008000\">\"name\"</span>: <span style=\"color: #008000; text-decoration-color: #008000\">\"Molecule 4\"</span>,\n",
       "      <span style=\"color: #008000; text-decoration-color: #008000\">\"formula\"</span>: <span style=\"color: #008000; text-decoration-color: #008000\">\"CCO\"</span>\n",
       "    <span style=\"font-weight: bold\">}</span>\n",
       "  <span style=\"font-weight: bold\">]</span>,\n",
       "  <span style=\"color: #008000; text-decoration-color: #008000\">\"reactions\"</span>: <span style=\"font-weight: bold\">[]</span>,\n",
       "  <span style=\"color: #008000; text-decoration-color: #008000\">\"experiments\"</span>: <span style=\"font-weight: bold\">[</span>\n",
       "    <span style=\"font-weight: bold\">{</span>\n",
       "      <span style=\"color: #008000; text-decoration-color: #008000\">\"id\"</span>: <span style=\"color: #008000; text-decoration-color: #008000\">\"exp1\"</span>,\n",
       "      <span style=\"color: #008000; text-decoration-color: #008000\">\"initial_concentrations\"</span>: <span style=\"font-weight: bold\">[</span>\n",
       "        <span style=\"font-weight: bold\">{</span>\n",
       "          <span style=\"color: #008000; text-decoration-color: #008000\">\"molecule_id\"</span>: <span style=\"color: #008000; text-decoration-color: #008000\">\"mol1\"</span>,\n",
       "          <span style=\"color: #008000; text-decoration-color: #008000\">\"value\"</span>: <span style=\"color: #008080; text-decoration-color: #008080; font-weight: bold\">1.0</span>,\n",
       "          <span style=\"color: #008000; text-decoration-color: #008000\">\"unit\"</span>: <span style=\"color: #008000; text-decoration-color: #008000\">\"mmol/L\"</span>\n",
       "        <span style=\"font-weight: bold\">}</span>,\n",
       "        <span style=\"font-weight: bold\">{</span>\n",
       "          <span style=\"color: #008000; text-decoration-color: #008000\">\"molecule_id\"</span>: <span style=\"color: #008000; text-decoration-color: #008000\">\"mol2\"</span>,\n",
       "          <span style=\"color: #008000; text-decoration-color: #008000\">\"value\"</span>: <span style=\"color: #008080; text-decoration-color: #008080; font-weight: bold\">2.0</span>,\n",
       "          <span style=\"color: #008000; text-decoration-color: #008000\">\"unit\"</span>: <span style=\"color: #008000; text-decoration-color: #008000\">\"mmol/L\"</span>\n",
       "        <span style=\"font-weight: bold\">}</span>,\n",
       "        <span style=\"font-weight: bold\">{</span>\n",
       "          <span style=\"color: #008000; text-decoration-color: #008000\">\"molecule_id\"</span>: <span style=\"color: #008000; text-decoration-color: #008000\">\"mol3\"</span>,\n",
       "          <span style=\"color: #008000; text-decoration-color: #008000\">\"value\"</span>: <span style=\"color: #008080; text-decoration-color: #008080; font-weight: bold\">3.0</span>,\n",
       "          <span style=\"color: #008000; text-decoration-color: #008000\">\"unit\"</span>: <span style=\"color: #008000; text-decoration-color: #008000\">\"mmol/L\"</span>\n",
       "        <span style=\"font-weight: bold\">}</span>,\n",
       "        <span style=\"font-weight: bold\">{</span>\n",
       "          <span style=\"color: #008000; text-decoration-color: #008000\">\"molecule_id\"</span>: <span style=\"color: #008000; text-decoration-color: #008000\">\"mol4\"</span>,\n",
       "          <span style=\"color: #008000; text-decoration-color: #008000\">\"value\"</span>: <span style=\"color: #008080; text-decoration-color: #008080; font-weight: bold\">4.0</span>,\n",
       "          <span style=\"color: #008000; text-decoration-color: #008000\">\"unit\"</span>: <span style=\"color: #008000; text-decoration-color: #008000\">\"mmol/L\"</span>\n",
       "        <span style=\"font-weight: bold\">}</span>\n",
       "      <span style=\"font-weight: bold\">]</span>\n",
       "    <span style=\"font-weight: bold\">}</span>\n",
       "  <span style=\"font-weight: bold\">]</span>\n",
       "<span style=\"font-weight: bold\">}</span>\n",
       "</pre>\n"
      ],
      "text/plain": [
       "\u001b[1m{\u001b[0m\n",
       "  \u001b[32m\"title\"\u001b[0m: \u001b[32m\"My Project\"\u001b[0m,\n",
       "  \u001b[32m\"molecules\"\u001b[0m: \u001b[1m[\u001b[0m\n",
       "    \u001b[1m{\u001b[0m\n",
       "      \u001b[32m\"id\"\u001b[0m: \u001b[32m\"mol1\"\u001b[0m,\n",
       "      \u001b[32m\"name\"\u001b[0m: \u001b[32m\"Molecule 1\"\u001b[0m,\n",
       "      \u001b[32m\"formula\"\u001b[0m: \u001b[32m\"CCO\"\u001b[0m\n",
       "    \u001b[1m}\u001b[0m,\n",
       "    \u001b[1m{\u001b[0m\n",
       "      \u001b[32m\"id\"\u001b[0m: \u001b[32m\"mol2\"\u001b[0m,\n",
       "      \u001b[32m\"name\"\u001b[0m: \u001b[32m\"Molecule 2\"\u001b[0m,\n",
       "      \u001b[32m\"formula\"\u001b[0m: \u001b[32m\"CCN\"\u001b[0m\n",
       "    \u001b[1m}\u001b[0m,\n",
       "    \u001b[1m{\u001b[0m\n",
       "      \u001b[32m\"id\"\u001b[0m: \u001b[32m\"mol3\"\u001b[0m,\n",
       "      \u001b[32m\"name\"\u001b[0m: \u001b[32m\"Molecule 3\"\u001b[0m,\n",
       "      \u001b[32m\"formula\"\u001b[0m: \u001b[32m\"CCC\"\u001b[0m\n",
       "    \u001b[1m}\u001b[0m,\n",
       "    \u001b[1m{\u001b[0m\n",
       "      \u001b[32m\"id\"\u001b[0m: \u001b[32m\"mol4\"\u001b[0m,\n",
       "      \u001b[32m\"name\"\u001b[0m: \u001b[32m\"Molecule 4\"\u001b[0m,\n",
       "      \u001b[32m\"formula\"\u001b[0m: \u001b[32m\"CCO\"\u001b[0m\n",
       "    \u001b[1m}\u001b[0m\n",
       "  \u001b[1m]\u001b[0m,\n",
       "  \u001b[32m\"reactions\"\u001b[0m: \u001b[1m[\u001b[0m\u001b[1m]\u001b[0m,\n",
       "  \u001b[32m\"experiments\"\u001b[0m: \u001b[1m[\u001b[0m\n",
       "    \u001b[1m{\u001b[0m\n",
       "      \u001b[32m\"id\"\u001b[0m: \u001b[32m\"exp1\"\u001b[0m,\n",
       "      \u001b[32m\"initial_concentrations\"\u001b[0m: \u001b[1m[\u001b[0m\n",
       "        \u001b[1m{\u001b[0m\n",
       "          \u001b[32m\"molecule_id\"\u001b[0m: \u001b[32m\"mol1\"\u001b[0m,\n",
       "          \u001b[32m\"value\"\u001b[0m: \u001b[1;36m1.0\u001b[0m,\n",
       "          \u001b[32m\"unit\"\u001b[0m: \u001b[32m\"mmol/L\"\u001b[0m\n",
       "        \u001b[1m}\u001b[0m,\n",
       "        \u001b[1m{\u001b[0m\n",
       "          \u001b[32m\"molecule_id\"\u001b[0m: \u001b[32m\"mol2\"\u001b[0m,\n",
       "          \u001b[32m\"value\"\u001b[0m: \u001b[1;36m2.0\u001b[0m,\n",
       "          \u001b[32m\"unit\"\u001b[0m: \u001b[32m\"mmol/L\"\u001b[0m\n",
       "        \u001b[1m}\u001b[0m,\n",
       "        \u001b[1m{\u001b[0m\n",
       "          \u001b[32m\"molecule_id\"\u001b[0m: \u001b[32m\"mol3\"\u001b[0m,\n",
       "          \u001b[32m\"value\"\u001b[0m: \u001b[1;36m3.0\u001b[0m,\n",
       "          \u001b[32m\"unit\"\u001b[0m: \u001b[32m\"mmol/L\"\u001b[0m\n",
       "        \u001b[1m}\u001b[0m,\n",
       "        \u001b[1m{\u001b[0m\n",
       "          \u001b[32m\"molecule_id\"\u001b[0m: \u001b[32m\"mol4\"\u001b[0m,\n",
       "          \u001b[32m\"value\"\u001b[0m: \u001b[1;36m4.0\u001b[0m,\n",
       "          \u001b[32m\"unit\"\u001b[0m: \u001b[32m\"mmol/L\"\u001b[0m\n",
       "        \u001b[1m}\u001b[0m\n",
       "      \u001b[1m]\u001b[0m\n",
       "    \u001b[1m}\u001b[0m\n",
       "  \u001b[1m]\u001b[0m\n",
       "\u001b[1m}\u001b[0m\n"
      ]
     },
     "metadata": {},
     "output_type": "display_data"
    },
    {
     "data": {
      "text/html": [
       "<pre style=\"white-space:pre;overflow-x:auto;line-height:normal;font-family:Menlo,'DejaVu Sans Mono',consolas,'Courier New',monospace\"><span style=\"font-weight: bold\">&lt;</span><span style=\"color: #000000; text-decoration-color: #000000\">?xml </span><span style=\"color: #808000; text-decoration-color: #808000\">version</span><span style=\"color: #000000; text-decoration-color: #000000\">=</span><span style=\"color: #008000; text-decoration-color: #008000\">\"1.0\"</span><span style=\"color: #000000; text-decoration-color: #000000\"> ?&gt;</span>\n",
       "<span style=\"color: #000000; text-decoration-color: #000000\">&lt;ChemicalProject&gt;</span>\n",
       "<span style=\"color: #000000; text-decoration-color: #000000\">  &lt;title&gt;My Project&lt;</span><span style=\"color: #800080; text-decoration-color: #800080\">/</span><span style=\"color: #ff00ff; text-decoration-color: #ff00ff\">title</span><span style=\"color: #000000; text-decoration-color: #000000\">&gt;</span>\n",
       "<span style=\"color: #000000; text-decoration-color: #000000\">  &lt;molecules&gt;</span>\n",
       "<span style=\"color: #000000; text-decoration-color: #000000\">    &lt;id&gt;mol1&lt;</span><span style=\"color: #800080; text-decoration-color: #800080\">/</span><span style=\"color: #ff00ff; text-decoration-color: #ff00ff\">id</span><span style=\"color: #000000; text-decoration-color: #000000\">&gt;</span>\n",
       "<span style=\"color: #000000; text-decoration-color: #000000\">    &lt;name&gt;Molecule </span><span style=\"color: #008080; text-decoration-color: #008080; font-weight: bold\">1</span><span style=\"color: #000000; text-decoration-color: #000000\">&lt;</span><span style=\"color: #800080; text-decoration-color: #800080\">/</span><span style=\"color: #ff00ff; text-decoration-color: #ff00ff\">name</span><span style=\"color: #000000; text-decoration-color: #000000\">&gt;</span>\n",
       "<span style=\"color: #000000; text-decoration-color: #000000\">    &lt;formula&gt;CCO&lt;</span><span style=\"color: #800080; text-decoration-color: #800080\">/</span><span style=\"color: #ff00ff; text-decoration-color: #ff00ff\">formula</span><span style=\"color: #000000; text-decoration-color: #000000\">&gt;</span>\n",
       "<span style=\"color: #000000; text-decoration-color: #000000\">  &lt;</span><span style=\"color: #800080; text-decoration-color: #800080\">/</span><span style=\"color: #ff00ff; text-decoration-color: #ff00ff\">molecules</span><span style=\"color: #000000; text-decoration-color: #000000\">&gt;</span>\n",
       "<span style=\"color: #000000; text-decoration-color: #000000\">  &lt;molecules&gt;</span>\n",
       "<span style=\"color: #000000; text-decoration-color: #000000\">    &lt;id&gt;mol2&lt;</span><span style=\"color: #800080; text-decoration-color: #800080\">/</span><span style=\"color: #ff00ff; text-decoration-color: #ff00ff\">id</span><span style=\"color: #000000; text-decoration-color: #000000\">&gt;</span>\n",
       "<span style=\"color: #000000; text-decoration-color: #000000\">    &lt;name&gt;Molecule </span><span style=\"color: #008080; text-decoration-color: #008080; font-weight: bold\">2</span><span style=\"color: #000000; text-decoration-color: #000000\">&lt;</span><span style=\"color: #800080; text-decoration-color: #800080\">/</span><span style=\"color: #ff00ff; text-decoration-color: #ff00ff\">name</span><span style=\"color: #000000; text-decoration-color: #000000\">&gt;</span>\n",
       "<span style=\"color: #000000; text-decoration-color: #000000\">    &lt;formula&gt;CCN&lt;</span><span style=\"color: #800080; text-decoration-color: #800080\">/</span><span style=\"color: #ff00ff; text-decoration-color: #ff00ff\">formula</span><span style=\"color: #000000; text-decoration-color: #000000\">&gt;</span>\n",
       "<span style=\"color: #000000; text-decoration-color: #000000\">  &lt;</span><span style=\"color: #800080; text-decoration-color: #800080\">/</span><span style=\"color: #ff00ff; text-decoration-color: #ff00ff\">molecules</span><span style=\"color: #000000; text-decoration-color: #000000\">&gt;</span>\n",
       "<span style=\"color: #000000; text-decoration-color: #000000\">  &lt;molecules&gt;</span>\n",
       "<span style=\"color: #000000; text-decoration-color: #000000\">    &lt;id&gt;mol3&lt;</span><span style=\"color: #800080; text-decoration-color: #800080\">/</span><span style=\"color: #ff00ff; text-decoration-color: #ff00ff\">id</span><span style=\"color: #000000; text-decoration-color: #000000\">&gt;</span>\n",
       "<span style=\"color: #000000; text-decoration-color: #000000\">    &lt;name&gt;Molecule </span><span style=\"color: #008080; text-decoration-color: #008080; font-weight: bold\">3</span><span style=\"color: #000000; text-decoration-color: #000000\">&lt;</span><span style=\"color: #800080; text-decoration-color: #800080\">/</span><span style=\"color: #ff00ff; text-decoration-color: #ff00ff\">name</span><span style=\"color: #000000; text-decoration-color: #000000\">&gt;</span>\n",
       "<span style=\"color: #000000; text-decoration-color: #000000\">    &lt;formula&gt;CCC&lt;</span><span style=\"color: #800080; text-decoration-color: #800080\">/</span><span style=\"color: #ff00ff; text-decoration-color: #ff00ff\">formula</span><span style=\"color: #000000; text-decoration-color: #000000\">&gt;</span>\n",
       "<span style=\"color: #000000; text-decoration-color: #000000\">  &lt;</span><span style=\"color: #800080; text-decoration-color: #800080\">/</span><span style=\"color: #ff00ff; text-decoration-color: #ff00ff\">molecules</span><span style=\"color: #000000; text-decoration-color: #000000\">&gt;</span>\n",
       "<span style=\"color: #000000; text-decoration-color: #000000\">  &lt;molecules&gt;</span>\n",
       "<span style=\"color: #000000; text-decoration-color: #000000\">    &lt;id&gt;mol4&lt;</span><span style=\"color: #800080; text-decoration-color: #800080\">/</span><span style=\"color: #ff00ff; text-decoration-color: #ff00ff\">id</span><span style=\"color: #000000; text-decoration-color: #000000\">&gt;</span>\n",
       "<span style=\"color: #000000; text-decoration-color: #000000\">    &lt;name&gt;Molecule </span><span style=\"color: #008080; text-decoration-color: #008080; font-weight: bold\">4</span><span style=\"color: #000000; text-decoration-color: #000000\">&lt;</span><span style=\"color: #800080; text-decoration-color: #800080\">/</span><span style=\"color: #ff00ff; text-decoration-color: #ff00ff\">name</span><span style=\"color: #000000; text-decoration-color: #000000\">&gt;</span>\n",
       "<span style=\"color: #000000; text-decoration-color: #000000\">    &lt;formula&gt;CCO&lt;</span><span style=\"color: #800080; text-decoration-color: #800080\">/</span><span style=\"color: #ff00ff; text-decoration-color: #ff00ff\">formula</span><span style=\"color: #000000; text-decoration-color: #000000\">&gt;</span>\n",
       "<span style=\"color: #000000; text-decoration-color: #000000\">  &lt;</span><span style=\"color: #800080; text-decoration-color: #800080\">/</span><span style=\"color: #ff00ff; text-decoration-color: #ff00ff\">molecules</span><span style=\"color: #000000; text-decoration-color: #000000\">&gt;</span>\n",
       "<span style=\"color: #000000; text-decoration-color: #000000\">  &lt;experiments&gt;</span>\n",
       "<span style=\"color: #000000; text-decoration-color: #000000\">    &lt;id&gt;exp1&lt;</span><span style=\"color: #800080; text-decoration-color: #800080\">/</span><span style=\"color: #ff00ff; text-decoration-color: #ff00ff\">id</span><span style=\"color: #000000; text-decoration-color: #000000\">&gt;</span>\n",
       "<span style=\"color: #000000; text-decoration-color: #000000\">    &lt;initial_concentrations&gt;</span>\n",
       "<span style=\"color: #000000; text-decoration-color: #000000\">      &lt;molecule_id&gt;mol1&lt;</span><span style=\"color: #800080; text-decoration-color: #800080\">/</span><span style=\"color: #ff00ff; text-decoration-color: #ff00ff\">molecule_id</span><span style=\"color: #000000; text-decoration-color: #000000\">&gt;</span>\n",
       "<span style=\"color: #000000; text-decoration-color: #000000\">      &lt;value&gt;</span><span style=\"color: #008080; text-decoration-color: #008080; font-weight: bold\">1.0</span><span style=\"color: #000000; text-decoration-color: #000000\">&lt;</span><span style=\"color: #800080; text-decoration-color: #800080\">/</span><span style=\"color: #ff00ff; text-decoration-color: #ff00ff\">value</span><span style=\"color: #000000; text-decoration-color: #000000\">&gt;</span>\n",
       "<span style=\"color: #000000; text-decoration-color: #000000\">      &lt;unit&gt;mmol/L&lt;</span><span style=\"color: #800080; text-decoration-color: #800080\">/</span><span style=\"color: #ff00ff; text-decoration-color: #ff00ff\">unit</span><span style=\"color: #000000; text-decoration-color: #000000\">&gt;</span>\n",
       "<span style=\"color: #000000; text-decoration-color: #000000\">    &lt;</span><span style=\"color: #800080; text-decoration-color: #800080\">/</span><span style=\"color: #ff00ff; text-decoration-color: #ff00ff\">initial_concentrations</span><span style=\"color: #000000; text-decoration-color: #000000\">&gt;</span>\n",
       "<span style=\"color: #000000; text-decoration-color: #000000\">    &lt;initial_concentrations&gt;</span>\n",
       "<span style=\"color: #000000; text-decoration-color: #000000\">      &lt;molecule_id&gt;mol2&lt;</span><span style=\"color: #800080; text-decoration-color: #800080\">/</span><span style=\"color: #ff00ff; text-decoration-color: #ff00ff\">molecule_id</span><span style=\"color: #000000; text-decoration-color: #000000\">&gt;</span>\n",
       "<span style=\"color: #000000; text-decoration-color: #000000\">      &lt;value&gt;</span><span style=\"color: #008080; text-decoration-color: #008080; font-weight: bold\">2.0</span><span style=\"color: #000000; text-decoration-color: #000000\">&lt;</span><span style=\"color: #800080; text-decoration-color: #800080\">/</span><span style=\"color: #ff00ff; text-decoration-color: #ff00ff\">value</span><span style=\"color: #000000; text-decoration-color: #000000\">&gt;</span>\n",
       "<span style=\"color: #000000; text-decoration-color: #000000\">      &lt;unit&gt;mmol/L&lt;</span><span style=\"color: #800080; text-decoration-color: #800080\">/</span><span style=\"color: #ff00ff; text-decoration-color: #ff00ff\">unit</span><span style=\"color: #000000; text-decoration-color: #000000\">&gt;</span>\n",
       "<span style=\"color: #000000; text-decoration-color: #000000\">    &lt;</span><span style=\"color: #800080; text-decoration-color: #800080\">/</span><span style=\"color: #ff00ff; text-decoration-color: #ff00ff\">initial_concentrations</span><span style=\"color: #000000; text-decoration-color: #000000\">&gt;</span>\n",
       "<span style=\"color: #000000; text-decoration-color: #000000\">    &lt;initial_concentrations&gt;</span>\n",
       "<span style=\"color: #000000; text-decoration-color: #000000\">      &lt;molecule_id&gt;mol3&lt;</span><span style=\"color: #800080; text-decoration-color: #800080\">/</span><span style=\"color: #ff00ff; text-decoration-color: #ff00ff\">molecule_id</span><span style=\"color: #000000; text-decoration-color: #000000\">&gt;</span>\n",
       "<span style=\"color: #000000; text-decoration-color: #000000\">      &lt;value&gt;</span><span style=\"color: #008080; text-decoration-color: #008080; font-weight: bold\">3.0</span><span style=\"color: #000000; text-decoration-color: #000000\">&lt;</span><span style=\"color: #800080; text-decoration-color: #800080\">/</span><span style=\"color: #ff00ff; text-decoration-color: #ff00ff\">value</span><span style=\"color: #000000; text-decoration-color: #000000\">&gt;</span>\n",
       "<span style=\"color: #000000; text-decoration-color: #000000\">      &lt;unit&gt;mmol/L&lt;</span><span style=\"color: #800080; text-decoration-color: #800080\">/</span><span style=\"color: #ff00ff; text-decoration-color: #ff00ff\">unit</span><span style=\"color: #000000; text-decoration-color: #000000\">&gt;</span>\n",
       "<span style=\"color: #000000; text-decoration-color: #000000\">    &lt;</span><span style=\"color: #800080; text-decoration-color: #800080\">/</span><span style=\"color: #ff00ff; text-decoration-color: #ff00ff\">initial_concentrations</span><span style=\"color: #000000; text-decoration-color: #000000\">&gt;</span>\n",
       "<span style=\"color: #000000; text-decoration-color: #000000\">    &lt;initial_concentrations&gt;</span>\n",
       "<span style=\"color: #000000; text-decoration-color: #000000\">      &lt;molecule_id&gt;mol4&lt;</span><span style=\"color: #800080; text-decoration-color: #800080\">/</span><span style=\"color: #ff00ff; text-decoration-color: #ff00ff\">molecule_id</span><span style=\"color: #000000; text-decoration-color: #000000\">&gt;</span>\n",
       "<span style=\"color: #000000; text-decoration-color: #000000\">      &lt;value&gt;</span><span style=\"color: #008080; text-decoration-color: #008080; font-weight: bold\">4.0</span><span style=\"color: #000000; text-decoration-color: #000000\">&lt;</span><span style=\"color: #800080; text-decoration-color: #800080\">/</span><span style=\"color: #ff00ff; text-decoration-color: #ff00ff\">value</span><span style=\"color: #000000; text-decoration-color: #000000\">&gt;</span>\n",
       "<span style=\"color: #000000; text-decoration-color: #000000\">      &lt;unit&gt;mmol/L&lt;</span><span style=\"color: #800080; text-decoration-color: #800080\">/</span><span style=\"color: #ff00ff; text-decoration-color: #ff00ff\">unit</span><span style=\"color: #000000; text-decoration-color: #000000\">&gt;</span>\n",
       "<span style=\"color: #000000; text-decoration-color: #000000\">    &lt;</span><span style=\"color: #800080; text-decoration-color: #800080\">/</span><span style=\"color: #ff00ff; text-decoration-color: #ff00ff\">initial_concentrations</span><span style=\"color: #000000; text-decoration-color: #000000\">&gt;</span>\n",
       "<span style=\"color: #000000; text-decoration-color: #000000\">  &lt;</span><span style=\"color: #800080; text-decoration-color: #800080\">/</span><span style=\"color: #ff00ff; text-decoration-color: #ff00ff\">experiments</span><span style=\"color: #000000; text-decoration-color: #000000\">&gt;</span>\n",
       "<span style=\"color: #000000; text-decoration-color: #000000\">&lt;</span><span style=\"color: #800080; text-decoration-color: #800080\">/</span><span style=\"color: #ff00ff; text-decoration-color: #ff00ff\">ChemicalProject</span><span style=\"font-weight: bold\">&gt;</span>\n",
       "\n",
       "</pre>\n"
      ],
      "text/plain": [
       "\u001b[1m<\u001b[0m\u001b[39m?xml \u001b[0m\u001b[33mversion\u001b[0m\u001b[39m=\u001b[0m\u001b[32m\"1\u001b[0m\u001b[32m.0\"\u001b[0m\u001b[39m ?>\u001b[0m\n",
       "\u001b[39m<ChemicalProject>\u001b[0m\n",
       "\u001b[39m  <title>My Project<\u001b[0m\u001b[35m/\u001b[0m\u001b[95mtitle\u001b[0m\u001b[39m>\u001b[0m\n",
       "\u001b[39m  <molecules>\u001b[0m\n",
       "\u001b[39m    <id>mol1<\u001b[0m\u001b[35m/\u001b[0m\u001b[95mid\u001b[0m\u001b[39m>\u001b[0m\n",
       "\u001b[39m    <name>Molecule \u001b[0m\u001b[1;36m1\u001b[0m\u001b[39m<\u001b[0m\u001b[35m/\u001b[0m\u001b[95mname\u001b[0m\u001b[39m>\u001b[0m\n",
       "\u001b[39m    <formula>CCO<\u001b[0m\u001b[35m/\u001b[0m\u001b[95mformula\u001b[0m\u001b[39m>\u001b[0m\n",
       "\u001b[39m  <\u001b[0m\u001b[35m/\u001b[0m\u001b[95mmolecules\u001b[0m\u001b[39m>\u001b[0m\n",
       "\u001b[39m  <molecules>\u001b[0m\n",
       "\u001b[39m    <id>mol2<\u001b[0m\u001b[35m/\u001b[0m\u001b[95mid\u001b[0m\u001b[39m>\u001b[0m\n",
       "\u001b[39m    <name>Molecule \u001b[0m\u001b[1;36m2\u001b[0m\u001b[39m<\u001b[0m\u001b[35m/\u001b[0m\u001b[95mname\u001b[0m\u001b[39m>\u001b[0m\n",
       "\u001b[39m    <formula>CCN<\u001b[0m\u001b[35m/\u001b[0m\u001b[95mformula\u001b[0m\u001b[39m>\u001b[0m\n",
       "\u001b[39m  <\u001b[0m\u001b[35m/\u001b[0m\u001b[95mmolecules\u001b[0m\u001b[39m>\u001b[0m\n",
       "\u001b[39m  <molecules>\u001b[0m\n",
       "\u001b[39m    <id>mol3<\u001b[0m\u001b[35m/\u001b[0m\u001b[95mid\u001b[0m\u001b[39m>\u001b[0m\n",
       "\u001b[39m    <name>Molecule \u001b[0m\u001b[1;36m3\u001b[0m\u001b[39m<\u001b[0m\u001b[35m/\u001b[0m\u001b[95mname\u001b[0m\u001b[39m>\u001b[0m\n",
       "\u001b[39m    <formula>CCC<\u001b[0m\u001b[35m/\u001b[0m\u001b[95mformula\u001b[0m\u001b[39m>\u001b[0m\n",
       "\u001b[39m  <\u001b[0m\u001b[35m/\u001b[0m\u001b[95mmolecules\u001b[0m\u001b[39m>\u001b[0m\n",
       "\u001b[39m  <molecules>\u001b[0m\n",
       "\u001b[39m    <id>mol4<\u001b[0m\u001b[35m/\u001b[0m\u001b[95mid\u001b[0m\u001b[39m>\u001b[0m\n",
       "\u001b[39m    <name>Molecule \u001b[0m\u001b[1;36m4\u001b[0m\u001b[39m<\u001b[0m\u001b[35m/\u001b[0m\u001b[95mname\u001b[0m\u001b[39m>\u001b[0m\n",
       "\u001b[39m    <formula>CCO<\u001b[0m\u001b[35m/\u001b[0m\u001b[95mformula\u001b[0m\u001b[39m>\u001b[0m\n",
       "\u001b[39m  <\u001b[0m\u001b[35m/\u001b[0m\u001b[95mmolecules\u001b[0m\u001b[39m>\u001b[0m\n",
       "\u001b[39m  <experiments>\u001b[0m\n",
       "\u001b[39m    <id>exp1<\u001b[0m\u001b[35m/\u001b[0m\u001b[95mid\u001b[0m\u001b[39m>\u001b[0m\n",
       "\u001b[39m    <initial_concentrations>\u001b[0m\n",
       "\u001b[39m      <molecule_id>mol1<\u001b[0m\u001b[35m/\u001b[0m\u001b[95mmolecule_id\u001b[0m\u001b[39m>\u001b[0m\n",
       "\u001b[39m      <value>\u001b[0m\u001b[1;36m1.0\u001b[0m\u001b[39m<\u001b[0m\u001b[35m/\u001b[0m\u001b[95mvalue\u001b[0m\u001b[39m>\u001b[0m\n",
       "\u001b[39m      <unit>mmol/L<\u001b[0m\u001b[35m/\u001b[0m\u001b[95munit\u001b[0m\u001b[39m>\u001b[0m\n",
       "\u001b[39m    <\u001b[0m\u001b[35m/\u001b[0m\u001b[95minitial_concentrations\u001b[0m\u001b[39m>\u001b[0m\n",
       "\u001b[39m    <initial_concentrations>\u001b[0m\n",
       "\u001b[39m      <molecule_id>mol2<\u001b[0m\u001b[35m/\u001b[0m\u001b[95mmolecule_id\u001b[0m\u001b[39m>\u001b[0m\n",
       "\u001b[39m      <value>\u001b[0m\u001b[1;36m2.0\u001b[0m\u001b[39m<\u001b[0m\u001b[35m/\u001b[0m\u001b[95mvalue\u001b[0m\u001b[39m>\u001b[0m\n",
       "\u001b[39m      <unit>mmol/L<\u001b[0m\u001b[35m/\u001b[0m\u001b[95munit\u001b[0m\u001b[39m>\u001b[0m\n",
       "\u001b[39m    <\u001b[0m\u001b[35m/\u001b[0m\u001b[95minitial_concentrations\u001b[0m\u001b[39m>\u001b[0m\n",
       "\u001b[39m    <initial_concentrations>\u001b[0m\n",
       "\u001b[39m      <molecule_id>mol3<\u001b[0m\u001b[35m/\u001b[0m\u001b[95mmolecule_id\u001b[0m\u001b[39m>\u001b[0m\n",
       "\u001b[39m      <value>\u001b[0m\u001b[1;36m3.0\u001b[0m\u001b[39m<\u001b[0m\u001b[35m/\u001b[0m\u001b[95mvalue\u001b[0m\u001b[39m>\u001b[0m\n",
       "\u001b[39m      <unit>mmol/L<\u001b[0m\u001b[35m/\u001b[0m\u001b[95munit\u001b[0m\u001b[39m>\u001b[0m\n",
       "\u001b[39m    <\u001b[0m\u001b[35m/\u001b[0m\u001b[95minitial_concentrations\u001b[0m\u001b[39m>\u001b[0m\n",
       "\u001b[39m    <initial_concentrations>\u001b[0m\n",
       "\u001b[39m      <molecule_id>mol4<\u001b[0m\u001b[35m/\u001b[0m\u001b[95mmolecule_id\u001b[0m\u001b[39m>\u001b[0m\n",
       "\u001b[39m      <value>\u001b[0m\u001b[1;36m4.0\u001b[0m\u001b[39m<\u001b[0m\u001b[35m/\u001b[0m\u001b[95mvalue\u001b[0m\u001b[39m>\u001b[0m\n",
       "\u001b[39m      <unit>mmol/L<\u001b[0m\u001b[35m/\u001b[0m\u001b[95munit\u001b[0m\u001b[39m>\u001b[0m\n",
       "\u001b[39m    <\u001b[0m\u001b[35m/\u001b[0m\u001b[95minitial_concentrations\u001b[0m\u001b[39m>\u001b[0m\n",
       "\u001b[39m  <\u001b[0m\u001b[35m/\u001b[0m\u001b[95mexperiments\u001b[0m\u001b[39m>\u001b[0m\n",
       "\u001b[39m<\u001b[0m\u001b[35m/\u001b[0m\u001b[95mChemicalProject\u001b[0m\u001b[1m>\u001b[0m\n",
       "\n"
      ]
     },
     "metadata": {},
     "output_type": "display_data"
    }
   ],
   "source": [
    "# To JSON\n",
    "rich.print(project.model_dump_json(indent=2))\n",
    "\n",
    "# To XML\n",
    "rich.print(project.xml())"
   ]
  },
  {
   "cell_type": "markdown",
   "id": "a8394574",
   "metadata": {},
   "source": [
    "### Conversion\n",
    "\n",
    "The `convert_to` method allows you to convert the generated `Library` (your data model) object to a different format and programming language. For instance, you can convert the object to an XSD schema, Mermaid Class Diagram, or even Rust code."
   ]
  },
  {
   "cell_type": "code",
   "execution_count": 7,
   "id": "0d2c7084",
   "metadata": {},
   "outputs": [],
   "source": [
    "from mdmodels import Templates\n",
    "\n",
    "# Convert to XSD schema\n",
    "with open(\"model.xsd\", \"w\") as f:\n",
    "    f.write(dm.convert_to(Templates.XML_SCHEMA))\n",
    "\n",
    "# Convert to Mermaid Class Diagram\n",
    "with open(\"uml_diagram.md\", \"w\") as f:\n",
    "    f.write(dm.convert_to(Templates.MERMAID))\n",
    "\n",
    "# Convert to Rust code\n",
    "with open(\"model.rs\", \"w\") as f:\n",
    "    f.write(dm.convert_to(Templates.RUST))\n",
    "\n",
    "# Convert to Julia code\n",
    "with open(\"model.jl\", \"w\") as f:\n",
    "    f.write(dm.convert_to(Templates.JULIA))\n"
   ]
  }
 ],
 "metadata": {
  "kernelspec": {
   "display_name": "mdmodels",
   "language": "python",
   "name": "python3"
  },
  "language_info": {
   "codemirror_mode": {
    "name": "ipython",
    "version": 3
   },
   "file_extension": ".py",
   "mimetype": "text/x-python",
   "name": "python",
   "nbconvert_exporter": "python",
   "pygments_lexer": "ipython3",
   "version": "3.12.8"
  }
 },
 "nbformat": 4,
 "nbformat_minor": 5
}
