{
 "cells": [
  {
   "cell_type": "code",
   "id": "initial_id",
   "metadata": {
    "collapsed": true,
    "ExecuteTime": {
     "end_time": "2024-11-26T07:26:55.992443Z",
     "start_time": "2024-11-26T07:26:55.704439Z"
    }
   },
   "source": [
    "import rich\n",
    "\n",
    "from mdmodels import DataModel"
   ],
   "outputs": [],
   "execution_count": 1
  },
  {
   "metadata": {
    "ExecuteTime": {
     "end_time": "2024-11-26T07:26:56.219959Z",
     "start_time": "2024-11-26T07:26:55.995202Z"
    }
   },
   "cell_type": "code",
   "source": [
    "# Parse the markdown file\n",
    "dm = DataModel.from_markdown('model.md')"
   ],
   "id": "d4c105ca6926ea4e",
   "outputs": [],
   "execution_count": 2
  },
  {
   "metadata": {
    "ExecuteTime": {
     "end_time": "2024-11-26T07:26:56.250195Z",
     "start_time": "2024-11-26T07:26:56.248560Z"
    }
   },
   "cell_type": "code",
   "source": [
    "# Use the data model\n",
    "project = dm.ChemicalProject(title='My Project')\n",
    "\n",
    "mol1 = dm.Molecule(name='Molecule 1', smiles='CCO')\n",
    "mol2 = dm.Molecule(name='Molecule 2', smiles='CCN')\n",
    "\n",
    "project.molecules.extend([mol1, mol2])"
   ],
   "id": "37f0d09fafc3edda",
   "outputs": [],
   "execution_count": 3
  },
  {
   "metadata": {
    "ExecuteTime": {
     "end_time": "2024-11-26T07:26:57.294621Z",
     "start_time": "2024-11-26T07:26:57.287605Z"
    }
   },
   "cell_type": "code",
   "source": [
    "# To JSON\n",
    "rich.print(project.model_dump_json(indent=2))"
   ],
   "id": "e0c000059a1bb530",
   "outputs": [
    {
     "data": {
      "text/plain": [
       "\u001B[1m{\u001B[0m\n",
       "  \u001B[32m\"title\"\u001B[0m: \u001B[32m\"My Project\"\u001B[0m,\n",
       "  \u001B[32m\"molecules\"\u001B[0m: \u001B[1m[\u001B[0m\n",
       "    \u001B[1m{\u001B[0m\n",
       "      \u001B[32m\"id\"\u001B[0m: null,\n",
       "      \u001B[32m\"name\"\u001B[0m: \u001B[32m\"Molecule 1\"\u001B[0m,\n",
       "      \u001B[32m\"formula\"\u001B[0m: null\n",
       "    \u001B[1m}\u001B[0m,\n",
       "    \u001B[1m{\u001B[0m\n",
       "      \u001B[32m\"id\"\u001B[0m: null,\n",
       "      \u001B[32m\"name\"\u001B[0m: \u001B[32m\"Molecule 2\"\u001B[0m,\n",
       "      \u001B[32m\"formula\"\u001B[0m: null\n",
       "    \u001B[1m}\u001B[0m\n",
       "  \u001B[1m]\u001B[0m,\n",
       "  \u001B[32m\"reactions\"\u001B[0m: \u001B[1m[\u001B[0m\u001B[1m]\u001B[0m,\n",
       "  \u001B[32m\"experiments\"\u001B[0m: \u001B[1m[\u001B[0m\u001B[1m]\u001B[0m\n",
       "\u001B[1m}\u001B[0m\n"
      ],
      "text/html": [
       "<pre style=\"white-space:pre;overflow-x:auto;line-height:normal;font-family:Menlo,'DejaVu Sans Mono',consolas,'Courier New',monospace\"><span style=\"font-weight: bold\">{</span>\n",
       "  <span style=\"color: #008000; text-decoration-color: #008000\">\"title\"</span>: <span style=\"color: #008000; text-decoration-color: #008000\">\"My Project\"</span>,\n",
       "  <span style=\"color: #008000; text-decoration-color: #008000\">\"molecules\"</span>: <span style=\"font-weight: bold\">[</span>\n",
       "    <span style=\"font-weight: bold\">{</span>\n",
       "      <span style=\"color: #008000; text-decoration-color: #008000\">\"id\"</span>: null,\n",
       "      <span style=\"color: #008000; text-decoration-color: #008000\">\"name\"</span>: <span style=\"color: #008000; text-decoration-color: #008000\">\"Molecule 1\"</span>,\n",
       "      <span style=\"color: #008000; text-decoration-color: #008000\">\"formula\"</span>: null\n",
       "    <span style=\"font-weight: bold\">}</span>,\n",
       "    <span style=\"font-weight: bold\">{</span>\n",
       "      <span style=\"color: #008000; text-decoration-color: #008000\">\"id\"</span>: null,\n",
       "      <span style=\"color: #008000; text-decoration-color: #008000\">\"name\"</span>: <span style=\"color: #008000; text-decoration-color: #008000\">\"Molecule 2\"</span>,\n",
       "      <span style=\"color: #008000; text-decoration-color: #008000\">\"formula\"</span>: null\n",
       "    <span style=\"font-weight: bold\">}</span>\n",
       "  <span style=\"font-weight: bold\">]</span>,\n",
       "  <span style=\"color: #008000; text-decoration-color: #008000\">\"reactions\"</span>: <span style=\"font-weight: bold\">[]</span>,\n",
       "  <span style=\"color: #008000; text-decoration-color: #008000\">\"experiments\"</span>: <span style=\"font-weight: bold\">[]</span>\n",
       "<span style=\"font-weight: bold\">}</span>\n",
       "</pre>\n"
      ]
     },
     "metadata": {},
     "output_type": "display_data"
    }
   ],
   "execution_count": 4
  },
  {
   "metadata": {
    "ExecuteTime": {
     "end_time": "2024-11-26T07:27:00.902950Z",
     "start_time": "2024-11-26T07:27:00.896662Z"
    }
   },
   "cell_type": "code",
   "source": [
    "# To XML\n",
    "rich.print(project.xml())"
   ],
   "id": "4cdc6cb2f4f2b3a0",
   "outputs": [
    {
     "data": {
      "text/plain": [
       "\u001B[1m<\u001B[0m\u001B[39m?xml \u001B[0m\u001B[33mversion\u001B[0m\u001B[39m=\u001B[0m\u001B[32m\"1\u001B[0m\u001B[32m.0\"\u001B[0m\u001B[39m ?>\u001B[0m\n",
       "\u001B[39m<ChemicalProject>\u001B[0m\n",
       "\u001B[39m  <title>My Project<\u001B[0m\u001B[35m/\u001B[0m\u001B[95mtitle\u001B[0m\u001B[39m>\u001B[0m\n",
       "\u001B[39m  <molecules>\u001B[0m\n",
       "\u001B[39m    <id/>\u001B[0m\n",
       "\u001B[39m    <name>Molecule \u001B[0m\u001B[1;36m1\u001B[0m\u001B[39m<\u001B[0m\u001B[35m/\u001B[0m\u001B[95mname\u001B[0m\u001B[39m>\u001B[0m\n",
       "\u001B[39m    <formula/>\u001B[0m\n",
       "\u001B[39m  <\u001B[0m\u001B[35m/\u001B[0m\u001B[95mmolecules\u001B[0m\u001B[39m>\u001B[0m\n",
       "\u001B[39m  <molecules>\u001B[0m\n",
       "\u001B[39m    <id/>\u001B[0m\n",
       "\u001B[39m    <name>Molecule \u001B[0m\u001B[1;36m2\u001B[0m\u001B[39m<\u001B[0m\u001B[35m/\u001B[0m\u001B[95mname\u001B[0m\u001B[39m>\u001B[0m\n",
       "\u001B[39m    <formula/>\u001B[0m\n",
       "\u001B[39m  <\u001B[0m\u001B[35m/\u001B[0m\u001B[95mmolecules\u001B[0m\u001B[39m>\u001B[0m\n",
       "\u001B[39m<\u001B[0m\u001B[35m/\u001B[0m\u001B[95mChemicalProject\u001B[0m\u001B[1m>\u001B[0m\n",
       "\n"
      ],
      "text/html": [
       "<pre style=\"white-space:pre;overflow-x:auto;line-height:normal;font-family:Menlo,'DejaVu Sans Mono',consolas,'Courier New',monospace\"><span style=\"font-weight: bold\">&lt;</span><span style=\"color: #000000; text-decoration-color: #000000\">?xml </span><span style=\"color: #808000; text-decoration-color: #808000\">version</span><span style=\"color: #000000; text-decoration-color: #000000\">=</span><span style=\"color: #008000; text-decoration-color: #008000\">\"1.0\"</span><span style=\"color: #000000; text-decoration-color: #000000\"> ?&gt;</span>\n",
       "<span style=\"color: #000000; text-decoration-color: #000000\">&lt;ChemicalProject&gt;</span>\n",
       "<span style=\"color: #000000; text-decoration-color: #000000\">  &lt;title&gt;My Project&lt;</span><span style=\"color: #800080; text-decoration-color: #800080\">/</span><span style=\"color: #ff00ff; text-decoration-color: #ff00ff\">title</span><span style=\"color: #000000; text-decoration-color: #000000\">&gt;</span>\n",
       "<span style=\"color: #000000; text-decoration-color: #000000\">  &lt;molecules&gt;</span>\n",
       "<span style=\"color: #000000; text-decoration-color: #000000\">    &lt;id/&gt;</span>\n",
       "<span style=\"color: #000000; text-decoration-color: #000000\">    &lt;name&gt;Molecule </span><span style=\"color: #008080; text-decoration-color: #008080; font-weight: bold\">1</span><span style=\"color: #000000; text-decoration-color: #000000\">&lt;</span><span style=\"color: #800080; text-decoration-color: #800080\">/</span><span style=\"color: #ff00ff; text-decoration-color: #ff00ff\">name</span><span style=\"color: #000000; text-decoration-color: #000000\">&gt;</span>\n",
       "<span style=\"color: #000000; text-decoration-color: #000000\">    &lt;formula/&gt;</span>\n",
       "<span style=\"color: #000000; text-decoration-color: #000000\">  &lt;</span><span style=\"color: #800080; text-decoration-color: #800080\">/</span><span style=\"color: #ff00ff; text-decoration-color: #ff00ff\">molecules</span><span style=\"color: #000000; text-decoration-color: #000000\">&gt;</span>\n",
       "<span style=\"color: #000000; text-decoration-color: #000000\">  &lt;molecules&gt;</span>\n",
       "<span style=\"color: #000000; text-decoration-color: #000000\">    &lt;id/&gt;</span>\n",
       "<span style=\"color: #000000; text-decoration-color: #000000\">    &lt;name&gt;Molecule </span><span style=\"color: #008080; text-decoration-color: #008080; font-weight: bold\">2</span><span style=\"color: #000000; text-decoration-color: #000000\">&lt;</span><span style=\"color: #800080; text-decoration-color: #800080\">/</span><span style=\"color: #ff00ff; text-decoration-color: #ff00ff\">name</span><span style=\"color: #000000; text-decoration-color: #000000\">&gt;</span>\n",
       "<span style=\"color: #000000; text-decoration-color: #000000\">    &lt;formula/&gt;</span>\n",
       "<span style=\"color: #000000; text-decoration-color: #000000\">  &lt;</span><span style=\"color: #800080; text-decoration-color: #800080\">/</span><span style=\"color: #ff00ff; text-decoration-color: #ff00ff\">molecules</span><span style=\"color: #000000; text-decoration-color: #000000\">&gt;</span>\n",
       "<span style=\"color: #000000; text-decoration-color: #000000\">&lt;</span><span style=\"color: #800080; text-decoration-color: #800080\">/</span><span style=\"color: #ff00ff; text-decoration-color: #ff00ff\">ChemicalProject</span><span style=\"font-weight: bold\">&gt;</span>\n",
       "\n",
       "</pre>\n"
      ]
     },
     "metadata": {},
     "output_type": "display_data"
    }
   ],
   "execution_count": 5
  }
 ],
 "metadata": {
  "kernelspec": {
   "display_name": "Python 3",
   "language": "python",
   "name": "python3"
  },
  "language_info": {
   "codemirror_mode": {
    "name": "ipython",
    "version": 2
   },
   "file_extension": ".py",
   "mimetype": "text/x-python",
   "name": "python",
   "nbconvert_exporter": "python",
   "pygments_lexer": "ipython2",
   "version": "2.7.6"
  }
 },
 "nbformat": 4,
 "nbformat_minor": 5
}
